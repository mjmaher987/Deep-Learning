{
 "cells": [
  {
   "attachments": {},
   "cell_type": "markdown",
   "metadata": {
    "colab_type": "text",
    "id": "QcJK3kXl--c3"
   },
   "source": [
    "# pytorch and MLP (10 points)\n",
    "\n",
    "### HW1 @ DL Course, Dr. Soleymani\n",
    "\n",
    "*Full Name:* Mohammad Javad Maheronnaghsh\n",
    "\n",
   ]
  },
  {
   "cell_type": "markdown",
   "metadata": {
    "colab_type": "text",
    "id": "kQndOAmiVTO3"
   },
   "source": [
    "# Setup Code\n",
    "Before getting started we need to run some boilerplate code to set up our environment. You'll need to rerun this setup code each time you start the notebook.\n",
    "\n",
    "First, run this cell load the [autoreload](https://ipython.readthedocs.io/en/stable/config/extensions/autoreload.html?highlight=autoreload) extension. This allows us to edit `.py` source files, and re-import them into the notebook for a seamless editing and debugging experience."
   ]
  },
  {
   "cell_type": "code",
   "execution_count": 2,
   "metadata": {
    "colab": {},
    "colab_type": "code",
    "id": "H5PzjwH7VTO4"
   },
   "outputs": [],
   "source": [
    "%load_ext autoreload\n",
    "%autoreload 2"
   ]
  },
  {
   "cell_type": "markdown",
   "metadata": {
    "colab_type": "text",
    "id": "bCtoiSyVVTO8"
   },
   "source": [
    "### Google Colab Setup\n",
    "Next we need to run a few commands to set up our environment on Google Colab. If you are running this notebook on a local machine you can skip this section.\n",
    "\n",
    "Run the following cell to mount your Google Drive. Follow the link, sign in to your Google account (the same account you used to store this notebook!) and copy the authorization code into the text box that appears below."
   ]
  },
  {
   "cell_type": "code",
   "execution_count": null,
   "metadata": {
    "colab": {
     "base_uri": "https://localhost:8080/",
     "height": 122
    },
    "colab_type": "code",
    "id": "tHG0slB6VTO8",
    "outputId": "6a4af12f-e22e-409f-b9f0-7e03da7e3693"
   },
   "outputs": [],
   "source": [
    "from google.colab import drive\n",
    "drive.mount('/content/drive')"
   ]
  },
  {
   "attachments": {},
   "cell_type": "markdown",
   "metadata": {
    "colab_type": "text",
    "id": "UWjXo-vXVTO_"
   },
   "source": [
    "Now recall the path in your Google Drive where you uploaded this notebook, fill it in below. If everything is working correctly then running the folowing cell should print the filenames from the assignment:\n",
    "\n",
    "```\n",
    "['pytorch_basic.py', 'pytorch_basic.ipynb']\n",
    "```"
   ]
  },
  {
   "cell_type": "code",
   "execution_count": null,
   "metadata": {
    "colab": {
     "base_uri": "https://localhost:8080/",
     "height": 54
    },
    "colab_type": "code",
    "id": "KqMvJnNHVTPA",
    "outputId": "50cbb153-f728-4c23-84fc-1c2cf772bba3"
   },
   "outputs": [],
   "source": [
    "import os\n",
    "\n",
    "# TODO: Fill in the Google Drive path where you uploaded the assignment\n",
    "# Example: If you create a 2020FA folder and put all the files under A1 folder, then '2020FA/A1'\n",
    "# GOOGLE_DRIVE_PATH_AFTER_MYDRIVE = '2020FA/A1'\n",
    "GOOGLE_DRIVE_PATH_AFTER_MYDRIVE = None \n",
    "GOOGLE_DRIVE_PATH = os.path.join('drive', 'My Drive', GOOGLE_DRIVE_PATH_AFTER_MYDRIVE)\n",
    "print(os.listdir(GOOGLE_DRIVE_PATH))"
   ]
  },
  {
   "attachments": {},
   "cell_type": "markdown",
   "metadata": {
    "colab_type": "text",
    "id": "ko-wLqHWVTPC"
   },
   "source": [
    "Once you have successfully mounted your Google Drive and located the path to this assignment, run the following cell to allow us to import from the `.py` files of this assignment. If it works correctly, it should print the message:\n",
    "\n",
    "```\n",
    "Hello from pytorch_basic.py!\n",
    "```\n",
    "\n",
    "as well as the last edit time for the file `pytorch_basic.py`."
   ]
  },
  {
   "cell_type": "code",
   "execution_count": null,
   "metadata": {
    "colab": {
     "base_uri": "https://localhost:8080/",
     "height": 51
    },
    "colab_type": "code",
    "id": "1AoThF9eVTPD",
    "outputId": "fca2be9c-1751-43fb-d146-4d114ccddb4f"
   },
   "outputs": [],
   "source": [
    "import sys\n",
    "sys.path.append(GOOGLE_DRIVE_PATH)\n",
    "\n",
    "import time, os\n",
    "os.environ[\"TZ\"] = \"'Asia/Tehran'\"\n",
    "time.tzset()\n",
    "\n",
    "from pytorch_basic import hello\n",
    "hello()\n",
    "\n",
    "pytorch_path = os.path.join(GOOGLE_DRIVE_PATH, 'pytorch_basic.py')\n",
    "edit_time = time.ctime(os.path.getmtime(pytorch_path))\n",
    "print('pytorch_basic.py last edited on %s' % edit_time)"
   ]
  },
  {
   "attachments": {},
   "cell_type": "markdown",
   "metadata": {
    "colab_type": "text",
    "id": "Qc83ETI1a3o9"
   },
   "source": [
    "# Introduction\n",
    "\n",
    "Python 3 and [PyTorch](https://pytorch.org/) will be used throughout the semseter, so it is important to be familiar with them. This material in this notebook draws from http://cs231n.github.io/python-numpy-tutorial/ and https://github.com/kuleshov/cs228-material/blob/master/tutorials/python/cs228-python-tutorial.ipynb. This material focuses mainly on PyTorch.\n",
    "\n",
    "This notebook will walk you through many of the important features of PyTorch that you will need to use throughout the semester. \n",
    "\n",
    "When completing the notebook, please adhere to the following rules:\n",
    "- Do not write or modify any code outside of code blocks\n",
    "- Do not add or delete any cells from the notebook. You may add new cells to perform scatch work, but delete them before submitting.\n",
    "- Run all cells before submitting. You will only get credit for code that has been run.\n",
    "\n",
    "This notebook contains many inline sanity checks for the code you write. However, **passing these sanity checks does not mean your code is correct!** During grading we may run your code on additional inputs, and we may look at your code to make sure you've followed the specific guildelines for each implementation. You are encouraged to write additional test cases for the functions you are asked to write instead of solely relying on the sanity checks in the notebook."
   ]
  },
  {
   "cell_type": "markdown",
   "metadata": {
    "colab_type": "text",
    "id": "1MEmHrgBsgX4"
   },
   "source": [
    "# PyTorch"
   ]
  },
  {
   "cell_type": "markdown",
   "metadata": {
    "colab_type": "text",
    "id": "c3e_Nux0siHo"
   },
   "source": [
    "[PyTorch](https://pytorch.org/) is an open source machine learning framework. At its core, PyTorch provides a few key features:\n",
    "\n",
    "- A multidimensional **Tensor** object, similar to [numpy](https://numpy.org/) but with GPU accelleration.\n",
    "- An optimized **autograd** engine for automatically computing derivatives\n",
    "- A clean, modular API for building and deploying **deep learning models**\n",
    "\n",
    "We will use PyTorch for all programming assignments throughout the semester. This notebook will focus on the **Tensor API**, as it is the main part of PyTorch that we will use for the first few assignments.\n",
    "\n",
    "You can find more information about PyTorch by following one of the [oficial tutorials](https://pytorch.org/tutorials/) or by [reading the documentation](https://pytorch.org/docs/stable/)."
   ]
  },
  {
   "cell_type": "markdown",
   "metadata": {
    "colab_type": "text",
    "id": "zdiO3_y-vKQ9"
   },
   "source": [
    "To use PyTorch, we first need to import the `torch` package.\n",
    "\n",
    "We also check the version; the assignments in this course will use PyTorch verion 1.6.0, since this is the default version in Google Colab."
   ]
  },
  {
   "cell_type": "code",
   "execution_count": 3,
   "metadata": {
    "colab": {
     "base_uri": "https://localhost:8080/",
     "height": 34
    },
    "colab_type": "code",
    "id": "sydFm14itrqq",
    "outputId": "9cd6cf03-6f60-4773-e4bc-d6c2ea0eb035"
   },
   "outputs": [
    {
     "name": "stdout",
     "output_type": "stream",
     "text": [
      "2.0.0+cpu\n"
     ]
    }
   ],
   "source": [
    "import torch\n",
    "print(torch.__version__)"
   ]
  },
  {
   "cell_type": "markdown",
   "metadata": {
    "colab_type": "text",
    "id": "HrBSx6hYu8ca"
   },
   "source": [
    "## Tensor Basics"
   ]
  },
  {
   "cell_type": "markdown",
   "metadata": {
    "colab_type": "text",
    "id": "LWagwmXuvIle"
   },
   "source": [
    "### Creating and Accessing tensors"
   ]
  },
  {
   "cell_type": "markdown",
   "metadata": {
    "colab_type": "text",
    "id": "Bf_SY4RzvAh_"
   },
   "source": [
    "A `torch` **tensor** is a multidimensional grid of values, all of the same type, and is indexed by a tuple of nonnegative integers. The number of dimensions is the **rank** of the tensor; the **shape** of a tensor is a tuple of integers giving the size of the array along each dimension.\n",
    "\n",
    "We can initialize `torch` tensor from nested Python lists. We can access or mutate elements of a PyTorch tensor using square brackets.\n",
    "\n",
    "Accessing an element from a PyTorch tensor returns a PyTorch scalar; we can convert this to a Python scalar using the `.item()` method:"
   ]
  },
  {
   "cell_type": "code",
   "execution_count": 4,
   "metadata": {
    "colab": {
     "base_uri": "https://localhost:8080/",
     "height": 221
    },
    "colab_type": "code",
    "id": "IpwfVUvPu_lF",
    "outputId": "225aa9c5-d19e-43ba-ff93-de7a4cb1627c"
   },
   "outputs": [
    {
     "name": "stdout",
     "output_type": "stream",
     "text": [
      "Here is a:\n",
      "tensor([1, 2, 3])\n",
      "type(a):  <class 'torch.Tensor'>\n",
      "rank of a:  1\n",
      "a.shape:  torch.Size([3])\n",
      "\n",
      "a[0]:  tensor(1)\n",
      "type(a[0]):  <class 'torch.Tensor'>\n",
      "type(a[0].item()):  <class 'int'>\n",
      "\n",
      "a after mutating:\n",
      "tensor([ 1, 10,  3])\n"
     ]
    }
   ],
   "source": [
    "# Create a rank 1 tensor from a Python list\n",
    "a = torch.tensor([1, 2, 3])\n",
    "print('Here is a:')\n",
    "print(a)\n",
    "print('type(a): ', type(a))\n",
    "print('rank of a: ', a.dim())\n",
    "print('a.shape: ', a.shape)\n",
    "\n",
    "# Access elements using square brackets\n",
    "print()\n",
    "print('a[0]: ', a[0])\n",
    "print('type(a[0]): ', type(a[0]))\n",
    "print('type(a[0].item()): ', type(a[0].item()))\n",
    "\n",
    "# Mutate elements using square brackets\n",
    "a[1] = 10\n",
    "print()\n",
    "print('a after mutating:')\n",
    "print(a)"
   ]
  },
  {
   "cell_type": "markdown",
   "metadata": {
    "colab_type": "text",
    "id": "FZq4zsnLEgXH"
   },
   "source": [
    "The example above shows a one-dimensional tensor; we can similarly create tensors with two or more dimensions:"
   ]
  },
  {
   "cell_type": "code",
   "execution_count": 5,
   "metadata": {
    "colab": {
     "base_uri": "https://localhost:8080/",
     "height": 221
    },
    "colab_type": "code",
    "id": "7TcvHxpTFUcL",
    "outputId": "5a32ca36-bcba-435d-e16d-09c60d72939a"
   },
   "outputs": [
    {
     "name": "stdout",
     "output_type": "stream",
     "text": [
      "Here is b:\n",
      "tensor([[1, 2, 3],\n",
      "        [4, 5, 5]])\n",
      "rank of b: 2\n",
      "b.shape:  torch.Size([2, 3])\n",
      "\n",
      "b[0, 1]: tensor(2)\n",
      "b[1, 2]: tensor(5)\n",
      "\n",
      "b after mutating:\n",
      "tensor([[  1,   2,   3],\n",
      "        [  4, 100,   5]])\n"
     ]
    }
   ],
   "source": [
    "# Create a two-dimensional tensor\n",
    "b = torch.tensor([[1, 2, 3], [4, 5, 5]])\n",
    "print('Here is b:')\n",
    "print(b)\n",
    "print('rank of b:', b.dim())\n",
    "print('b.shape: ', b.shape)\n",
    "\n",
    "# Access elements from a multidimensional tensor\n",
    "print()\n",
    "print('b[0, 1]:', b[0, 1])\n",
    "print('b[1, 2]:', b[1, 2])\n",
    "\n",
    "# Mutate elements of a multidimensional tensor\n",
    "b[1, 1] = 100\n",
    "print()\n",
    "print('b after mutating:')\n",
    "print(b)"
   ]
  },
  {
   "attachments": {},
   "cell_type": "markdown",
   "metadata": {
    "colab_type": "text",
    "id": "BBOsvh53GXa8"
   },
   "source": [
    "Now it's **your turn**. In the file `pytorch_basic.py`, complete the implementation of the functions `create_sample_tensor`, `mutate_tensor`, and `count_tensor_elements` to practice constructing, mutating, and thinking about the shapes of tensors."
   ]
  },
  {
   "cell_type": "code",
   "execution_count": 14,
   "metadata": {
    "colab": {
     "base_uri": "https://localhost:8080/",
     "height": 306
    },
    "colab_type": "code",
    "id": "zjCIUzbaVTPs",
    "outputId": "b45e121a-0b85-4956-c901-d7f42eca46b0"
   },
   "outputs": [
    {
     "name": "stdout",
     "output_type": "stream",
     "text": [
      "Here is the sample tensor:\n",
      "tensor([[  0.,  10.],\n",
      "        [100.,   0.],\n",
      "        [  0.,   0.]])\n",
      "\n",
      "After mutating:\n",
      "tensor([[ 4., 10.],\n",
      "        [ 5.,  6.],\n",
      "        [ 0.,  0.]])\n",
      "\n",
      "Correct shape:  True\n",
      "x[0, 0] correct:  True\n",
      "x[1, 0] correct:  True\n",
      "x[1, 1] correct:  True\n",
      "\n",
      "Number of elements in x:  6\n",
      "Correctly counted:  True\n"
     ]
    }
   ],
   "source": [
    "from pytorch_basic import create_sample_tensor, mutate_tensor, count_tensor_elements\n",
    "\n",
    "# Create a sample tensor\n",
    "x = create_sample_tensor()\n",
    "print('Here is the sample tensor:')\n",
    "print(x)\n",
    "\n",
    "# Mutate the tensor by setting a few elements\n",
    "indices = [(0, 0), (1, 0), (1, 1)]\n",
    "values = [4, 5, 6]\n",
    "mutate_tensor(x, indices, values)\n",
    "print('\\nAfter mutating:')\n",
    "print(x)\n",
    "print('\\nCorrect shape: ', x.shape == (3, 2))\n",
    "print('x[0, 0] correct: ', x[0, 0].item() == 4)\n",
    "print('x[1, 0] correct: ', x[1, 0].item() == 5)\n",
    "print('x[1, 1] correct: ', x[1, 1].item() == 6)\n",
    "\n",
    "# Check the number of elements in the sample tensor\n",
    "num = count_tensor_elements(x)\n",
    "print('\\nNumber of elements in x: ', num)\n",
    "print('Correctly counted: ', num == 6)"
   ]
  },
  {
   "cell_type": "markdown",
   "metadata": {
    "colab_type": "text",
    "id": "Yz_VDA3IvP33"
   },
   "source": [
    "### Tensor constructors"
   ]
  },
  {
   "cell_type": "markdown",
   "metadata": {
    "colab_type": "text",
    "id": "BoAlslEdwV-k"
   },
   "source": [
    "PyTorch provides many convenience methods for constructing tensors; this avoids the need to use Python lists. For example:\n",
    "\n",
    "- [`torch.zeros`](https://pytorch.org/docs/1.1.0/torch.html#torch.zeros): Creates a tensor of all zeros\n",
    "- [`torch.ones`](https://pytorch.org/docs/1.1.0/torch.html#torch.ones): Creates a tensor of all ones\n",
    "- [`torch.rand`](https://pytorch.org/docs/1.1.0/torch.html#torch.rand): Creates a tensor with uniform random numbers\n",
    "\n",
    "You can find a full list of tensor creation operations [in the documentation](https://pytorch.org/docs/stable/torch.html#creation-ops)."
   ]
  },
  {
   "cell_type": "code",
   "execution_count": 15,
   "metadata": {
    "colab": {
     "base_uri": "https://localhost:8080/",
     "height": 306
    },
    "colab_type": "code",
    "id": "FL6DXGXzxHBA",
    "outputId": "f8e6b805-ace4-4e9c-ff1d-8e0150fdf8f2"
   },
   "outputs": [
    {
     "name": "stdout",
     "output_type": "stream",
     "text": [
      "tensor of zeros:\n",
      "tensor([[0., 0., 0.],\n",
      "        [0., 0., 0.]])\n",
      "\n",
      "tensor of ones:\n",
      "tensor([[1., 1.]])\n",
      "\n",
      "identity matrix:\n",
      "tensor([[1., 0., 0.],\n",
      "        [0., 1., 0.],\n",
      "        [0., 0., 1.]])\n",
      "\n",
      "random tensor:\n",
      "tensor([[0.7994, 0.5420, 0.8926, 0.7139, 0.3785],\n",
      "        [0.7537, 0.1790, 0.7773, 0.6756, 0.2370],\n",
      "        [0.2237, 0.0293, 0.9236, 0.0634, 0.1950],\n",
      "        [0.2349, 0.2900, 0.3234, 0.4619, 0.6399]])\n"
     ]
    }
   ],
   "source": [
    "# Create a tensor of all zeros\n",
    "a = torch.zeros(2, 3)\n",
    "print('tensor of zeros:')\n",
    "print(a)\n",
    "\n",
    "# Create a tensor of all ones\n",
    "b = torch.ones(1, 2)\n",
    "print('\\ntensor of ones:')\n",
    "print(b)\n",
    "\n",
    "# Create a 3x3 identity matrix\n",
    "c = torch.eye(3)\n",
    "print('\\nidentity matrix:')\n",
    "print(c)\n",
    "\n",
    "# Tensor of random values\n",
    "d = torch.rand(4, 5)\n",
    "print('\\nrandom tensor:')\n",
    "print(d)"
   ]
  },
  {
   "attachments": {},
   "cell_type": "markdown",
   "metadata": {
    "colab_type": "text",
    "id": "y9QuvWYxMsoK"
   },
   "source": [
    "**Your turn**: In the file `pytorch_basic.py`, complete the implementation of `create_tensor_of_pi` to practice using a tensor constructor.\n",
    "\n",
    "Hint: [`torch.full`](https://pytorch.org/docs/stable/generated/torch.full.html#torch.full)"
   ]
  },
  {
   "cell_type": "code",
   "execution_count": 17,
   "metadata": {
    "colab": {
     "base_uri": "https://localhost:8080/",
     "height": 68
    },
    "colab_type": "code",
    "id": "N_y7Z5I0NIaA",
    "outputId": "dd07e76b-dc46-43dc-b5ce-9b3942c193ef"
   },
   "outputs": [
    {
     "name": "stdout",
     "output_type": "stream",
     "text": [
      "x is a tensor: True\n",
      "x has correct shape:  True\n",
      "x is filled with sevens:  True\n"
     ]
    }
   ],
   "source": [
    "from pytorch_basic import create_tensor_of_pi\n",
    "\n",
    "x = create_tensor_of_pi(4, 5)\n",
    "\n",
    "print('x is a tensor:', torch.is_tensor(x))\n",
    "print('x has correct shape: ', x.shape == (4, 5))\n",
    "print('x is filled with sevens: ', (x == 3.14).all().item() == 1)"
   ]
  },
  {
   "cell_type": "markdown",
   "metadata": {
    "colab_type": "text",
    "id": "Rz_hiJD33fu1"
   },
   "source": [
    "### Datatypes"
   ]
  },
  {
   "cell_type": "markdown",
   "metadata": {
    "colab_type": "text",
    "id": "GG1xBunZ3ixx"
   },
   "source": [
    "In the examples above, you may have noticed that some of our tensors contained floating-point values, while others contained integer values.\n",
    "\n",
    "PyTorch provides a [large set of numeric datatypes](https://pytorch.org/docs/stable/tensor_attributes.html#torch.torch.dtype) that you can use to construct tensors. PyTorch tries to guess a datatype when you create a tensor; functions that construct tensors typically have a `dtype` argument that you can use to explicitly specify a datatype.\n",
    "\n",
    "Each tensor has a `dtype` attribute that you can use to check its data type:"
   ]
  },
  {
   "cell_type": "code",
   "execution_count": 25,
   "metadata": {
    "colab": {
     "base_uri": "https://localhost:8080/",
     "height": 255
    },
    "colab_type": "code",
    "id": "vREVDf_n31Qz",
    "outputId": "0fe6ec3a-bf37-40fd-900b-3328402264e3"
   },
   "outputs": [
    {
     "name": "stdout",
     "output_type": "stream",
     "text": [
      "dtype when torch chooses for us:\n",
      "List of integers: torch.int64\n",
      "List of floats: torch.float32\n",
      "Mixed list: torch.float32\n",
      "\n",
      "dtype when we force a datatype:\n",
      "32-bit float:  torch.float32\n",
      "32-bit integer:  torch.int32\n",
      "64-bit integer:  torch.int64\n",
      "\n",
      "torch.ones with different dtypes\n",
      "default dtype: torch.float32\n",
      "16-bit integer: torch.int16\n",
      "8-bit unsigned integer: torch.uint8\n"
     ]
    }
   ],
   "source": [
    "# Let torch choose the datatype\n",
    "x0 = torch.tensor([1, 2])   # List of integers\n",
    "x1 = torch.tensor([1., 2.]) # List of floats\n",
    "x2 = torch.tensor([1., 2])  # Mixed list\n",
    "print('dtype when torch chooses for us:')\n",
    "print('List of integers:', x0.dtype)\n",
    "print('List of floats:', x1.dtype)\n",
    "print('Mixed list:', x2.dtype)\n",
    "\n",
    "# Force a particular datatype\n",
    "y0 = torch.tensor([1, 2], dtype=torch.float32)  # 32-bit float\n",
    "y1 = torch.tensor([1, 2], dtype=torch.int32)    # 32-bit (signed) integer\n",
    "y2 = torch.tensor([1, 2], dtype=torch.int64)    # 64-bit (signed) integer\n",
    "print('\\ndtype when we force a datatype:')\n",
    "print('32-bit float: ', y0.dtype)\n",
    "print('32-bit integer: ', y1.dtype)\n",
    "print('64-bit integer: ', y2.dtype)\n",
    "\n",
    "# Other creation ops also take a dtype argument\n",
    "z0 = torch.ones(1, 2)  # Let torch choose for us\n",
    "z1 = torch.ones(1, 2, dtype=torch.int16) # 16-bit (signed) integer\n",
    "z2 = torch.ones(1, 2, dtype=torch.uint8) # 8-bit (unsigned) integer\n",
    "print('\\ntorch.ones with different dtypes')\n",
    "print('default dtype:', z0.dtype)\n",
    "print('16-bit integer:', z1.dtype)\n",
    "print('8-bit unsigned integer:', z2.dtype)"
   ]
  },
  {
   "cell_type": "markdown",
   "metadata": {
    "colab_type": "text",
    "id": "W2reBgQmx_x4"
   },
   "source": [
    "We can **cast** a tensor to another datatype using the [`.to()`](https://pytorch.org/docs/1.1.0/tensors.html#torch.Tensor.to) method; there are also convenience methods like [`.float()`](https://pytorch.org/docs/1.1.0/tensors.html#torch.Tensor.float) and [`.long()`](https://pytorch.org/docs/1.1.0/tensors.html#torch.Tensor.long) that cast to particular datatypes:\n"
   ]
  },
  {
   "cell_type": "code",
   "execution_count": 19,
   "metadata": {
    "colab": {
     "base_uri": "https://localhost:8080/",
     "height": 102
    },
    "colab_type": "code",
    "id": "sAMpwGsdyHAw",
    "outputId": "c7827373-3b14-4e5b-dddc-c32823eaac10"
   },
   "outputs": [
    {
     "name": "stdout",
     "output_type": "stream",
     "text": [
      "x0: torch.int64\n",
      "x1: torch.float32\n",
      "x2: torch.float64\n",
      "x3: torch.float32\n",
      "x4: torch.float64\n"
     ]
    }
   ],
   "source": [
    "x0 = torch.eye(3, dtype=torch.int64)\n",
    "x1 = x0.float()  # Cast to 32-bit float\n",
    "x2 = x0.double() # Cast to 64-bit float\n",
    "x3 = x0.to(torch.float32) # Alternate way to cast to 32-bit float\n",
    "x4 = x0.to(torch.float64) # Alternate way to cast to 64-bit float\n",
    "print('x0:', x0.dtype)\n",
    "print('x1:', x1.dtype)\n",
    "print('x2:', x2.dtype)\n",
    "print('x3:', x3.dtype)\n",
    "print('x4:', x4.dtype)"
   ]
  },
  {
   "cell_type": "markdown",
   "metadata": {
    "colab_type": "text",
    "id": "k2O8Atl1wMB7"
   },
   "source": [
    "PyTorch provides several ways to create a tensor with the same datatype as another tensor:\n",
    "\n",
    "- PyTorch provides tensor constructors such as [`torch.zeros_like()`](https://pytorch.org/docs/stable/generated/torch.zeros_like.html#torch.zeros_like) that create new tensors with the same shape and type as a given tensor\n",
    "- Tensor objects have instance methods such as [`.new_zeros()`](https://pytorch.org/docs/stable/tensors.html#torch.Tensor.new_zeros) that create tensors the same type but possibly different shapes\n",
    "- The tensor instance method [`.to()`](https://pytorch.org/docs/stable/tensors.html#torch.Tensor.to) can take a tensor as an argument, in which case it casts to the datatype of the argument."
   ]
  },
  {
   "cell_type": "code",
   "execution_count": 20,
   "metadata": {
    "colab": {
     "base_uri": "https://localhost:8080/",
     "height": 85
    },
    "colab_type": "code",
    "id": "1APDsx54xV6p",
    "outputId": "cf885f43-3aec-4236-9ad0-c0a50a8f1892"
   },
   "outputs": [
    {
     "name": "stdout",
     "output_type": "stream",
     "text": [
      "x0 shape is torch.Size([3, 3]), dtype is torch.float64\n",
      "x1 shape is torch.Size([3, 3]), dtype is torch.float64\n",
      "x2 shape is torch.Size([4, 5]), dtype is torch.float64\n",
      "x3 shape is torch.Size([6, 7]), dtype is torch.float64\n"
     ]
    }
   ],
   "source": [
    "x0 = torch.eye(3, dtype=torch.float64)  # Shape (3, 3), dtype torch.float64\n",
    "x1 = torch.zeros_like(x0)               # Shape (3, 3), dtype torch.float64\n",
    "x2 = x0.new_zeros(4, 5)                 # Shape (4, 5), dtype torch.float64\n",
    "x3 = torch.ones(6, 7).to(x0)            # Shape (6, 7), dtype torch.float64)\n",
    "print('x0 shape is %r, dtype is %r' % (x0.shape, x0.dtype))\n",
    "print('x1 shape is %r, dtype is %r' % (x1.shape, x1.dtype))\n",
    "print('x2 shape is %r, dtype is %r' % (x2.shape, x2.dtype))\n",
    "print('x3 shape is %r, dtype is %r' % (x3.shape, x3.dtype))"
   ]
  },
  {
   "attachments": {},
   "cell_type": "markdown",
   "metadata": {
    "colab_type": "text",
    "id": "OPuGPa0v4h_2"
   },
   "source": [
    "**Your turn**: In the file `pytorch_basic.py`, implement the function `multiples_of_ten` which should create and return a tensor of dtype `torch.float64` containing all the multiples of ten in a given range.\n",
    "\n",
    "Hint: [`torch.arange`](https://pytorch.org/docs/stable/generated/torch.arange.html#torch.arange)"
   ]
  },
  {
   "cell_type": "code",
   "execution_count": 26,
   "metadata": {
    "colab": {
     "base_uri": "https://localhost:8080/",
     "height": 119
    },
    "colab_type": "code",
    "id": "Qddo6C5Bgwcr",
    "outputId": "b648a8a7-0c0a-4826-9271-3b568624eac5"
   },
   "outputs": [
    {
     "name": "stdout",
     "output_type": "stream",
     "text": [
      "Correct dtype:  True\n",
      "Correct shape:  True\n",
      "Correct values:  True\n",
      "\n",
      "Correct dtype:  True\n",
      "Correct shape:  True\n"
     ]
    }
   ],
   "source": [
    "from pytorch_basic import multiples_of_ten\n",
    "\n",
    "start = 5\n",
    "stop = 25\n",
    "x = multiples_of_ten(start, stop)\n",
    "print('Correct dtype: ', x.dtype == torch.float64)\n",
    "print('Correct shape: ', x.shape == (2,))\n",
    "print('Correct values: ', x.tolist() == [10, 20])\n",
    "\n",
    "# If there are no multiples of ten in the given range you should return an empty tensor\n",
    "start = 5\n",
    "stop = 7\n",
    "x = multiples_of_ten(start, stop)\n",
    "print('\\nCorrect dtype: ', x.dtype == torch.float64)\n",
    "print('Correct shape: ', x.shape == (0,))"
   ]
  },
  {
   "cell_type": "markdown",
   "metadata": {
    "colab_type": "text",
    "id": "RwJL3HVySvXn"
   },
   "source": [
    "Even though PyTorch provides a large number of numeric datatypes, the most commonly used datatypes are:\n",
    "\n",
    "- `torch.float32`: Standard floating-point type; used to store learnable parameters, network activations, etc. Nearly all arithmetic is done using this type.\n",
    "- `torch.int64`: Typically used to store indices\n",
    "- `torch.bool`: Stores boolean values: 0 is false and 1 is true\n",
    "- `torch.float16`: Used for mixed-precision arithmetic, usually on NVIDIA GPUs with [tensor cores](https://www.nvidia.com/en-us/data-center/tensorcore/). You won't need to worry about this datatype in this course."
   ]
  },
  {
   "cell_type": "markdown",
   "metadata": {
    "colab_type": "text",
    "id": "rlANfnILvX3S"
   },
   "source": [
    "## Tensor indexing"
   ]
  },
  {
   "cell_type": "markdown",
   "metadata": {
    "colab_type": "text",
    "id": "KP4dRrHhyLO5"
   },
   "source": [
    "We have already seen how to get and set individual elements of PyTorch tensors. PyTorch also provides many other ways of indexing into tensors. Getting comfortable with these different options makes it easy to modify different parts of tensors with ease."
   ]
  },
  {
   "cell_type": "markdown",
   "metadata": {
    "colab_type": "text",
    "id": "mo-PoTWNvbba"
   },
   "source": [
    "### Slice indexing"
   ]
  },
  {
   "cell_type": "markdown",
   "metadata": {
    "colab_type": "text",
    "id": "qUqTYvglyVLc"
   },
   "source": [
    "Similar to Python lists and numpy arrays, PyTorch tensors can be **sliced** using the syntax `start:stop` or `start:stop:step`. The `stop` index is always non-inclusive: it is the first element not to be included in the slice.\n",
    "\n",
    "Start and stop indices can be negative, in which case they count backward from the end of the tensor."
   ]
  },
  {
   "cell_type": "code",
   "execution_count": 27,
   "metadata": {
    "colab": {
     "base_uri": "https://localhost:8080/",
     "height": 153
    },
    "colab_type": "code",
    "id": "yEr5BzdUdCtZ",
    "outputId": "625e2a90-361f-4057-a81b-96e54658ae0c"
   },
   "outputs": [
    {
     "name": "stdout",
     "output_type": "stream",
     "text": [
      "0 tensor([ 0, 11, 22, 33, 44, 55, 66])\n",
      "1 tensor([22, 33, 44])\n",
      "2 tensor([22, 33, 44, 55, 66])\n",
      "3 tensor([ 0, 11, 22, 33, 44])\n",
      "4 tensor([ 0, 11, 22, 33, 44, 55, 66])\n",
      "5 tensor([11, 33])\n",
      "6 tensor([ 0, 11, 22, 33, 44, 55])\n",
      "7 tensor([33, 55])\n"
     ]
    }
   ],
   "source": [
    "a = torch.tensor([0, 11, 22, 33, 44, 55, 66])\n",
    "print(0, a)        # (0) Original tensor\n",
    "print(1, a[2:5])   # (1) Elements between index 2 and 5\n",
    "print(2, a[2:])    # (2) Elements after index 2\n",
    "print(3, a[:5])    # (3) Elements before index 5\n",
    "print(4, a[:])     # (4) All elements\n",
    "print(5, a[1:5:2]) # (5) Every second element between indices 1 and 5\n",
    "print(6, a[:-1])   # (6) All but the last element\n",
    "print(7, a[-4::2]) # (7) Every second element, starting from the fourth-last"
   ]
  },
  {
   "cell_type": "markdown",
   "metadata": {
    "colab_type": "text",
    "id": "yrcr9PojgTS1"
   },
   "source": [
    "For multidimensional tensors, you can provide a slice or integer for each dimension of the tensor in order to extract different types of subtensors:"
   ]
  },
  {
   "cell_type": "code",
   "execution_count": 29,
   "metadata": {
    "colab": {
     "base_uri": "https://localhost:8080/",
     "height": 425
    },
    "colab_type": "code",
    "id": "S5fOdjTUyhNf",
    "outputId": "004af7cd-e612-4711-ae72-c9eae663a24c"
   },
   "outputs": [
    {
     "name": "stdout",
     "output_type": "stream",
     "text": [
      "Original tensor:\n",
      "tensor([[ 1,  2,  3,  4],\n",
      "        [ 5,  6,  7,  8],\n",
      "        [ 9, 10, 11, 12]])\n",
      "shape:  torch.Size([3, 4])\n",
      "\n",
      "Single row:\n",
      "tensor([5, 6, 7, 8])\n",
      "tensor([5, 6, 7, 8])\n",
      "shape:  torch.Size([4])\n",
      "\n",
      "Single column:\n",
      "tensor([ 2,  6, 10])\n",
      "shape:  torch.Size([3])\n",
      "\n",
      "First two rows, last two columns:\n",
      "tensor([[2, 3, 4],\n",
      "        [6, 7, 8]])\n",
      "shape:  torch.Size([2, 3])\n",
      "\n",
      "Every other row, middle columns:\n",
      "tensor([[ 2,  3],\n",
      "        [10, 11]])\n",
      "shape:  torch.Size([2, 2])\n"
     ]
    }
   ],
   "source": [
    "# Create the following rank 2 tensor with shape (3, 4)\n",
    "# [[ 1  2  3  4]\n",
    "#  [ 5  6  7  8]\n",
    "#  [ 9 10 11 12]]\n",
    "a = torch.tensor([[1,2,3,4], [5,6,7,8], [9,10,11,12]])\n",
    "print('Original tensor:')\n",
    "print(a)\n",
    "print('shape: ', a.shape)\n",
    "\n",
    "# Get row 1, and all columns. \n",
    "print('\\nSingle row:')\n",
    "print(a[1, :])\n",
    "print(a[1])  # Gives the same result; we can omit : for trailing dimensions\n",
    "print('shape: ', a[1].shape)\n",
    "\n",
    "print('\\nSingle column:')\n",
    "print(a[:, 1])\n",
    "print('shape: ', a[:, 1].shape)\n",
    "\n",
    "# Get the first two rows and the last three columns\n",
    "print('\\nFirst two rows, last two columns:')\n",
    "print(a[:2, -3:])\n",
    "print('shape: ', a[:2, -3:].shape)\n",
    "\n",
    "# Get every other row, and columns at index 1 and 2\n",
    "print('\\nEvery other row, middle columns:')\n",
    "print(a[::2, 1:3])\n",
    "print('shape: ', a[::2, 1:3].shape)"
   ]
  },
  {
   "cell_type": "markdown",
   "metadata": {
    "colab_type": "text",
    "id": "gOsR8Pdertku"
   },
   "source": [
    "There are two common ways to access a single row or column of a tensor: using an integer will reduce the rank by one, and using a length-one slice will keep the same rank. Note that this is different behavior from MATLAB."
   ]
  },
  {
   "cell_type": "code",
   "execution_count": 37,
   "metadata": {
    "colab": {
     "base_uri": "https://localhost:8080/",
     "height": 255
    },
    "colab_type": "code",
    "id": "P1kHcc5jsF-c",
    "outputId": "096907d3-0871-4dbb-96d7-e824d06e7d88"
   },
   "outputs": [
    {
     "name": "stdout",
     "output_type": "stream",
     "text": [
      "Original tensor\n",
      "tensor([[ 1,  2,  3,  4],\n",
      "        [ 5,  6,  7,  8],\n",
      "        [ 9, 10, 11, 12]])\n",
      "\n",
      "Two ways of accessing a single row:\n",
      "tensor([5, 6, 7, 8]) torch.Size([4])\n",
      "tensor([[5, 6, 7, 8]]) torch.Size([1, 4])\n",
      "\n",
      "Two ways of accessing a single column:\n",
      "tensor([ 2,  6, 10]) torch.Size([3])\n",
      "tensor([[ 2],\n",
      "        [ 6],\n",
      "        [10]]) torch.Size([3, 1])\n"
     ]
    }
   ],
   "source": [
    "# Create the following rank 2 tensor with shape (3, 4)\n",
    "a = torch.tensor([[1,2,3,4], [5,6,7,8], [9,10,11,12]])\n",
    "print('Original tensor')\n",
    "print(a)\n",
    "\n",
    "row_r1 = a[1, :]    # Rank 1 view of the second row of a  \n",
    "row_r2 = a[1:2, :]  # Rank 2 view of the second row of a\n",
    "print('\\nTwo ways of accessing a single row:')\n",
    "print(row_r1, row_r1.shape)\n",
    "print(row_r2, row_r2.shape)\n",
    "\n",
    "# We can make the same distinction when accessing columns::\n",
    "col_r1 = a[:, 1]\n",
    "col_r2 = a[:, 1:2]\n",
    "print('\\nTwo ways of accessing a single column:')\n",
    "print(col_r1, col_r1.shape)\n",
    "print(col_r2, col_r2.shape)"
   ]
  },
  {
   "cell_type": "markdown",
   "metadata": {
    "colab_type": "text",
    "id": "Jk625fJfyxV8"
   },
   "source": [
    "Slicing a tensor returns a **view** into the same data, so modifying it will also modify the original tensor. To avoid this, you can use the `clone()` method to make a copy of a tensor."
   ]
  },
  {
   "cell_type": "code",
   "execution_count": 31,
   "metadata": {
    "colab": {
     "base_uri": "https://localhost:8080/",
     "height": 221
    },
    "colab_type": "code",
    "id": "IXbikYPwyxGA",
    "outputId": "be7d4881-0a65-49c8-dbf3-d49064414bf9"
   },
   "outputs": [
    {
     "name": "stdout",
     "output_type": "stream",
     "text": [
      "Before mutating:\n",
      "tensor([[1, 2, 3, 4],\n",
      "        [5, 6, 7, 8]])\n",
      "tensor([2, 3, 4])\n",
      "tensor([2, 3, 4])\n",
      "\n",
      "After mutating:\n",
      "tensor([[ 1, 20, 30,  4],\n",
      "        [ 5,  6,  7,  8]])\n",
      "tensor([20, 30,  4])\n",
      "tensor([ 2,  3, 40])\n",
      "False\n"
     ]
    },
    {
     "name": "stderr",
     "output_type": "stream",
     "text": [
      "C:\\Users\\mjmah\\AppData\\Local\\Temp\\ipykernel_18148\\3860217186.py:18: UserWarning: TypedStorage is deprecated. It will be removed in the future and UntypedStorage will be the only storage class. This should only matter to you if you are using storages directly.  To access UntypedStorage directly, use tensor.untyped_storage() instead of tensor.storage()\n",
      "  print(a.storage().data_ptr() == c.storage().data_ptr())\n"
     ]
    }
   ],
   "source": [
    "# Create a tensor, a slice, and a clone of a slice\n",
    "a = torch.tensor([[1, 2, 3, 4], [5, 6, 7, 8]])\n",
    "b = a[0, 1:]\n",
    "c = a[0, 1:].clone()\n",
    "print('Before mutating:')\n",
    "print(a)\n",
    "print(b)\n",
    "print(c)\n",
    "\n",
    "a[0, 1] = 20  # a[0, 1] and b[0] point to the same element\n",
    "b[1] = 30     # b[1] and a[0, 2] point to the same element\n",
    "c[2] = 40     # c is a clone, so it has its own data\n",
    "print('\\nAfter mutating:')\n",
    "print(a)\n",
    "print(b)\n",
    "print(c)\n",
    "\n",
    "print(a.storage().data_ptr() == c.storage().data_ptr())"
   ]
  },
  {
   "attachments": {},
   "cell_type": "markdown",
   "metadata": {
    "colab_type": "text",
    "id": "5t5omyKwm9dB"
   },
   "source": [
    "**Your turn**: In the file `pytorch_basic.py`, implement the function `slice_indexing_practice` to practice indexing tensors with different types of slices."
   ]
  },
  {
   "cell_type": "code",
   "execution_count": 32,
   "metadata": {
    "colab": {},
    "colab_type": "code",
    "id": "yKq2mswvqMmw"
   },
   "outputs": [],
   "source": [
    "# We will use this helper function to check your results\n",
    "def check(orig, actual, expected):\n",
    "    if not torch.is_tensor(actual):\n",
    "        return False\n",
    "    expected = torch.tensor(expected)\n",
    "    same_elements = (actual == expected).all().item()\n",
    "    same_storage = (orig.storage().data_ptr() == actual.storage().data_ptr())\n",
    "    return same_elements and same_storage"
   ]
  },
  {
   "cell_type": "code",
   "execution_count": 41,
   "metadata": {
    "colab": {
     "base_uri": "https://localhost:8080/",
     "height": 357
    },
    "colab_type": "code",
    "id": "5-5UtVXPVTQL",
    "outputId": "22c5e69e-2d2e-42cb-feaa-c533c91f6be2"
   },
   "outputs": [
    {
     "name": "stdout",
     "output_type": "stream",
     "text": [
      "last_row:\n",
      "tensor([11, 12, 13, 14, 15])\n",
      "Correct: False\n",
      "\n",
      "third_col:\n",
      "tensor([[ 3],\n",
      "        [ 8],\n",
      "        [13]])\n",
      "Correct: False\n",
      "\n",
      "first_two_rows_three_cols:\n",
      "tensor([[1, 2, 3],\n",
      "        [6, 7, 8]])\n",
      "Correct: False\n",
      "\n",
      "even_rows_odd_cols:\n",
      "tensor([[ 2,  4],\n",
      "        [12, 14]])\n",
      "Correct: False\n",
      "\n"
     ]
    },
    {
     "name": "stderr",
     "output_type": "stream",
     "text": [
      "C:\\Users\\mjmah\\AppData\\Local\\Temp\\ipykernel_18148\\3768904491.py:7: UserWarning: TypedStorage is deprecated. It will be removed in the future and UntypedStorage will be the only storage class. This should only matter to you if you are using storages directly.  To access UntypedStorage directly, use tensor.untyped_storage() instead of tensor.storage()\n",
      "  same_storage = (orig.storage().data_ptr() == actual.storage().data_ptr())\n"
     ]
    }
   ],
   "source": [
    "from pytorch_basic import slice_indexing_practice\n",
    "\n",
    "# Create the following rank 2 tensor of shape (3, 5)\n",
    "# [[ 1  2  3  4  5]\n",
    "#  [ 6  7  8  9 10]\n",
    "#  [11 12 13 14 15]]\n",
    "x = torch.tensor([[1, 2, 3, 4, 5], [6, 7, 8, 8, 10], [11, 12, 13, 14, 15]])\n",
    "out = slice_indexing_practice(x)\n",
    "\n",
    "last_row = out[0]\n",
    "print('last_row:')\n",
    "print(last_row)\n",
    "correct = check(x, last_row, [11, 12, 13, 14, 15])\n",
    "print('Correct: %r\\n' % correct)\n",
    "\n",
    "third_col = out[1]\n",
    "print('third_col:')\n",
    "print(third_col)\n",
    "correct = check(x, third_col, [[3], [8], [13]])\n",
    "print('Correct: %r\\n' % correct)\n",
    "\n",
    "first_two_rows_three_cols = out[2]\n",
    "print('first_two_rows_three_cols:')\n",
    "print(first_two_rows_three_cols)\n",
    "correct = check(x, first_two_rows_three_cols, [[1, 2, 3], [6, 7, 8]])\n",
    "print('Correct: %r\\n' % correct)\n",
    "\n",
    "even_rows_odd_cols = out[3]\n",
    "print('even_rows_odd_cols:')\n",
    "print(even_rows_odd_cols)\n",
    "correct = check(x, even_rows_odd_cols, [[2, 4], [12, 14]])\n",
    "print('Correct: %r\\n' % correct)\n",
    "\n",
    "# TODO: What is the cause of the warning?"
   ]
  },
  {
   "cell_type": "markdown",
   "metadata": {
    "colab_type": "text",
    "id": "RNjhLwb0xY2A"
   },
   "source": [
    "So far we have used slicing to **access** subtensors; we can also use slicing to **modify** subtensors by writing assignment expressions where the left-hand side is a slice expression, and the right-hand side is a constant or a tensor of the correct shape:"
   ]
  },
  {
   "cell_type": "code",
   "execution_count": 42,
   "metadata": {
    "colab": {
     "base_uri": "https://localhost:8080/",
     "height": 51
    },
    "colab_type": "code",
    "id": "DFnky42Rx2I5",
    "outputId": "9c463108-a4cd-4814-8631-6a0c1604133b"
   },
   "outputs": [
    {
     "name": "stdout",
     "output_type": "stream",
     "text": [
      "tensor([[1, 1, 2, 3],\n",
      "        [1, 1, 4, 5]])\n"
     ]
    }
   ],
   "source": [
    "a = torch.zeros(2, 4, dtype=torch.int64)\n",
    "a[:, :2] = 1\n",
    "a[:, 2:] = torch.tensor([[2, 3], [4, 5]])\n",
    "print(a)"
   ]
  },
  {
   "attachments": {},
   "cell_type": "markdown",
   "metadata": {
    "colab_type": "text",
    "id": "HPVCQ5HszihV"
   },
   "source": [
    "**Your turn**: in the file `pytorch_basic.py`, implement the function `slice_assignment_practice` to practice modifying tensors with slicing assignment statements.\n",
    "\n",
    "This function should use slicing assignment operations to modify the first four rows and first six columns of the input tensor so they are equal to\n",
    "\n",
    "$$\n",
    "\\begin{bmatrix}\n",
    "0 & 1 & 2 & 2 & 2 & 2 \\\\\n",
    "0 & 1 & 2 & 2 & 2 & 2 \\\\\n",
    "3 & 4 & 3 & 4 & 5 & 5 \\\\\n",
    "3 & 4 & 3 & 4 & 5 & 5 \\\\\n",
    "\\end{bmatrix}\n",
    "$$\n",
    "\n",
    "Your implementation must obey the following:\n",
    "- You should mutate the tensor x in-place and return it\n",
    "- You should only modify the first 4 rows and first 6 columns; all other\n",
    "elements should remain unchanged\n",
    "- You may only mutate the tensor using slice assignment operations, where you\n",
    "assign an integer to a slice of the tensor\n",
    "- You must use <= 6 slicing operations to achieve the desired result"
   ]
  },
  {
   "cell_type": "code",
   "execution_count": 44,
   "metadata": {
    "colab": {
     "base_uri": "https://localhost:8080/",
     "height": 238
    },
    "colab_type": "code",
    "id": "FzXlnFqAVTQQ",
    "outputId": "4a9f2caf-0835-45f6-e1cb-afd5f25e10ad"
   },
   "outputs": [
    {
     "name": "stdout",
     "output_type": "stream",
     "text": [
      "Here is x before calling slice_assignment_practice:\n",
      "tensor([[0, 0, 0, 0, 0, 0, 0],\n",
      "        [0, 0, 0, 0, 0, 0, 0],\n",
      "        [0, 0, 0, 0, 0, 0, 0],\n",
      "        [0, 0, 0, 0, 0, 0, 0],\n",
      "        [0, 0, 0, 0, 0, 0, 0]])\n",
      "Here is x after calling slice assignment practice:\n",
      "tensor([[0, 1, 2, 2, 2, 2, 0],\n",
      "        [0, 1, 2, 2, 2, 2, 0],\n",
      "        [3, 4, 3, 4, 5, 5, 0],\n",
      "        [3, 4, 3, 4, 5, 5, 0],\n",
      "        [0, 0, 0, 0, 0, 0, 0]])\n",
      "Correct:  True\n"
     ]
    }
   ],
   "source": [
    "from pytorch_basic import slice_assignment_practice\n",
    "\n",
    "x = torch.zeros(5, 7, dtype=torch.int64)\n",
    "print('Here is x before calling slice_assignment_practice:')\n",
    "print(x)\n",
    "slice_assignment_practice(x)\n",
    "print('Here is x after calling slice assignment practice:')\n",
    "print(x)\n",
    "\n",
    "expected = [\n",
    "    [0, 1, 2, 2, 2, 2, 0],\n",
    "    [0, 1, 2, 2, 2, 2, 0],\n",
    "    [3, 4, 3, 4, 5, 5, 0],\n",
    "    [3, 4, 3, 4, 5, 5, 0],\n",
    "    [0, 0, 0, 0, 0, 0, 0],\n",
    "]\n",
    "print('Correct: ', x.tolist() == expected)\n",
    "\n",
    "# TODO: what does it mean by using >= 6 and so on?"
   ]
  },
  {
   "cell_type": "markdown",
   "metadata": {
    "colab_type": "text",
    "id": "4y93rPhGveWw"
   },
   "source": [
    "### Integer tensor indexing"
   ]
  },
  {
   "cell_type": "markdown",
   "metadata": {
    "colab_type": "text",
    "id": "GlTyhjEN0AIE"
   },
   "source": [
    "When you index into torch tensor using slicing, the resulting tensor view will always be a subarray of the original tensor. This is powerful, but can be restrictive.\n",
    "\n",
    "We can also use **index arrays** to index tensors; this lets us construct new tensors with a lot more flexibility than using slices.\n",
    "\n",
    "As an example, we can use index arrays to reorder the rows or columns of a tensor:"
   ]
  },
  {
   "cell_type": "code",
   "execution_count": 45,
   "metadata": {
    "colab": {
     "base_uri": "https://localhost:8080/",
     "height": 289
    },
    "colab_type": "code",
    "id": "IXePPNkjM_SD",
    "outputId": "309a5e74-701b-4c8c-e7fc-70f3754ba266"
   },
   "outputs": [
    {
     "name": "stdout",
     "output_type": "stream",
     "text": [
      "Original tensor:\n",
      "tensor([[ 1,  2,  3,  4],\n",
      "        [ 5,  6,  7,  8],\n",
      "        [ 9, 10, 11, 12]])\n",
      "\n",
      "Reordered rows:\n",
      "tensor([[ 1,  2,  3,  4],\n",
      "        [ 1,  2,  3,  4],\n",
      "        [ 9, 10, 11, 12],\n",
      "        [ 5,  6,  7,  8],\n",
      "        [ 5,  6,  7,  8]])\n",
      "\n",
      "Reordered columns:\n",
      "tensor([[ 4,  3,  2,  1],\n",
      "        [ 8,  7,  6,  5],\n",
      "        [12, 11, 10,  9]])\n"
     ]
    }
   ],
   "source": [
    "# Create the following rank 2 tensor with shape (3, 4)\n",
    "# [[ 1  2  3  4]\n",
    "#  [ 5  6  7  8]\n",
    "#  [ 9 10 11 12]]\n",
    "a = torch.tensor([[1, 2, 3, 4], [5, 6, 7, 8], [9, 10, 11, 12]])\n",
    "print('Original tensor:')\n",
    "print(a)\n",
    "\n",
    "# Create a new tensor of shape (5, 4) by reordering rows from a:\n",
    "# - First two rows same as the first row of a\n",
    "# - Third row is the same as the last row of a\n",
    "# - Fourth and fifth rows are the same as the second row from a\n",
    "idx = [0, 0, 2, 1, 1]  # index arrays can be Python lists of integers\n",
    "print('\\nReordered rows:')\n",
    "print(a[idx])\n",
    "\n",
    "# Create a new tensor of shape (3, 4) by reversing the columns from a\n",
    "idx = torch.tensor([3, 2, 1, 0])  # Index arrays can be int64 torch tensors\n",
    "print('\\nReordered columns:')\n",
    "print(a[:, idx])"
   ]
  },
  {
   "cell_type": "markdown",
   "metadata": {
    "colab_type": "text",
    "id": "CpIBR1bCQji6"
   },
   "source": [
    "More generally, given index arrays `idx0` and `idx1` with `N` elements each, `a[idx0, idx1]` is equivalent to:\n",
    "\n",
    "```\n",
    "torch.tensor([\n",
    "  a[idx0[0], idx1[0]],\n",
    "  a[idx0[1], idx1[1]],\n",
    "  ...,\n",
    "  a[idx0[N - 1], idx1[N - 1]]\n",
    "])\n",
    "```\n",
    "\n",
    "(A similar pattern extends to tensors with more than two dimensions)\n",
    "\n",
    "We can for example use this to get or set the diagonal of a tensor:"
   ]
  },
  {
   "cell_type": "code",
   "execution_count": 46,
   "metadata": {
    "colab": {
     "base_uri": "https://localhost:8080/",
     "height": 221
    },
    "colab_type": "code",
    "id": "ocIR8R5ZSEaP",
    "outputId": "abc73d35-be7c-478c-81c4-15bbcbd434ce"
   },
   "outputs": [
    {
     "name": "stdout",
     "output_type": "stream",
     "text": [
      "Original tensor:\n",
      "tensor([[1, 2, 3],\n",
      "        [4, 5, 6],\n",
      "        [7, 8, 9]])\n",
      "\n",
      "Get the diagonal:\n",
      "tensor([1, 5, 9])\n",
      "\n",
      "After setting the diagonal:\n",
      "tensor([[11,  2,  3],\n",
      "        [ 4, 22,  6],\n",
      "        [ 7,  8, 33]])\n"
     ]
    }
   ],
   "source": [
    "a = torch.tensor([[1, 2, 3], [4, 5, 6], [7, 8, 9]])\n",
    "print('Original tensor:')\n",
    "print(a)\n",
    "\n",
    "idx = [0, 1, 2]\n",
    "print('\\nGet the diagonal:')\n",
    "print(a[idx, idx])\n",
    "\n",
    "# Modify the diagonal\n",
    "a[idx, idx] = torch.tensor([11, 22, 33])\n",
    "print('\\nAfter setting the diagonal:')\n",
    "print(a)"
   ]
  },
  {
   "cell_type": "markdown",
   "metadata": {
    "colab_type": "text",
    "id": "O-cr-EqA0vfO"
   },
   "source": [
    "One useful trick with integer array indexing is selecting or mutating one element from each row or column of a matrix:"
   ]
  },
  {
   "cell_type": "code",
   "execution_count": 48,
   "metadata": {
    "colab": {
     "base_uri": "https://localhost:8080/",
     "height": 255
    },
    "colab_type": "code",
    "id": "HWA8E8iI0x17",
    "outputId": "3065adbe-9274-4759-b11e-62680f3f2ec0"
   },
   "outputs": [
    {
     "name": "stdout",
     "output_type": "stream",
     "text": [
      "Original tensor:\n",
      "tensor([[ 1,  2,  3],\n",
      "        [ 4,  5,  6],\n",
      "        [ 7,  8,  9],\n",
      "        [10, 11, 12]])\n",
      "tensor([0, 1, 2, 3])\n",
      "\n",
      "Select one element from each row:\n",
      "tensor([ 2,  6,  8, 10])\n",
      "\n",
      "After modifying one element from each row:\n",
      "tensor([[ 1,  0,  3],\n",
      "        [ 4,  5,  0],\n",
      "        [ 7,  0,  9],\n",
      "        [ 0, 11, 12]])\n"
     ]
    }
   ],
   "source": [
    "# Create a new tensor from which we will select elements\n",
    "a = torch.tensor([[1, 2, 3], [4, 5, 6], [7, 8, 9], [10, 11, 12]])\n",
    "print('Original tensor:')\n",
    "print(a)\n",
    "\n",
    "# Take on element from each row of a:\n",
    "# from row 0, take element 1;\n",
    "# from row 1, take element 2;\n",
    "# from row 2, take element 1;\n",
    "# from row 3, take element 0\n",
    "idx0 = torch.arange(a.shape[0])  # Quick way to build [0, 1, 2, 3]\n",
    "idx1 = torch.tensor([1, 2, 1, 0])\n",
    "print('\\nSelect one element from each row:')\n",
    "print(a[idx0, idx1])\n",
    "\n",
    "# Now set each of those elements to zero\n",
    "a[idx0, idx1] = 0\n",
    "print('\\nAfter modifying one element from each row:')\n",
    "print(a)"
   ]
  },
  {
   "attachments": {},
   "cell_type": "markdown",
   "metadata": {
    "colab_type": "text",
    "id": "s5_-WUmSVEoR"
   },
   "source": [
    "**Your turn**: in the file `pytorch_basic.py`, implement the functions `shuffle_cols`, `reverse_rows`, and `take_one_elem_per_col` to practice using integer indexing to manipulate tensors. In each of these functions, your implementation should construct the output tensor **using a single indexing operation on the input**."
   ]
  },
  {
   "cell_type": "code",
   "execution_count": 62,
   "metadata": {
    "colab": {
     "base_uri": "https://localhost:8080/",
     "height": 408
    },
    "colab_type": "code",
    "id": "FX05_ov5VTQZ",
    "outputId": "62f1afbf-551c-433d-ccb0-412e99877e78"
   },
   "outputs": [
    {
     "name": "stdout",
     "output_type": "stream",
     "text": [
      "Here is x:\n",
      "tensor([[ 1,  2,  3],\n",
      "        [ 4,  5,  6],\n",
      "        [ 7,  8,  9],\n",
      "        [10, 11, 12]])\n",
      "\n",
      "Here is shuffle_cols(x):\n",
      "tensor([[ 1.,  1.,  3.,  2.],\n",
      "        [ 4.,  4.,  6.,  5.],\n",
      "        [ 7.,  7.,  9.,  8.],\n",
      "        [10., 10., 12., 11.]])\n",
      "Correct: True\n",
      "\n",
      "Here is reverse_rows(x):\n",
      "tensor([[10, 11, 12],\n",
      "        [ 7,  8,  9],\n",
      "        [ 4,  5,  6],\n",
      "        [ 1,  2,  3]])\n",
      "Correct: True\n",
      "\n",
      "Here is take_one_elem_per_col(x):\n",
      "tensor([ 4,  2, 12])\n",
      "Correct: True\n"
     ]
    }
   ],
   "source": [
    "from pytorch_basic import shuffle_cols, reverse_rows, take_one_elem_per_col\n",
    "\n",
    "# Build a tensor of shape (4, 3):\n",
    "# [[ 1,  2,  3],\n",
    "#  [ 4,  5,  6],\n",
    "#  [ 7,  8,  9],\n",
    "#  [10, 11, 12]]\n",
    "x = torch.tensor([[1, 2, 3], [4, 5, 6], [7, 8, 9], [10, 11, 12]])\n",
    "print('Here is x:')\n",
    "print(x)\n",
    "\n",
    "y1 = shuffle_cols(x)\n",
    "print('\\nHere is shuffle_cols(x):')\n",
    "print(y1)\n",
    "expected = [[1, 1, 3, 2], [4, 4, 6, 5], [7, 7, 9, 8], [10, 10, 12, 11]]\n",
    "y1_correct = torch.is_tensor(y1) and y1.tolist() == expected\n",
    "print('Correct: %r\\n' % y1_correct)\n",
    "\n",
    "y2 = reverse_rows(x)\n",
    "print('Here is reverse_rows(x):')\n",
    "print(y2)\n",
    "expected = [[10, 11, 12], [7, 8, 9], [4, 5, 6], [1, 2, 3]]\n",
    "y2_correct = torch.is_tensor(y2) and y2.tolist() == expected\n",
    "print('Correct: %r\\n' % y2_correct)\n",
    "\n",
    "y3 = take_one_elem_per_col(x)\n",
    "print('Here is take_one_elem_per_col(x):')\n",
    "print(y3)\n",
    "expected = [4, 2, 12]\n",
    "y3_correct = torch.is_tensor(y3) and y3.tolist() == expected\n",
    "print('Correct: %r' % y3_correct)"
   ]
  },
  {
   "cell_type": "markdown",
   "metadata": {
    "colab_type": "text",
    "id": "oGt8ZPb_vixw"
   },
   "source": [
    "### Boolean tensor indexing"
   ]
  },
  {
   "cell_type": "markdown",
   "metadata": {
    "colab_type": "text",
    "id": "6CkQaRj01xmU"
   },
   "source": [
    "Boolean tensor indexing lets you pick out arbitrary elements of a tensor according to a boolean mask. Frequently this type of indexing is used to select or modify the elements of a tensor that satisfy some condition.\n",
    "\n",
    "In PyTorch, we use tensors of dtype `torch.bool` to hold boolean masks.\n",
    "\n",
    "(Prior to version 1.2.0, there was no `torch.bool` type so instead `torch.uint8` was usually used to represent boolean data, with 0 indicating false and 1 indicating true. Watch out for this in older PyTorch code!)"
   ]
  },
  {
   "cell_type": "code",
   "execution_count": 63,
   "metadata": {
    "colab": {
     "base_uri": "https://localhost:8080/",
     "height": 306
    },
    "colab_type": "code",
    "id": "29Zf7rb82Dkd",
    "outputId": "e6456a7b-713f-4850-d049-d57b0fd20a80"
   },
   "outputs": [
    {
     "name": "stdout",
     "output_type": "stream",
     "text": [
      "Original tensor:\n",
      "tensor([[1, 2],\n",
      "        [3, 4],\n",
      "        [5, 6]])\n",
      "\n",
      "Mask tensor:\n",
      "tensor([[False, False],\n",
      "        [False,  True],\n",
      "        [ True,  True]])\n",
      "\n",
      "Selecting elements with the mask:\n",
      "tensor([4, 5, 6])\n",
      "\n",
      "After modifying with a mask:\n",
      "tensor([[0, 0],\n",
      "        [0, 4],\n",
      "        [5, 6]])\n"
     ]
    }
   ],
   "source": [
    "a = torch.tensor([[1,2], [3, 4], [5, 6]])\n",
    "print('Original tensor:')\n",
    "print(a)\n",
    "\n",
    "# Find the elements of a that are bigger than 3. The mask has the same shape as\n",
    "# a, where each element of mask tells whether the corresponding element of a\n",
    "# is greater than three.\n",
    "mask = (a > 3)\n",
    "print('\\nMask tensor:')\n",
    "print(mask)\n",
    "\n",
    "# We can use the mask to construct a rank-1 tensor containing the elements of a\n",
    "# that are selected by the mask\n",
    "print('\\nSelecting elements with the mask:')\n",
    "print(a[mask])\n",
    "\n",
    "# We can also use boolean masks to modify tensors; for example this sets all\n",
    "# elements <= 3 to zero:\n",
    "a[a <= 3] = 0\n",
    "print('\\nAfter modifying with a mask:')\n",
    "print(a)"
   ]
  },
  {
   "attachments": {},
   "cell_type": "markdown",
   "metadata": {
    "colab_type": "text",
    "id": "LtSmmMGodrTX"
   },
   "source": [
    "**Your turn**: In the file `pytorch_basic.py`, implement the function `count_negative_entries` which counts the number of negative entries in a torch tensor. You can easily accomplish this using boolean tensor indexing. Your implementation should perform only a single indexing operation on the input tensor."
   ]
  },
  {
   "cell_type": "code",
   "execution_count": 68,
   "metadata": {
    "colab": {
     "base_uri": "https://localhost:8080/",
     "height": 68
    },
    "colab_type": "code",
    "id": "2hkeYXN9d5xh",
    "outputId": "964e70a5-c21a-46de-9490-a06aeaf37133"
   },
   "outputs": [
    {
     "name": "stdout",
     "output_type": "stream",
     "text": [
      "Correct for x0:  True\n",
      "Correct for x1:  True\n",
      "Correct for x2:  True\n"
     ]
    }
   ],
   "source": [
    "from pytorch_basic import count_negative_entries\n",
    "\n",
    "# Make a few test cases\n",
    "torch.manual_seed(598)\n",
    "x0 = torch.tensor([[-1, -1, 0], [0, 1, 2], [3, 4, 5]])\n",
    "x1 = torch.tensor([0, 1, 2, 3])\n",
    "x2 = torch.randn(100, 100)\n",
    "print('Correct for x0: ', count_negative_entries(x0) == 2)\n",
    "print('Correct for x1: ', count_negative_entries(x1) == 0)\n",
    "print('Correct for x2: ', count_negative_entries(x2) == 4984)"
   ]
  },
  {
   "cell_type": "markdown",
   "metadata": {
    "colab_type": "text",
    "id": "Q68ZApgH31W9"
   },
   "source": [
    "Now implement the function `make_one_hot` that creates a matrix of **one-hot vectors** from a list of Python integers.\n",
    "\n",
    "A one-hot vector for an integer $n$ is a vector that has a one in its $n$th slot, and zeros in all other slots. One-hot vectors are commonly used to represent categorical variables in machine learning models.\n",
    "\n",
    "For example, given a list `[1, 4, 3, 2]` of integers, your function should produce the tensor:\n",
    "\n",
    "```\n",
    "[[0 1 0 0 0],\n",
    " [0 0 0 0 1],\n",
    " [0 0 0 1 0],\n",
    " [0 0 1 0 0]]\n",
    "```\n",
    "\n",
    "Here the first row corresponds to the first element of the list: it has a one at index 1, and zeros at all other indices. The second row corresponds to the second element of the list: it has a one at index 4, and zeros at all other indices. The other rows follow the same pattern. The output has just enough columns so that none of the rows go out-of-bounds: the largest index in the input is 4, so the output matrix has 5 columns."
   ]
  },
  {
   "cell_type": "code",
   "execution_count": 72,
   "metadata": {
    "colab": {
     "base_uri": "https://localhost:8080/",
     "height": 272
    },
    "colab_type": "code",
    "id": "jaT1kuQ37Rsq",
    "outputId": "b0dda448-e981-45ae-d785-acc25cd88d9c"
   },
   "outputs": [
    {
     "name": "stdout",
     "output_type": "stream",
     "text": [
      "tensor([[0., 0., 0., 0., 0.],\n",
      "        [0., 0., 0., 0., 0.],\n",
      "        [0., 0., 0., 0., 0.],\n",
      "        [0., 0., 0., 0., 0.]])\n",
      "Here is y0:\n",
      "tensor([[0., 1., 0., 0., 0.],\n",
      "        [0., 0., 0., 0., 1.],\n",
      "        [0., 0., 0., 1., 0.],\n",
      "        [0., 0., 1., 0., 0.]])\n",
      "y0 correct:  True\n",
      "tensor([[0., 0., 0., 0., 0., 0., 0., 0.],\n",
      "        [0., 0., 0., 0., 0., 0., 0., 0.],\n",
      "        [0., 0., 0., 0., 0., 0., 0., 0.],\n",
      "        [0., 0., 0., 0., 0., 0., 0., 0.],\n",
      "        [0., 0., 0., 0., 0., 0., 0., 0.],\n",
      "        [0., 0., 0., 0., 0., 0., 0., 0.]])\n",
      "\n",
      "Here is y1:\n",
      "tensor([[0., 1., 0., 0., 0., 0., 0., 0.],\n",
      "        [0., 0., 0., 1., 0., 0., 0., 0.],\n",
      "        [0., 0., 0., 0., 0., 1., 0., 0.],\n",
      "        [0., 0., 0., 0., 0., 0., 0., 1.],\n",
      "        [0., 0., 0., 0., 0., 0., 1., 0.],\n",
      "        [0., 0., 1., 0., 0., 0., 0., 0.]])\n",
      "y1 correct:  True\n"
     ]
    }
   ],
   "source": [
    "from pytorch_basic import make_one_hot\n",
    "\n",
    "def check_one_hot(x, y):\n",
    "    C = y.shape[1]\n",
    "    for i, n in enumerate(x):\n",
    "        if n >= C: return False\n",
    "        for j in range(C):\n",
    "            expected = 1.0 if j == n else 0.0\n",
    "            if y[i, j].item() != expected: return False\n",
    "        return True\n",
    "      \n",
    "x0 = [1, 4, 3, 2]\n",
    "y0 = make_one_hot(x0)\n",
    "print('Here is y0:')\n",
    "print(y0)\n",
    "print('y0 correct: ', check_one_hot(x0, y0))\n",
    "\n",
    "x1 = [1, 3, 5, 7, 6, 2]\n",
    "y1 = make_one_hot(x1)\n",
    "print('\\nHere is y1:')\n",
    "print(y1)\n",
    "print('y1 correct: ', check_one_hot(x1, y1))"
   ]
  },
  {
   "cell_type": "markdown",
   "metadata": {
    "colab_type": "text",
    "id": "Ad-xqELwyqpN"
   },
   "source": [
    "## Reshaping operations"
   ]
  },
  {
   "cell_type": "markdown",
   "metadata": {
    "colab_type": "text",
    "id": "Ql9_eXuU4OG8"
   },
   "source": [
    "### View"
   ]
  },
  {
   "cell_type": "markdown",
   "metadata": {
    "colab_type": "text",
    "id": "xfPb_2BY0HKw"
   },
   "source": [
    "PyTorch provides many ways to manipulate the shapes of tensors. The simplest example is [`.view()`](https://pytorch.org/docs/1.1.0/tensors.html#torch.Tensor.view): This returns a new tensor with the same number of elements as its input, but with a different shape.\n",
    "\n",
    "We can use `.view()` to flatten matrices into vectors, and to convert rank-1 vectors into rank-2 row or column matrices:"
   ]
  },
  {
   "cell_type": "code",
   "execution_count": 73,
   "metadata": {
    "colab": {
     "base_uri": "https://localhost:8080/",
     "height": 544
    },
    "colab_type": "code",
    "id": "kw-M7C_61FZK",
    "outputId": "406ffd88-74c2-4988-9e8d-8461d621a629"
   },
   "outputs": [
    {
     "name": "stdout",
     "output_type": "stream",
     "text": [
      "Original tensor:\n",
      "tensor([[1, 2, 3, 4],\n",
      "        [5, 6, 7, 8]])\n",
      "shape: torch.Size([2, 4])\n",
      "\n",
      "Flattened tensor:\n",
      "tensor([1, 2, 3, 4, 5, 6, 7, 8])\n",
      "shape: torch.Size([8])\n",
      "\n",
      "Row vector:\n",
      "tensor([[1, 2, 3, 4, 5, 6, 7, 8]])\n",
      "shape: torch.Size([1, 8])\n",
      "\n",
      "Column vector:\n",
      "tensor([[1],\n",
      "        [2],\n",
      "        [3],\n",
      "        [4],\n",
      "        [5],\n",
      "        [6],\n",
      "        [7],\n",
      "        [8]])\n",
      "shape: torch.Size([8, 1])\n",
      "\n",
      "Rank 3 tensor:\n",
      "tensor([[[1, 2],\n",
      "         [3, 4]],\n",
      "\n",
      "        [[5, 6],\n",
      "         [7, 8]]])\n",
      "shape: torch.Size([2, 2, 2])\n"
     ]
    }
   ],
   "source": [
    "x0 = torch.tensor([[1, 2, 3, 4], [5, 6, 7, 8]])\n",
    "print('Original tensor:')\n",
    "print(x0)\n",
    "print('shape:', x0.shape)\n",
    "\n",
    "# Flatten x0 into a rank 1 vector of shape (8,)\n",
    "x1 = x0.view(8)\n",
    "print('\\nFlattened tensor:')\n",
    "print(x1)\n",
    "print('shape:', x1.shape)\n",
    "\n",
    "# Convert x1 to a rank 2 \"row vector\" of shape (1, 8)\n",
    "x2 = x1.view(1, 8)\n",
    "print('\\nRow vector:')\n",
    "print(x2)\n",
    "print('shape:', x2.shape)\n",
    "\n",
    "# Convert x1 to a rank 2 \"column vector\" of shape (8, 1)\n",
    "x3 = x1.view(8, 1)\n",
    "print('\\nColumn vector:')\n",
    "print(x3)\n",
    "print('shape:', x3.shape)\n",
    "\n",
    "# Convert x1 to a rank 3 tensor of shape (2, 2, 2):\n",
    "x4 = x1.view(2, 2, 2)\n",
    "print('\\nRank 3 tensor:')\n",
    "print(x4)\n",
    "print('shape:', x4.shape)"
   ]
  },
  {
   "cell_type": "markdown",
   "metadata": {
    "colab_type": "text",
    "id": "eHsZ8BPF2PEq"
   },
   "source": [
    "As a convenience, calls to `.view()` may include a single -1 argument; this puts enough elements on that dimension so that the output has the same shape as the input. This makes it easy to write some reshape operations in a way that is agnostic to the shape of the tensor:"
   ]
  },
  {
   "cell_type": "code",
   "execution_count": 74,
   "metadata": {
    "colab": {
     "base_uri": "https://localhost:8080/",
     "height": 272
    },
    "colab_type": "code",
    "id": "qNWu-R_J2qFY",
    "outputId": "e3479783-3f4a-44b6-d06e-28cdf6aa4176"
   },
   "outputs": [
    {
     "name": "stdout",
     "output_type": "stream",
     "text": [
      "x0:\n",
      "tensor([[1, 2, 3],\n",
      "        [4, 5, 6]])\n",
      "x0_flat:\n",
      "tensor([1, 2, 3, 4, 5, 6])\n",
      "x0_row:\n",
      "tensor([[1, 2, 3, 4, 5, 6]])\n",
      "\n",
      "x1:\n",
      "tensor([[1, 2],\n",
      "        [3, 4]])\n",
      "x1_flat:\n",
      "tensor([1, 2, 3, 4])\n",
      "x1_row:\n",
      "tensor([[1, 2, 3, 4]])\n"
     ]
    }
   ],
   "source": [
    "# We can reuse these functions for tensors of different shapes\n",
    "def flatten(x):\n",
    "    return x.view(-1)\n",
    "\n",
    "def make_row_vec(x):\n",
    "    return x.view(1, -1)\n",
    "\n",
    "x0 = torch.tensor([[1, 2, 3], [4, 5, 6]])\n",
    "x0_flat = flatten(x0)\n",
    "x0_row = make_row_vec(x0)\n",
    "print('x0:')\n",
    "print(x0)\n",
    "print('x0_flat:')\n",
    "print(x0_flat)\n",
    "print('x0_row:')\n",
    "print(x0_row)\n",
    "\n",
    "x1 = torch.tensor([[1, 2], [3, 4]])\n",
    "x1_flat = flatten(x1)\n",
    "x1_row = make_row_vec(x1)\n",
    "print('\\nx1:')\n",
    "print(x1)\n",
    "print('x1_flat:')\n",
    "print(x1_flat)\n",
    "print('x1_row:')\n",
    "print(x1_row)"
   ]
  },
  {
   "cell_type": "markdown",
   "metadata": {
    "colab_type": "text",
    "id": "DK-ZB5aB2NPq"
   },
   "source": [
    "As its name implies, a tensor returned by `.view()` shares the same data as the input, so changes to one will affect the other and vice-versa:"
   ]
  },
  {
   "cell_type": "code",
   "execution_count": 75,
   "metadata": {
    "colab": {
     "base_uri": "https://localhost:8080/",
     "height": 204
    },
    "colab_type": "code",
    "id": "ebT99rUo2McN",
    "outputId": "51b6203b-7a3c-42c3-9028-0e1f28477c75"
   },
   "outputs": [
    {
     "name": "stdout",
     "output_type": "stream",
     "text": [
      "x before modifying:\n",
      "tensor([[1, 2, 3],\n",
      "        [4, 5, 6]])\n",
      "x_flat before modifying:\n",
      "tensor([1, 2, 3, 4, 5, 6])\n",
      "\n",
      "x after modifying:\n",
      "tensor([[10, 20,  3],\n",
      "        [ 4,  5,  6]])\n",
      "x_flat after modifying:\n",
      "tensor([10, 20,  3,  4,  5,  6])\n"
     ]
    }
   ],
   "source": [
    "x = torch.tensor([[1, 2, 3], [4, 5, 6]])\n",
    "x_flat = x.view(-1)\n",
    "print('x before modifying:')\n",
    "print(x)\n",
    "print('x_flat before modifying:')\n",
    "print(x_flat)\n",
    "\n",
    "x[0, 0] = 10   # x[0, 0] and x_flat[0] point to the same data\n",
    "x_flat[1] = 20 # x_flat[1] and x[0, 1] point to the same data\n",
    "\n",
    "print('\\nx after modifying:')\n",
    "print(x)\n",
    "print('x_flat after modifying:')\n",
    "print(x_flat)"
   ]
  },
  {
   "cell_type": "markdown",
   "metadata": {
    "colab_type": "text",
    "id": "Z150qBob4Wkz"
   },
   "source": [
    "### Swapping axes"
   ]
  },
  {
   "cell_type": "markdown",
   "metadata": {
    "colab_type": "text",
    "id": "TCMDxbyBys78"
   },
   "source": [
    "Another common reshape operation you might want to perform is transposing a matrix. You might be surprised if you try to transpose a matrix with `.view()`: The `view()` function takes elements in row-major order, so **you cannot transpose matrices with `.view()`**.\n",
    "\n",
    "In general, you should only use `.view()` to add new dimensions to a tensor, or to collapse adjacent dimensions of a tensor.\n",
    "\n",
    "For other types of reshape operations, you usually need to use a function that can swap axes of a tensor. The simplest such function is `.t()`, specificially for transposing matrices. It is available both as a [function in the `torch` module](https://pytorch.org/docs/stable/generated/torch.t.html#torch.t), and as a [tensor instance method](https://pytorch.org/docs/stable/tensors.html#torch.Tensor.t):"
   ]
  },
  {
   "cell_type": "code",
   "execution_count": 76,
   "metadata": {
    "colab": {
     "base_uri": "https://localhost:8080/",
     "height": 289
    },
    "colab_type": "code",
    "id": "o_B4NuX6zQm-",
    "outputId": "19269c4b-0995-48f4-bdf3-3610e631a507"
   },
   "outputs": [
    {
     "name": "stdout",
     "output_type": "stream",
     "text": [
      "Original matrix:\n",
      "tensor([[1, 2, 3],\n",
      "        [4, 5, 6]])\n",
      "\n",
      "Transposing with view DOES NOT WORK!\n",
      "tensor([[1, 2],\n",
      "        [3, 4],\n",
      "        [5, 6]])\n",
      "\n",
      "Transposed matrix:\n",
      "tensor([[1, 4],\n",
      "        [2, 5],\n",
      "        [3, 6]])\n",
      "tensor([[1, 4],\n",
      "        [2, 5],\n",
      "        [3, 6]])\n"
     ]
    }
   ],
   "source": [
    "x = torch.tensor([[1, 2, 3], [4, 5, 6]])\n",
    "print('Original matrix:')\n",
    "print(x)\n",
    "print('\\nTransposing with view DOES NOT WORK!')\n",
    "print(x.view(3, 2))\n",
    "print('\\nTransposed matrix:')\n",
    "print(torch.t(x))\n",
    "print(x.t())"
   ]
  },
  {
   "cell_type": "markdown",
   "metadata": {
    "colab_type": "text",
    "id": "RN93xo98zn0v"
   },
   "source": [
    "For tensors with more than two dimensions, we can use the function [`torch.transpose`](https://pytorch.org/docs/stable/generated/torch.transpose.html#torch.transpose) to swap arbitrary dimensions, or the [`.permute`](https://pytorch.org/docs/stable/tensors.html#torch.Tensor.permute) method to arbitrarily permute dimensions:"
   ]
  },
  {
   "cell_type": "code",
   "execution_count": 87,
   "metadata": {
    "colab": {
     "base_uri": "https://localhost:8080/",
     "height": 663
    },
    "colab_type": "code",
    "id": "XgN7YB8YzzkA",
    "outputId": "11f0e22e-836f-45fd-bd14-f8a9a8551643"
   },
   "outputs": [
    {
     "name": "stdout",
     "output_type": "stream",
     "text": [
      "Original tensor:\n",
      "tensor([[[ 1,  2,  3,  4],\n",
      "         [ 5,  6,  7,  8],\n",
      "         [ 9, 10, 11, 12]],\n",
      "\n",
      "        [[13, 14, 15, 16],\n",
      "         [17, 18, 19, 20],\n",
      "         [21, 22, 23, 24]]])\n",
      "shape: torch.Size([2, 3, 4])\n",
      "\n",
      "Swap axes 1 and 2:\n",
      "tensor([[[ 1,  5,  9],\n",
      "         [ 2,  6, 10],\n",
      "         [ 3,  7, 11],\n",
      "         [ 4,  8, 12]],\n",
      "\n",
      "        [[13, 17, 21],\n",
      "         [14, 18, 22],\n",
      "         [15, 19, 23],\n",
      "         [16, 20, 24]]])\n",
      "torch.Size([2, 4, 3])\n",
      "\n",
      "Permute axes\n",
      "tensor([[[ 1, 13],\n",
      "         [ 2, 14],\n",
      "         [ 3, 15],\n",
      "         [ 4, 16]],\n",
      "\n",
      "        [[ 5, 17],\n",
      "         [ 6, 18],\n",
      "         [ 7, 19],\n",
      "         [ 8, 20]],\n",
      "\n",
      "        [[ 9, 21],\n",
      "         [10, 22],\n",
      "         [11, 23],\n",
      "         [12, 24]]])\n",
      "shape: torch.Size([3, 4, 2])\n"
     ]
    }
   ],
   "source": [
    "# Create a tensor of shape (2, 3, 4)\n",
    "x0 = torch.tensor([\n",
    "     [[1,  2,  3,  4],\n",
    "      [5,  6,  7,  8],\n",
    "      [9, 10, 11, 12]],\n",
    "     [[13, 14, 15, 16],\n",
    "      [17, 18, 19, 20],\n",
    "      [21, 22, 23, 24]]])\n",
    "print('Original tensor:')\n",
    "print(x0)\n",
    "print('shape:', x0.shape)\n",
    "\n",
    "# Swap axes 1 and 2; shape is (2, 4, 3)\n",
    "x1 = x0.transpose(1, 2)\n",
    "print('\\nSwap axes 1 and 2:')\n",
    "print(x1)\n",
    "print(x1.shape)\n",
    "\n",
    "# Permute axes; the argument (1, 2, 0) means:\n",
    "# - Make the old dimension 1 appear at dimension 0;\n",
    "# - Make the old dimension 2 appear at dimension 1;\n",
    "# - Make the old dimension 0 appear at dimension 2\n",
    "# This results in a tensor of shape (3, 4, 2)\n",
    "x2 = x0.permute(1, 2, 0)\n",
    "print('\\nPermute axes')\n",
    "print(x2)\n",
    "print('shape:', x2.shape)"
   ]
  },
  {
   "cell_type": "markdown",
   "metadata": {
    "colab_type": "text",
    "id": "f4SJCVbf-bZ0"
   },
   "source": [
    "### Contiguous tensors"
   ]
  },
  {
   "cell_type": "markdown",
   "metadata": {
    "colab_type": "text",
    "id": "ubOOujO_-pQT"
   },
   "source": [
    "Some combinations of reshaping operations will fail with cryptic errors. The exact reasons for this have to do with the way that tensors and views of tensors are implemented, and are beyond the scope of this assignment. However if you're curious, [this blog post by Edward Yang](http://blog.ezyang.com/2019/05/pytorch-internals/) gives a clear explanation of the problem.\n",
    "\n",
    "What you need to know is that you can typically overcome these sorts of errors by either by calling [`.contiguous()`](https://pytorch.org/docs/stable/tensors.html#torch.Tensor.contiguous) before `.view()`, or by using [`.reshape()`](https://pytorch.org/docs/stable/generated/torch.reshape.html#torch.reshape) instead of `.view()`."
   ]
  },
  {
   "cell_type": "code",
   "execution_count": 78,
   "metadata": {
    "colab": {
     "base_uri": "https://localhost:8080/",
     "height": 88
    },
    "colab_type": "code",
    "id": "YGC6NERq_CT9",
    "outputId": "7e4f113c-ed1a-42ee-c6b6-c8ee82b59e9b"
   },
   "outputs": [
    {
     "name": "stdout",
     "output_type": "stream",
     "text": [
      "<class 'RuntimeError'> view size is not compatible with input tensor's size and stride (at least one dimension spans across two contiguous subspaces). Use .reshape(...) instead.\n",
      "x1 shape:  torch.Size([8, 3])\n",
      "x2 shape:  torch.Size([8, 3])\n"
     ]
    }
   ],
   "source": [
    "x0 = torch.randn(2, 3, 4)\n",
    "\n",
    "try:\n",
    "  # This sequence of reshape operations will crash\n",
    "  x1 = x0.transpose(1, 2).view(8, 3)\n",
    "except RuntimeError as e:\n",
    "  print(type(e), e)\n",
    "  \n",
    "# We can solve the problem using either .contiguous() or .reshape()\n",
    "x1 = x0.transpose(1, 2).contiguous().view(8, 3)\n",
    "x2 = x0.transpose(1, 2).reshape(8, 3)\n",
    "print('x1 shape: ', x1.shape)\n",
    "print('x2 shape: ', x2.shape)"
   ]
  },
  {
   "cell_type": "markdown",
   "metadata": {
    "colab_type": "text",
    "id": "WJiiBxNE-X8g"
   },
   "source": [
    "### **Your turn**"
   ]
  },
  {
   "attachments": {},
   "cell_type": "markdown",
   "metadata": {
    "colab_type": "text",
    "id": "iOVzHiX-86Ew"
   },
   "source": [
    "In the file `pytorch_basic.py`, implement the function `reshape_practice` to practice using reshape operations on tensors. Given the 1-dimensional input tensor `x` containing the numbers 0 through 23 in order, it should the following output tensor `y` of shape `(3, 8)` by using reshape operations on x:\n",
    "\n",
    "\n",
    "```\n",
    "y = tensor([[ 0,  1,  2,  3, 12, 13, 14, 15],\n",
    "            [ 4,  5,  6,  7, 16, 17, 18, 19],\n",
    "            [ 8,  9, 10, 11, 20, 21, 22, 23]])\n",
    "```\n",
    "\n",
    "Hint: You will need to create an intermediate tensor of rank 3"
   ]
  },
  {
   "cell_type": "code",
   "execution_count": 91,
   "metadata": {
    "colab": {
     "base_uri": "https://localhost:8080/",
     "height": 153
    },
    "colab_type": "code",
    "id": "8reAZGzFVTQ3",
    "outputId": "5fc6a34c-e98e-4b3c-82d7-57199778578b"
   },
   "outputs": [
    {
     "name": "stdout",
     "output_type": "stream",
     "text": [
      "Here is x:\n",
      "tensor([ 0,  1,  2,  3,  4,  5,  6,  7,  8,  9, 10, 11, 12, 13, 14, 15, 16, 17,\n",
      "        18, 19, 20, 21, 22, 23])\n",
      "Here is y:\n",
      "tensor([[ 0,  1,  2,  3, 12, 13, 14, 15],\n",
      "        [ 4,  5,  6,  7, 16, 17, 18, 19],\n",
      "        [ 8,  9, 10, 11, 20, 21, 22, 23]])\n",
      "Correct: True\n"
     ]
    }
   ],
   "source": [
    "from pytorch_basic import reshape_practice\n",
    "\n",
    "x = torch.arange(24)\n",
    "print('Here is x:')\n",
    "print(x)\n",
    "y = reshape_practice(x)\n",
    "print('Here is y:')\n",
    "print(y)\n",
    "\n",
    "expected = [\n",
    "    [0, 1,  2,  3, 12, 13, 14, 15],\n",
    "    [4, 5,  6,  7, 16, 17, 18, 19],\n",
    "    [8, 9, 10, 11, 20, 21, 22, 23]]\n",
    "print('Correct:', y.tolist() == expected)"
   ]
  },
  {
   "cell_type": "markdown",
   "metadata": {
    "colab_type": "text",
    "id": "NgcdvD1evxTQ"
   },
   "source": [
    "## Tensor operations\n",
    "So far we have seen how to construct, access, and reshape tensors. But one of the most important reasons to use tensors is for performing computation! PyTorch provides many different operations to perform computations on tensors."
   ]
  },
  {
   "cell_type": "markdown",
   "metadata": {
    "colab_type": "text",
    "id": "1BCVlPHZ4_Qz"
   },
   "source": [
    "### Elementwise operations"
   ]
  },
  {
   "cell_type": "markdown",
   "metadata": {
    "colab_type": "text",
    "id": "f2wbN18E5CKI"
   },
   "source": [
    "Basic mathematical functions operate elementwise on tensors, and are available as operator overloads, as functions in the `torch` module, and as instance methods on torch objects; all produce the same results:"
   ]
  },
  {
   "cell_type": "code",
   "execution_count": 92,
   "metadata": {
    "colab": {
     "base_uri": "https://localhost:8080/",
     "height": 425
    },
    "colab_type": "code",
    "id": "QrMkbk535KRZ",
    "outputId": "5b514d9a-9258-4abb-f804-70ef311381bc"
   },
   "outputs": [
    {
     "name": "stdout",
     "output_type": "stream",
     "text": [
      "Elementwise sum:\n",
      "tensor([[ 6.,  8., 10., 12.]])\n",
      "tensor([[ 6.,  8., 10., 12.]])\n",
      "tensor([[ 6.,  8., 10., 12.]])\n",
      "\n",
      "Elementwise difference:\n",
      "tensor([[-4., -4., -4., -4.]])\n",
      "tensor([[-4., -4., -4., -4.]])\n",
      "tensor([[-4., -4., -4., -4.]])\n",
      "\n",
      "Elementwise product:\n",
      "tensor([[ 5., 12., 21., 32.]])\n",
      "tensor([[ 5., 12., 21., 32.]])\n",
      "tensor([[ 5., 12., 21., 32.]])\n",
      "\n",
      "Elementwise division\n",
      "tensor([[0.2000, 0.3333, 0.4286, 0.5000]])\n",
      "tensor([[0.2000, 0.3333, 0.4286, 0.5000]])\n",
      "tensor([[0.2000, 0.3333, 0.4286, 0.5000]])\n",
      "\n",
      "Elementwise power\n",
      "tensor([[1.0000e+00, 6.4000e+01, 2.1870e+03, 6.5536e+04]])\n",
      "tensor([[1.0000e+00, 6.4000e+01, 2.1870e+03, 6.5536e+04]])\n",
      "tensor([[1.0000e+00, 6.4000e+01, 2.1870e+03, 6.5536e+04]])\n"
     ]
    }
   ],
   "source": [
    "x = torch.tensor([[1, 2, 3, 4]], dtype=torch.float32)\n",
    "y = torch.tensor([[5, 6, 7, 8]], dtype=torch.float32)\n",
    "\n",
    "# Elementwise sum; all give the same result\n",
    "print('Elementwise sum:')\n",
    "print(x + y)\n",
    "print(torch.add(x, y))\n",
    "print(x.add(y))\n",
    "\n",
    "# Elementwise difference\n",
    "print('\\nElementwise difference:')\n",
    "print(x - y)\n",
    "print(torch.sub(x, y))\n",
    "print(x.sub(y))\n",
    "\n",
    "# Elementwise product\n",
    "print('\\nElementwise product:')\n",
    "print(x * y)\n",
    "print(torch.mul(x, y))\n",
    "print(x.mul(y))\n",
    "\n",
    "# Elementwise division\n",
    "print('\\nElementwise division')\n",
    "print(x / y)\n",
    "print(torch.div(x, y))\n",
    "print(x.div(y))\n",
    "\n",
    "# Elementwise power\n",
    "print('\\nElementwise power')\n",
    "print(x ** y)\n",
    "print(torch.pow(x, y))\n",
    "print(x.pow(y))"
   ]
  },
  {
   "cell_type": "markdown",
   "metadata": {
    "colab_type": "text",
    "id": "A6WwPJMYlYvN"
   },
   "source": [
    "Torch also provides many standard mathematical functions; these are available both as functions in the `torch` module and as instance methods on tensors:\n",
    "\n",
    "You can find a full list of all available mathematical functions [in the documentation](https://pytorch.org/docs/stable/torch.html#pointwise-ops); many functions in the `torch` module have corresponding instance methods [on tensor objects](https://pytorch.org/docs/stable/tensors.html)."
   ]
  },
  {
   "cell_type": "code",
   "execution_count": 93,
   "metadata": {
    "colab": {
     "base_uri": "https://localhost:8080/",
     "height": 170
    },
    "colab_type": "code",
    "id": "s87mjsnG58vR",
    "outputId": "49400087-f190-4471-cee2-7554a6325cf1"
   },
   "outputs": [
    {
     "name": "stdout",
     "output_type": "stream",
     "text": [
      "Square root:\n",
      "tensor([[1.0000, 1.4142, 1.7321, 2.0000]])\n",
      "tensor([[1.0000, 1.4142, 1.7321, 2.0000]])\n",
      "\n",
      "Trig functions:\n",
      "tensor([[ 0.8415,  0.9093,  0.1411, -0.7568]])\n",
      "tensor([[ 0.8415,  0.9093,  0.1411, -0.7568]])\n",
      "tensor([[ 0.5403, -0.4161, -0.9900, -0.6536]])\n",
      "tensor([[ 0.5403, -0.4161, -0.9900, -0.6536]])\n"
     ]
    }
   ],
   "source": [
    "x = torch.tensor([[1, 2, 3, 4]], dtype=torch.float32)\n",
    "\n",
    "print('Square root:')\n",
    "print(torch.sqrt(x))\n",
    "print(x.sqrt())\n",
    "\n",
    "print('\\nTrig functions:')\n",
    "print(torch.sin(x))\n",
    "print(x.sin())\n",
    "print(torch.cos(x))\n",
    "print(x.cos())"
   ]
  },
  {
   "cell_type": "markdown",
   "metadata": {
    "colab_type": "text",
    "id": "yDyH9USAuyZ-"
   },
   "source": [
    "### Reduction operations"
   ]
  },
  {
   "cell_type": "markdown",
   "metadata": {
    "colab_type": "text",
    "id": "wbHP9SpZHoMO"
   },
   "source": [
    "So far we've seen basic arithmetic operations on tensors that operate elementwise. We may sometimes want to perform operations that aggregate over part or all of a tensor, such as a summation; these are called **reduction** operations.\n",
    "\n",
    "Like the elementwise operations above, most reduction operations are available both as functions in the `torch` module and as instance methods on `tensor` objects.\n",
    "\n",
    "The simplest reduction operation is summation. We can use the [`.sum()`](https://pytorch.org/docs/stable/tensors.html#torch.Tensor.sum) function (or eqivalently [`torch.sum`](https://pytorch.org/docs/stable/generated/torch.sum.html)) to reduce either an entire tensor, or to reduce along only one dimension of the tensor using the `dim` argument:"
   ]
  },
  {
   "cell_type": "code",
   "execution_count": 94,
   "metadata": {
    "colab": {
     "base_uri": "https://localhost:8080/",
     "height": 272
    },
    "colab_type": "code",
    "id": "LlmsYJWUE2r3",
    "outputId": "b4afc13e-dffe-4543-ffc2-766b8de6f956"
   },
   "outputs": [
    {
     "name": "stdout",
     "output_type": "stream",
     "text": [
      "Original tensor:\n",
      "tensor([[1., 2., 3.],\n",
      "        [4., 5., 6.]])\n",
      "\n",
      "Sum over entire tensor:\n",
      "tensor(21.)\n",
      "tensor(21.)\n",
      "\n",
      "Sum of each row:\n",
      "tensor([5., 7., 9.])\n",
      "tensor([5., 7., 9.])\n",
      "\n",
      "Sum of each column:\n",
      "tensor([ 6., 15.])\n",
      "tensor([ 6., 15.])\n"
     ]
    }
   ],
   "source": [
    "x = torch.tensor([[1, 2, 3], \n",
    "                  [4, 5, 6]], dtype=torch.float32)\n",
    "print('Original tensor:')\n",
    "print(x)\n",
    "\n",
    "print('\\nSum over entire tensor:')\n",
    "print(torch.sum(x))\n",
    "print(x.sum())\n",
    "\n",
    "# We can sum over each row:\n",
    "print('\\nSum of each row:')\n",
    "print(torch.sum(x, dim=0))\n",
    "print(x.sum(dim=0))\n",
    "\n",
    "# Sum over each column:\n",
    "print('\\nSum of each column:')\n",
    "print(torch.sum(x, dim=1))\n",
    "print(x.sum(dim=1))"
   ]
  },
  {
   "cell_type": "markdown",
   "metadata": {
    "colab_type": "text",
    "id": "DzKio_3Quz5a"
   },
   "source": [
    "Other useful reduction operations include [`mean`](https://pytorch.org/docs/stable/torch.html#torch.mean), [`min`](https://pytorch.org/docs/stable/torch.html#torch.min), and [`max`](https://pytorch.org/docs/stable/torch.html#torch.max). You can find a full list of all available reduction operations [in the documentation](https://pytorch.org/docs/stable/torch.html#reduction-ops).\n",
    "\n",
    "Some reduction operations return more than one value; for example `min` returns both the minimum value over the specified dimension, as well as the index where the minimum value occurs:"
   ]
  },
  {
   "cell_type": "code",
   "execution_count": 95,
   "metadata": {
    "colab": {
     "base_uri": "https://localhost:8080/",
     "height": 238
    },
    "colab_type": "code",
    "id": "TFD7aT54H4ik",
    "outputId": "48510970-e982-450c-8d9e-614250e8322e"
   },
   "outputs": [
    {
     "name": "stdout",
     "output_type": "stream",
     "text": [
      "Original tensor:\n",
      "tensor([[2., 4., 3., 5.],\n",
      "        [3., 3., 5., 2.]]) torch.Size([2, 4])\n",
      "\n",
      "Overall minimum:  tensor(2.)\n",
      "\n",
      "Minimum along each column:\n",
      "values: tensor([2., 3., 3., 2.])\n",
      "idxs: tensor([0, 1, 0, 1])\n",
      "\n",
      "Minimum along each row:\n",
      "values: tensor([2., 2.])\n",
      "idxs: tensor([0, 3])\n"
     ]
    }
   ],
   "source": [
    "x = torch.tensor([[2, 4, 3, 5], [3, 3, 5, 2]], dtype=torch.float32)\n",
    "print('Original tensor:')\n",
    "print(x, x.shape)\n",
    "\n",
    "# Finding the overall minimum only returns a single value\n",
    "print('\\nOverall minimum: ', x.min())\n",
    "\n",
    "# Compute the minimum along each column; we get both the value and location:\n",
    "# The minimum of the first column is 2, and it appears at index 0;\n",
    "# the minimum of the second column is 3 and it appears at index 1; etc\n",
    "col_min_vals, col_min_idxs = x.min(dim=0)\n",
    "print('\\nMinimum along each column:')\n",
    "print('values:', col_min_vals)\n",
    "print('idxs:', col_min_idxs)\n",
    "\n",
    "# Compute the minimum along each row; we get both the value and the minimum\n",
    "row_min_vals, row_min_idxs = x.min(dim=1)\n",
    "print('\\nMinimum along each row:')\n",
    "print('values:', row_min_vals)\n",
    "print('idxs:', row_min_idxs)"
   ]
  },
  {
   "cell_type": "markdown",
   "metadata": {
    "colab_type": "text",
    "id": "XFwYRESoFr4t"
   },
   "source": [
    "Reduction operations *reduce* the rank of tensors: the dimension over which you perform the reduction will be removed from the shape of the output. If you pass `keepdim=True` to a reduction operation, the specified dimension will not be removed; the output tensor will instead have a shape of 1 in that dimension.\n",
    "\n",
    "When you are working with multidimensional tensors, thinking about rows and columns can become confusing; instead it's more useful to think about the shape that will result from each operation. For example:"
   ]
  },
  {
   "cell_type": "code",
   "execution_count": 96,
   "metadata": {
    "colab": {
     "base_uri": "https://localhost:8080/",
     "height": 85
    },
    "colab_type": "code",
    "id": "sjcAveyJFqm7",
    "outputId": "31bfa3e1-2811-485a-bb92-26d93d933eb5"
   },
   "outputs": [
    {
     "name": "stdout",
     "output_type": "stream",
     "text": [
      "torch.Size([128, 10, 3, 64, 64])\n",
      "torch.Size([128, 3, 64, 64])\n",
      "torch.Size([128, 3, 64])\n",
      "torch.Size([128, 1, 64])\n"
     ]
    }
   ],
   "source": [
    "# Create a tensor of shape (128, 10, 3, 64, 64)\n",
    "x = torch.randn(128, 10, 3, 64, 64)\n",
    "print(x.shape)\n",
    "\n",
    "# Take the mean over dimension 1; shape is now (128, 3, 64, 64)\n",
    "x = x.mean(dim=1)\n",
    "print(x.shape)\n",
    "\n",
    "# Take the sum over dimension 2; shape is now (128, 3, 64)\n",
    "x = x.sum(dim=2)\n",
    "print(x.shape)\n",
    "\n",
    "# Take the mean over dimension 1, but keep the dimension from being eliminated\n",
    "# by passing keepdim=True; shape is now (128, 1, 64)\n",
    "x = x.mean(dim=1, keepdim=True)\n",
    "print(x.shape)"
   ]
  },
  {
   "attachments": {},
   "cell_type": "markdown",
   "metadata": {
    "colab_type": "text",
    "id": "gXMp4tcM0Q_E"
   },
   "source": [
    "**Your turn**: In the file `pytorch_basic.py`, implement the function `zero_row_min` which sets the minimum value along each row of a tensor to zero. You should use reduction and indexing operations, and you should not use any explicit loops.\n",
    "\n",
    "Hint: [`clone`](https://pytorch.org/docs/stable/tensors.html#torch.Tensor.clone), [`argmin`](https://pytorch.org/docs/stable/tensors.html#torch.Tensor.argmin)"
   ]
  },
  {
   "cell_type": "code",
   "execution_count": 14,
   "metadata": {
    "colab": {
     "base_uri": "https://localhost:8080/",
     "height": 306
    },
    "colab_type": "code",
    "id": "aaJzt-Y62blF",
    "outputId": "efe4efcd-e0d1-45ef-85d9-8b4487f8aea9"
   },
   "outputs": [
    {
     "name": "stdout",
     "output_type": "stream",
     "text": [
      "Here is x0:\n",
      "tensor([[10, 20, 30],\n",
      "        [ 2,  5,  1]])\n",
      "Here is y0:\n",
      "tensor([[ 0, 20, 30],\n",
      "        [ 2,  5,  0]])\n",
      "y0 correct:  True\n",
      "\n",
      "Here is x1:\n",
      "tensor([[ 2,  5, 10, -1],\n",
      "        [ 1,  3,  2,  4],\n",
      "        [ 5,  6,  2, 10]])\n",
      "Here is y1:\n",
      "tensor([[ 2,  5, 10,  0],\n",
      "        [ 0,  3,  2,  4],\n",
      "        [ 5,  6,  0, 10]])\n",
      "y1 correct:  True\n"
     ]
    }
   ],
   "source": [
    "from pytorch_basic import zero_row_min\n",
    "\n",
    "x0 = torch.tensor([[10, 20, 30], [2, 5, 1]])\n",
    "print('Here is x0:')\n",
    "print(x0)\n",
    "y0 = zero_row_min(x0)\n",
    "print('Here is y0:')\n",
    "print(y0)\n",
    "expected = [[0, 20, 30], [2, 5, 0]]\n",
    "y0_correct = torch.is_tensor(y0) and y0.tolist() == expected\n",
    "print('y0 correct: ', y0_correct)\n",
    "\n",
    "x1 = torch.tensor([[2, 5, 10, -1], [1, 3, 2, 4], [5, 6, 2, 10]])\n",
    "print('\\nHere is x1:')\n",
    "print(x1)\n",
    "y1 = zero_row_min(x1)\n",
    "print('Here is y1:')\n",
    "print(y1)\n",
    "expected = [[2, 5, 10, 0], [0, 3, 2, 4], [5, 6, 0, 10]]\n",
    "y1_correct = torch.is_tensor(y1) and y1.tolist() == expected\n",
    "print('y1 correct: ', y1_correct)"
   ]
  },
  {
   "cell_type": "markdown",
   "metadata": {
    "colab_type": "text",
    "id": "lRyLyXU2u29N"
   },
   "source": [
    "### Matrix operations"
   ]
  },
  {
   "cell_type": "markdown",
   "metadata": {
    "colab_type": "text",
    "id": "7DwjbapG6MM_"
   },
   "source": [
    "Note that unlike MATLAB, * is elementwise multiplication, not matrix multiplication. PyTorch provides a number of linear algebra functions that compute different types of vector and matrix products. The most commonly used are:\n",
    "\n",
    "- [`torch.dot`](https://pytorch.org/docs/stable/generated/torch.dot.html#torch.dot): Computes inner product of vectors\n",
    "- [`torch.mm`](https://pytorch.org/docs/stable/generated/torch.mm.html#torch.mm): Computes matrix-matrix products\n",
    "- [`torch.mv`](https://pytorch.org/docs/stable/generated/torch.mv.html#torch.mv): Computes matrix-vector products\n",
    "- [`torch.addmm`](https://pytorch.org/docs/stable/generated/torch.addmm.html#torch.addmm) / [`torch.addmv`](https://pytorch.org/docs/stable/generated/torch.addmv.html#torch.addmv): Computes matrix-matrix and matrix-vector multiplications plus a bias\n",
    "- [`torch.bmm`](https://pytorch.org/docs/stable/generated/torch.bmm.html#torch.bmm) / [`torch.baddmm`](https://pytorch.org/docs/stable/generated/torch.baddbmm.html#torch.baddbmm): Batched versions of `torch.mm` and `torch.addmm`, respectively\n",
    "- [`torch.matmul`](https://pytorch.org/docs/stable/generated/torch.matmul.html#torch.matmul): General matrix product that performs different operations depending on the rank of the inputs. Confusingly, this is similar to `np.dot` in numpy.\n",
    "\n",
    "You can find a full list of the available linear algebra operators [in the documentation](https://pytorch.org/docs/stable/torch.html#blas-and-lapack-operations).\n",
    "\n",
    "Here is an example of using `torch.dot` to compute inner products. Like the other mathematical operators we've seen, most linear algebra operators are available both as functions in the `torch` module and as instance methods of tensors:"
   ]
  },
  {
   "cell_type": "code",
   "execution_count": 15,
   "metadata": {
    "colab": {
     "base_uri": "https://localhost:8080/",
     "height": 187
    },
    "colab_type": "code",
    "id": "TRUYW2as6ZCh",
    "outputId": "cc9cd4cb-15a5-4a37-acba-9c4942383f65"
   },
   "outputs": [
    {
     "name": "stdout",
     "output_type": "stream",
     "text": [
      "Dot products:\n",
      "tensor(219.)\n",
      "tensor(219.)\n",
      "1D tensors expected, but got 2D and 2D tensors\n",
      "\n",
      "Matrix-matrix product:\n",
      "tensor([[19., 22.],\n",
      "        [43., 50.]])\n",
      "tensor([[19., 22.],\n",
      "        [43., 50.]])\n"
     ]
    }
   ],
   "source": [
    "v = torch.tensor([9,10], dtype=torch.float32)\n",
    "w = torch.tensor([11, 12], dtype=torch.float32)\n",
    "\n",
    "# Inner product of vectors\n",
    "print('Dot products:')\n",
    "print(torch.dot(v, w))\n",
    "print(v.dot(w))\n",
    "\n",
    "# dot only works for vectors -- it will give an error for tensors of rank > 1\n",
    "x = torch.tensor([[1,2],[3,4]], dtype=torch.float32)\n",
    "y = torch.tensor([[5,6],[7,8]], dtype=torch.float32)\n",
    "try:\n",
    "  print(x.dot(y))\n",
    "except RuntimeError as e:\n",
    "  print(e)\n",
    "  \n",
    "# Instead we use mm for matrix-matrix products:\n",
    "print('\\nMatrix-matrix product:')\n",
    "print(torch.mm(x, y))\n",
    "print(x.mm(y))"
   ]
  },
  {
   "cell_type": "markdown",
   "metadata": {
    "colab_type": "text",
    "id": "MQRxK34KdHm3"
   },
   "source": [
    "With all the different linear algebra operators that PyTorch provides, there is usually more than one way to compute something. For example to compute matrix-vector products we can use `torch.mv`; we can reshape the vector to have rank 2 and use `torch.mm`; or we can use `torch.matmul`. All give the same results, but the outputs might have different ranks:"
   ]
  },
  {
   "cell_type": "code",
   "execution_count": 16,
   "metadata": {
    "colab": {
     "base_uri": "https://localhost:8080/",
     "height": 357
    },
    "colab_type": "code",
    "id": "qqEzcnHkdRYA",
    "outputId": "6c6618ad-56af-4e08-a2a6-deeae1263706"
   },
   "outputs": [
    {
     "name": "stdout",
     "output_type": "stream",
     "text": [
      "Here is x (rank 2):\n",
      "tensor([[1., 2.],\n",
      "        [3., 4.]])\n",
      "\n",
      "Here is v (rank 1):\n",
      "tensor([ 9., 10.])\n",
      "\n",
      "Matrix-vector product with torch.mv (rank 1 output)\n",
      "tensor([29., 67.])\n",
      "tensor([29., 67.])\n",
      "\n",
      "Matrix-vector product with torch.mm (rank 2 output)\n",
      "tensor([[29.],\n",
      "        [67.]])\n",
      "tensor([[29.],\n",
      "        [67.]])\n",
      "\n",
      "Matrix-vector product with torch.matmul (rank 1 output)\n",
      "tensor([29., 67.])\n",
      "tensor([29., 67.])\n"
     ]
    }
   ],
   "source": [
    "print('Here is x (rank 2):')\n",
    "print(x)\n",
    "print('\\nHere is v (rank 1):')\n",
    "print(v)\n",
    "\n",
    "# Matrix-vector multiply with torch.mv produces a rank-1 output\n",
    "print('\\nMatrix-vector product with torch.mv (rank 1 output)')\n",
    "print(torch.mv(x, v))\n",
    "print(x.mv(v))\n",
    "\n",
    "# We can reshape the vector to have rank 2 and use torch.mm to perform\n",
    "# matrix-vector products, but the result will have rank 2\n",
    "print('\\nMatrix-vector product with torch.mm (rank 2 output)')\n",
    "print(torch.mm(x, v.view(2, 1)))\n",
    "print(x.mm(v.view(2, 1)))\n",
    "\n",
    "print('\\nMatrix-vector product with torch.matmul (rank 1 output)')\n",
    "print(torch.matmul(x, v))\n",
    "print(x.matmul(v))"
   ]
  },
  {
   "attachments": {},
   "cell_type": "markdown",
   "metadata": {
    "colab_type": "text",
    "id": "-eqQJ5IUjtNT"
   },
   "source": [
    "**Your turn**: In the file `pytorch_basic.py`, implement the function `batched_matrix_multiply`. You should implement two pathways within this function: one that uses an explicit loop over the batch dimension, and another that performs the batched matrix multiply using a single PyTorch operation and no explicit loop.\n",
    "\n",
    "Hint: [`torch.stack`](https://pytorch.org/docs/master/generated/torch.stack.html), [`bmm`](https://pytorch.org/docs/stable/generated/torch.bmm.html#torch.bmm)\n",
    "\n"
   ]
  },
  {
   "cell_type": "code",
   "execution_count": 18,
   "metadata": {
    "colab": {
     "base_uri": "https://localhost:8080/",
     "height": 102
    },
    "colab_type": "code",
    "id": "sZD1VQHKVTRQ",
    "outputId": "5ce63c85-10c1-4c1f-9a13-11e0c65b40d9"
   },
   "outputs": [
    {
     "name": "stdout",
     "output_type": "stream",
     "text": [
      "z1 difference:  0.0\n",
      "z1 difference within tolerance:  True\n",
      "\n",
      "z2 difference:  4.76837158203125e-07\n",
      "z2 difference within tolerance:  True\n"
     ]
    }
   ],
   "source": [
    "from pytorch_basic import batched_matrix_multiply\n",
    "\n",
    "B, N, M, P = 2, 3, 5, 4\n",
    "x = torch.randn(B, N, M)\n",
    "y = torch.randn(B, M, P)\n",
    "z_expected = torch.stack([x[0] @ y[0], x[1] @ y[1]])\n",
    "\n",
    "# The two may not return exactly the same result; different linear algebra\n",
    "# routines often return slightly different results due to the fact that\n",
    "# floating-point math is non-exact and non-associative.\n",
    "z1 = batched_matrix_multiply(x, y, use_loop=True)\n",
    "z1_diff = (z1 - z_expected).abs().max().item()\n",
    "print('z1 difference: ', z1_diff)\n",
    "print('z1 difference within tolerance: ', z1_diff < 1e-6)\n",
    "\n",
    "z2 = batched_matrix_multiply(x, y, use_loop=False)\n",
    "z2_diff = (z2 - z_expected).abs().max().item()\n",
    "print('\\nz2 difference: ', z2_diff)\n",
    "print('z2 difference within tolerance: ', z2_diff < 1e-6)"
   ]
  },
  {
   "cell_type": "markdown",
   "metadata": {
    "colab_type": "text",
    "id": "mbCVOr2sVTRR"
   },
   "source": [
    "### Vectorization\n",
    "In many cases, avoiding explicit Python loops in your code and instead using PyTorch operators to handle looping internally will cause your code to run a lot faster. This style of writing code, called **vectorization**, avoids overhead from the Python interpreter, and can also better parallelize the computation (e.g. across CPU cores, on on GPUs). Whenever possible you should strive to write vectorized code.\n",
    "\n",
    "Run the following the compare the speed of the `batched_matrix_multiply` with `use_loop=True` and with `use_loop=False`."
   ]
  },
  {
   "cell_type": "code",
   "execution_count": 4,
   "metadata": {
    "colab": {
     "base_uri": "https://localhost:8080/",
     "height": 279
    },
    "colab_type": "code",
    "id": "a-acTIOpVTRR",
    "outputId": "23233526-944f-4cea-8f95-eeaca2fa94eb"
   },
   "outputs": [
    {
     "data": {
      "image/png": "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",
      "text/plain": [
       "<Figure size 432x288 with 1 Axes>"
      ]
     },
     "metadata": {
      "needs_background": "light"
     },
     "output_type": "display_data"
    }
   ],
   "source": [
    "import time\n",
    "import matplotlib.pyplot as plt\n",
    "from pytorch_basic import batched_matrix_multiply\n",
    "\n",
    "N, M, P = 100, 100, 100\n",
    "loop_times = []\n",
    "no_loop_times = []\n",
    "Bs = list(range(5, 100, 5))\n",
    "num_trials = 20\n",
    "for B in Bs:\n",
    "    loop_trials = []\n",
    "    no_loop_trials = []\n",
    "    for trial in range(num_trials):\n",
    "        x = torch.randn(B, N, M)\n",
    "        y = torch.randn(B, M, P)\n",
    "        t0 = time.time()\n",
    "        z1 = batched_matrix_multiply(x, y, use_loop=True)\n",
    "        t1 = time.time()\n",
    "        z2 = batched_matrix_multiply(x, y, use_loop=False)\n",
    "        t2 = time.time()\n",
    "        loop_trials.append(t1 - t0)\n",
    "        no_loop_trials.append(t2 - t1)\n",
    "    loop_mean = torch.tensor(loop_trials).mean().item()\n",
    "    no_loop_mean = torch.tensor(no_loop_trials).mean().item()\n",
    "    loop_times.append(loop_mean)\n",
    "    no_loop_times.append(no_loop_mean)\n",
    "    \n",
    "plt.plot(Bs, loop_times, 'o-', label='use_loop=True')\n",
    "plt.plot(Bs, no_loop_times, 'o-', label='use_loop=False')\n",
    "plt.xlabel('Batch size B')\n",
    "plt.ylabel('Runtime (s)')\n",
    "plt.legend()\n",
    "plt.show()"
   ]
  },
  {
   "cell_type": "markdown",
   "metadata": {
    "colab_type": "text",
    "id": "UISn2pcf9QjY"
   },
   "source": [
    "## Broadcasting"
   ]
  },
  {
   "cell_type": "markdown",
   "metadata": {
    "colab_type": "text",
    "id": "fTj6f8VN9UZg"
   },
   "source": [
    "Broadcasting is a powerful mechanism that allows PyTorch to work with arrays of different shapes when performing arithmetic operations. Frequently we have a smaller tensor and a larger tensor, and we want to use the smaller tensor multiple times to perform some operation on the larger tensor.\n",
    "\n",
    "For example, suppose that we want to add a constant vector to each row of a tensor. We could do it like this:\n"
   ]
  },
  {
   "cell_type": "code",
   "execution_count": 5,
   "metadata": {
    "colab": {
     "base_uri": "https://localhost:8080/",
     "height": 85
    },
    "colab_type": "code",
    "id": "kF0Dhzlu9fef",
    "outputId": "77826484-6cad-4953-ecbe-099c4460c0e0"
   },
   "outputs": [
    {
     "name": "stdout",
     "output_type": "stream",
     "text": [
      "tensor([[ 2,  2,  4],\n",
      "        [ 5,  5,  7],\n",
      "        [ 8,  8, 10],\n",
      "        [11, 11, 13]])\n"
     ]
    }
   ],
   "source": [
    "# We will add the vector v to each row of the matrix x,\n",
    "# storing the result in the matrix y\n",
    "x = torch.tensor([[1,2,3], [4,5,6], [7,8,9], [10, 11, 12]])\n",
    "v = torch.tensor([1, 0, 1])\n",
    "y = torch.zeros_like(x)   # Create an empty matrix with the same shape as x\n",
    "\n",
    "# Add the vector v to each row of the matrix x with an explicit loop\n",
    "for i in range(4):\n",
    "    y[i, :] = x[i, :] + v\n",
    "\n",
    "print(y)"
   ]
  },
  {
   "cell_type": "markdown",
   "metadata": {
    "colab_type": "text",
    "id": "7gXpoBKE9vp7"
   },
   "source": [
    "This works; however when the tensor x is very large, computing an explicit loop in Python could be slow. Note that adding the vector v to each row of the tensor x is equivalent to forming a tensor vv by stacking multiple copies of v vertically, then performing elementwise summation of x and vv. We could implement this approach like this:\n"
   ]
  },
  {
   "cell_type": "code",
   "execution_count": 6,
   "metadata": {
    "colab": {
     "base_uri": "https://localhost:8080/",
     "height": 85
    },
    "colab_type": "code",
    "id": "_2_5cKeu94c2",
    "outputId": "2ff7ec2f-28ff-4f61-ca72-96ccd0b6464b"
   },
   "outputs": [
    {
     "name": "stdout",
     "output_type": "stream",
     "text": [
      "tensor([[1, 0, 1],\n",
      "        [1, 0, 1],\n",
      "        [1, 0, 1],\n",
      "        [1, 0, 1]])\n"
     ]
    }
   ],
   "source": [
    "vv = v.repeat((4, 1))  # Stack 4 copies of v on top of each other\n",
    "print(vv)              # Prints \"[[1 0 1]\n",
    "                       #          [1 0 1]\n",
    "                       #          [1 0 1]\n",
    "                       #          [1 0 1]]\""
   ]
  },
  {
   "cell_type": "code",
   "execution_count": 7,
   "metadata": {
    "colab": {
     "base_uri": "https://localhost:8080/",
     "height": 85
    },
    "colab_type": "code",
    "id": "1KiRj23p-QIs",
    "outputId": "4e08cbed-1ca2-4c55-eb37-beed43f19bdb"
   },
   "outputs": [
    {
     "name": "stdout",
     "output_type": "stream",
     "text": [
      "tensor([[ 2,  2,  4],\n",
      "        [ 5,  5,  7],\n",
      "        [ 8,  8, 10],\n",
      "        [11, 11, 13]])\n"
     ]
    }
   ],
   "source": [
    "y = x + vv  # Add x and vv elementwise\n",
    "print(y)"
   ]
  },
  {
   "cell_type": "markdown",
   "metadata": {
    "colab_type": "text",
    "id": "A7NNlSsHBKib"
   },
   "source": [
    "PyTorch broadcasting allows us to perform this computation without actually creating multiple copies of v. Consider this version, using broadcasting:"
   ]
  },
  {
   "cell_type": "code",
   "execution_count": 8,
   "metadata": {
    "colab": {
     "base_uri": "https://localhost:8080/",
     "height": 85
    },
    "colab_type": "code",
    "id": "2jIiZc-ABBnt",
    "outputId": "21434ba2-5bb7-448b-b524-76ac4f57c340"
   },
   "outputs": [
    {
     "name": "stdout",
     "output_type": "stream",
     "text": [
      "tensor([[ 2,  2,  4],\n",
      "        [ 5,  5,  7],\n",
      "        [ 8,  8, 10],\n",
      "        [11, 11, 13]])\n"
     ]
    }
   ],
   "source": [
    "# We will add the vector v to each row of the matrix x,\n",
    "# storing the result in the matrix y\n",
    "x = torch.tensor([[1,2,3], [4,5,6], [7,8,9], [10, 11, 12]])\n",
    "v = torch.tensor([1, 0, 1])\n",
    "y = x + v  # Add v to each row of x using broadcasting\n",
    "print(y)"
   ]
  },
  {
   "cell_type": "markdown",
   "metadata": {
    "colab_type": "text",
    "id": "HuUBX8YnBSIG"
   },
   "source": [
    "The line y = x + v works even though x has shape (4, 3) and v has shape (3,) due to broadcasting; this line works as if v actually had shape (4, 3), where each row was a copy of v, and the sum was performed elementwise.\n",
    "\n",
    "Broadcasting two tensors together follows these rules:\n",
    "\n",
    "1.   If the tensors do not have the same rank, prepend the shape of the lower rank array with 1s until both shapes have the same length.\n",
    "2.   The two tensors are said to be *compatible* in a dimension if they have the same size in the dimension, or if one of the tensors has size 1 in that dimension.\n",
    "3.   The tensors can be broadcast together if they are compatible in all dimensions.\n",
    "4.   After broadcasting, each tensor behaves as if it had shape equal to the elementwise maximum of shapes of the two input tensors.\n",
    "5.   In any dimension where one tensor had size 1 and the other tensor had size greater than 1, the first tensor behaves as if it were copied along that dimension\n",
    "\n",
    "If this explanation does not make sense, try reading the explanation from the [documentation](https://pytorch.org/docs/stable/notes/broadcasting.html).\n",
    "\n",
    "Broadcasting usually happens implicitly inside many PyTorch operators. However we can also broadcast explicitly using the function [`torch.broadcast_tensors`](https://pytorch.org/docs/stable/generated/torch.broadcast_tensors.html#torch.broadcast_tensors):"
   ]
  },
  {
   "cell_type": "code",
   "execution_count": 9,
   "metadata": {
    "colab": {
     "base_uri": "https://localhost:8080/",
     "height": 408
    },
    "colab_type": "code",
    "id": "YIlIBao3VTRc",
    "outputId": "02841ff2-e5a7-43ef-a1fe-c49cebd60716"
   },
   "outputs": [
    {
     "name": "stdout",
     "output_type": "stream",
     "text": [
      "Here is x (before broadcasting):\n",
      "tensor([[ 1,  2,  3],\n",
      "        [ 4,  5,  6],\n",
      "        [ 7,  8,  9],\n",
      "        [10, 11, 12]])\n",
      "x.shape:  torch.Size([4, 3])\n",
      "\n",
      "Here is v (before broadcasting):\n",
      "tensor([1, 0, 1])\n",
      "v.shape:  torch.Size([3])\n",
      "Here is xx (after) broadcasting):\n",
      "tensor([[ 1,  2,  3],\n",
      "        [ 4,  5,  6],\n",
      "        [ 7,  8,  9],\n",
      "        [10, 11, 12]])\n",
      "xx.shape:  torch.Size([4, 3])\n",
      "\n",
      "Here is vv (after broadcasting):\n",
      "tensor([[1, 0, 1],\n",
      "        [1, 0, 1],\n",
      "        [1, 0, 1],\n",
      "        [1, 0, 1]])\n",
      "vv.shape:  torch.Size([4, 3])\n"
     ]
    }
   ],
   "source": [
    "x = torch.tensor([[1, 2, 3], [4, 5, 6], [7, 8, 9], [10, 11, 12]])\n",
    "v = torch.tensor([1, 0, 1])\n",
    "print('Here is x (before broadcasting):')\n",
    "print(x)\n",
    "print('x.shape: ', x.shape)\n",
    "print('\\nHere is v (before broadcasting):')\n",
    "print(v)\n",
    "print('v.shape: ', v.shape)\n",
    "\n",
    "xx, vv = torch.broadcast_tensors(x, v)\n",
    "print('Here is xx (after) broadcasting):')\n",
    "print(xx)\n",
    "print('xx.shape: ', x.shape)\n",
    "print('\\nHere is vv (after broadcasting):')\n",
    "print(vv)\n",
    "print('vv.shape: ', vv.shape)"
   ]
  },
  {
   "cell_type": "markdown",
   "metadata": {
    "colab_type": "text",
    "id": "PWXtBo6eVTRf"
   },
   "source": [
    "Notice that after broadcasting, `x` remains the same but `v` has an extra dimension prepended to its shape, and it is duplicated to have the same shape as `x`; since they have the same shape after broadcasting they can be added elementwise.\n",
    "\n",
    "Not all functions support broadcasting. You can find functions that does not support broadcasting from the official docs. (e.g. [`torch.mm`](https://pytorch.org/docs/stable/torch.html#torch.mm) does not support broadcasting, but [`torch.matmul`](https://pytorch.org/docs/1.1.0/torch.html#torch.matmul) does)\n",
    "\n",
    "Broadcasting can let us easily implement many different operations. For example we can compute an outer product of vectors:"
   ]
  },
  {
   "cell_type": "code",
   "execution_count": 10,
   "metadata": {
    "colab": {
     "base_uri": "https://localhost:8080/",
     "height": 68
    },
    "colab_type": "code",
    "id": "_W-k7-hpCwlT",
    "outputId": "96937ee0-a27d-482f-d59e-1c0d5b277004"
   },
   "outputs": [
    {
     "name": "stdout",
     "output_type": "stream",
     "text": [
      "tensor([[ 4,  5],\n",
      "        [ 8, 10],\n",
      "        [12, 15]])\n"
     ]
    }
   ],
   "source": [
    "# Compute outer product of vectors\n",
    "v = torch.tensor([1, 2, 3])  # v has shape (3,)\n",
    "w = torch.tensor([4, 5])     # w has shape (2,)\n",
    "# To compute an outer product, we first reshape v to be a column\n",
    "# vector of shape (3, 1); we can then broadcast it against w to yield\n",
    "# an output of shape (3, 2), which is the outer product of v and w:\n",
    "print(v.view(3, 1) * w)"
   ]
  },
  {
   "cell_type": "markdown",
   "metadata": {
    "colab_type": "text",
    "id": "6a9EcX20moP_"
   },
   "source": [
    "We can add a vector to each row of a matrix:"
   ]
  },
  {
   "cell_type": "code",
   "execution_count": 11,
   "metadata": {
    "colab": {
     "base_uri": "https://localhost:8080/",
     "height": 187
    },
    "colab_type": "code",
    "id": "9bhmBiwcDF1B",
    "outputId": "f9b160f1-a9fe-4848-da6b-562c6da3cc0c"
   },
   "outputs": [
    {
     "name": "stdout",
     "output_type": "stream",
     "text": [
      "Here is the matrix:\n",
      "tensor([[1, 2, 3],\n",
      "        [4, 5, 6]])\n",
      "\n",
      "Here is the vector:\n",
      "tensor([1, 2, 3])\n",
      "\n",
      "Add the vector to each row of the matrix:\n",
      "tensor([[2, 4, 6],\n",
      "        [5, 7, 9]])\n"
     ]
    }
   ],
   "source": [
    "x = torch.tensor([[1, 2, 3], [4, 5, 6]])  # x has shape (2, 3)\n",
    "v = torch.tensor([1, 2, 3])               # v has shape (3,)\n",
    "print('Here is the matrix:')\n",
    "print(x)\n",
    "print('\\nHere is the vector:')\n",
    "print(v)\n",
    "\n",
    "# x has shape (2, 3) and v has shape (3,) so they broadcast to (2, 3),\n",
    "# giving the following matrix:\n",
    "print('\\nAdd the vector to each row of the matrix:')\n",
    "print(x + v)"
   ]
  },
  {
   "cell_type": "markdown",
   "metadata": {
    "colab_type": "text",
    "id": "jYloJIvmm_Me"
   },
   "source": [
    "We can add a vector to each column of a matrix:"
   ]
  },
  {
   "cell_type": "code",
   "execution_count": 15,
   "metadata": {
    "colab": {
     "base_uri": "https://localhost:8080/",
     "height": 221
    },
    "colab_type": "code",
    "id": "TDTFKACqDK22",
    "outputId": "44a9d01c-09d5-4283-88bd-795454ca02eb"
   },
   "outputs": [
    {
     "name": "stdout",
     "output_type": "stream",
     "text": [
      "Here is the matrix:\n",
      "tensor([[1, 2, 3],\n",
      "        [4, 5, 6]])\n",
      "\n",
      "Here is the vector:\n",
      "tensor([4, 5])\n",
      "\n",
      "Add the vector to each column of the matrix:\n",
      "tensor([[ 5,  6,  7],\n",
      "        [ 9, 10, 11]])\n",
      "tensor([[ 5,  6,  7],\n",
      "        [ 9, 10, 11]])\n"
     ]
    }
   ],
   "source": [
    "x = torch.tensor([[1, 2, 3], [4, 5, 6]])  # x has shape (2, 3)\n",
    "w = torch.tensor([4, 5])                  # w has shape (2,)\n",
    "print('Here is the matrix:')\n",
    "print(x)\n",
    "print('\\nHere is the vector:')\n",
    "print(w)\n",
    "\n",
    "# x has shape (2, 3) and w has shape (2,). We reshape w to (2, 1);\n",
    "# then when we add the two the result broadcasts to (2, 3):\n",
    "print('\\nAdd the vector to each column of the matrix:')\n",
    "print(x + w.view(-1, 1))\n",
    "\n",
    "# Another solution is the following:\n",
    "# 1. Transpose x so it has shape (3, 2)\n",
    "# 2. Since w has shape (2,), adding will broadcast to (3, 2)\n",
    "# 3. Transpose the result, resulting in a shape (2, 3)\n",
    "print((x.t() + w).t())"
   ]
  },
  {
   "cell_type": "markdown",
   "metadata": {
    "colab_type": "text",
    "id": "9717YmBBpBfr"
   },
   "source": [
    "Multiply a tensor by a set of constants:"
   ]
  },
  {
   "cell_type": "code",
   "execution_count": 13,
   "metadata": {
    "colab": {
     "base_uri": "https://localhost:8080/",
     "height": 340
    },
    "colab_type": "code",
    "id": "4UjWDp_XDc_-",
    "outputId": "ca8afe6b-5d58-430d-d202-64886eddcac2"
   },
   "outputs": [
    {
     "name": "stdout",
     "output_type": "stream",
     "text": [
      "Here is the matrix:\n",
      "tensor([[1, 2, 3],\n",
      "        [4, 5, 6]])\n",
      "\n",
      "Here is the vector:\n",
      "tensor([  1,  10,  11, 100])\n",
      "\n",
      "Multiply x by a set of constants:\n",
      "tensor([[[  1,   2,   3],\n",
      "         [  4,   5,   6]],\n",
      "\n",
      "        [[ 10,  20,  30],\n",
      "         [ 40,  50,  60]],\n",
      "\n",
      "        [[ 11,  22,  33],\n",
      "         [ 44,  55,  66]],\n",
      "\n",
      "        [[100, 200, 300],\n",
      "         [400, 500, 600]]])\n"
     ]
    }
   ],
   "source": [
    "x = torch.tensor([[1, 2, 3], [4, 5, 6]])  # x has shape (2, 3)\n",
    "c = torch.tensor([1, 10, 11, 100])        # c has shape (4)\n",
    "print('Here is the matrix:')\n",
    "print(x)\n",
    "print('\\nHere is the vector:')\n",
    "print(c)\n",
    "\n",
    "# We do the following:\n",
    "# 1. Reshape c from (4,) to (4, 1, 1)\n",
    "# 2. x has shape (2, 3). Since they have different ranks, when we multiply the\n",
    "#    two, x behaves as if its shape were (1, 2, 3)\n",
    "# 3. The result of the broadcast multiplication between tensor of shape\n",
    "#    (4, 1, 1) and (1, 2, 3) has shape (4, 2, 3)\n",
    "# 4. The result y has shape (4, 2, 3), and y[i] (shape (2, 3)) is equal to\n",
    "#    c[i] * x\n",
    "y = c.view(-1, 1, 1) * x\n",
    "print('\\nMultiply x by a set of constants:')\n",
    "print(y)"
   ]
  },
  {
   "attachments": {},
   "cell_type": "markdown",
   "metadata": {
    "colab_type": "text",
    "id": "J2EHXFBFq1ea"
   },
   "source": [
    "**Your turn**: In the file `pytorch_basic.py`, implement the function `normalize_columns` that normalizes the columns of a matrix. It should compute the mean and standard deviation of each column, then subtract the mean and divide by the standard deviation for each element in the column.\n",
    "\n",
    "Example:\n",
    "```\n",
    "x = [[ 0,  30,  600],\n",
    "     [ 1,  10,  200],\n",
    "     [-1,  20,  400]]\n",
    "```\n",
    "- The first column has mean 0 and std 1\n",
    "- The second column has mean 20 and std 10\n",
    "- The third column has mean 400 and std 200\n",
    "\n",
    "After normalizing the columns, the result should be:\n",
    "```\n",
    "y = [[ 0,  1,  1],\n",
    "     [ 1, -1, -1],\n",
    "     [-1,  0,  0]]\n",
    "```\n",
    "\n",
    "Recall that given scalars $x_1,\\ldots,x_M$ the mean $\\mu$ and standard deviation $\\sigma$ are given by\n",
    "\n",
    "$$\\mu=\\frac{1}{M}\\sum_{i=1}^M x_i \\hspace{4pc} \\sigma = \\sqrt{\\frac{1}{M-1}\\sum_{i=1}^M(x_i-\\mu)^2}$$"
   ]
  },
  {
   "cell_type": "code",
   "execution_count": 34,
   "metadata": {
    "colab": {
     "base_uri": "https://localhost:8080/",
     "height": 187
    },
    "colab_type": "code",
    "id": "rVh1DMqMr3zl",
    "outputId": "254fd394-4178-429c-96ed-eb3e087b808c"
   },
   "outputs": [
    {
     "name": "stdout",
     "output_type": "stream",
     "text": [
      "Here is x:\n",
      "tensor([[  0.,  30., 600.],\n",
      "        [  1.,  10., 200.],\n",
      "        [ -1.,  20., 400.]])\n",
      "Here is y:\n",
      "tensor([[ 0.,  1.,  1.],\n",
      "        [ 1., -1., -1.],\n",
      "        [-1.,  0.,  0.]], dtype=torch.float64)\n",
      "y correct:  True\n",
      "x unchanged:  True\n"
     ]
    }
   ],
   "source": [
    "from pytorch_basic import normalize_columns\n",
    "\n",
    "x = torch.tensor([[0., 30., 600.], [1., 10., 200.], [-1., 20., 400.]])\n",
    "y = normalize_columns(x)\n",
    "print('Here is x:')\n",
    "print(x)\n",
    "print('Here is y:')\n",
    "print(y)\n",
    "\n",
    "x_expected = [[0., 30., 600.], [1., 10., 200.], [-1., 20., 400.]]\n",
    "y_expected = [[0., 1., 1.], [1., -1., -1.], [-1., 0., 0.]]\n",
    "y_correct = y.tolist() == y_expected\n",
    "x_correct = x.tolist() == x_expected\n",
    "print('y correct: ', y_correct)\n",
    "print('x unchanged: ', x_correct)"
   ]
  },
  {
   "cell_type": "markdown",
   "metadata": {
    "colab_type": "text",
    "id": "NlJs-yN4VTRp"
   },
   "source": [
    "### Out-of-place vs in-place operators\n",
    "Most PyTorch operators are classified into one of two categories:\n",
    "- **Out-of-place operators:** return a new tensor. Most PyTorch operators behave this way.\n",
    "- **In-place operators:** modify and return the input tensor. Instance methods that end with an underscore (such as `add_()` are in-place. Operators in the `torch` namespace can be made in-place using the `out=` keyword argument.\n",
    "\n",
    "For example:"
   ]
  },
  {
   "cell_type": "code",
   "execution_count": 36,
   "metadata": {
    "colab": {
     "base_uri": "https://localhost:8080/",
     "height": 425
    },
    "colab_type": "code",
    "id": "lnwGzmU9VTRp",
    "outputId": "f3fb78d4-d7e7-4df4-99a8-f7bc366a17ff"
   },
   "outputs": [
    {
     "name": "stdout",
     "output_type": "stream",
     "text": [
      "Out-of-place addition:\n",
      "Before addition:\n",
      "x:  tensor([1, 2, 3])\n",
      "y:  tensor([3, 4, 5])\n",
      "\n",
      "After addition (x and y unchanged):\n",
      "x:  tensor([1, 2, 3])\n",
      "y:  tensor([3, 4, 5])\n",
      "z:  tensor([4, 6, 8])\n",
      "z is x:  False\n",
      "z is y:  False\n",
      "\n",
      "\n",
      "In-place Addition:\n",
      "Before addition:\n",
      "x:  tensor([1, 2, 3])\n",
      "y:  tensor([3, 4, 5])\n",
      "\n",
      "After addition (x is modified):\n",
      "x:  tensor([4, 6, 8])\n",
      "y:  tensor([3, 4, 5])\n",
      "z:  tensor([4, 6, 8])\n",
      "z is x:  False\n",
      "z is y:  False\n"
     ]
    }
   ],
   "source": [
    "# Out-of-place addition creates and returns a new tensor without modifying the inputs:\n",
    "x = torch.tensor([1, 2, 3])\n",
    "y = torch.tensor([3, 4, 5])\n",
    "print('Out-of-place addition:')\n",
    "print('Before addition:')\n",
    "print('x: ', x)\n",
    "print('y: ', y)\n",
    "z = x.add(y)  # Same as z = x + y or z = torch.add(x, y)\n",
    "print('\\nAfter addition (x and y unchanged):')\n",
    "print('x: ', x)\n",
    "print('y: ', y)\n",
    "print('z: ', z)\n",
    "print('z is x: ', z is x)\n",
    "print('z is y: ', z is y)\n",
    "\n",
    "# In-place addition modifies the input tensor:\n",
    "print('\\n\\nIn-place Addition:')\n",
    "print('Before addition:')\n",
    "print('x: ', x)\n",
    "print('y: ', y)\n",
    "x.add_(y)  # Same as x += y or torch.add(x, y, out=x)\n",
    "print('\\nAfter addition (x is modified):')\n",
    "print('x: ', x)\n",
    "print('y: ', y)\n",
    "print('z: ', z)\n",
    "print('z is x: ', z is x)\n",
    "print('z is y: ', z is y)"
   ]
  },
  {
   "cell_type": "markdown",
   "metadata": {
    "colab_type": "text",
    "id": "uNTk5heeVTRr"
   },
   "source": [
    "In general, **you should avoid in-place operations** since they can cause problems when computing gradients using autograd (which we will cover in a future assignment)."
   ]
  },
  {
   "cell_type": "markdown",
   "metadata": {
    "colab_type": "text",
    "id": "uN6FfqU9wFeG"
   },
   "source": [
    "## Running on GPU"
   ]
  },
  {
   "cell_type": "markdown",
   "metadata": {
    "colab_type": "text",
    "id": "Ds6SDTbrwOc1"
   },
   "source": [
    "One of the most important features of PyTorch is that it can use graphics processing units (GPUs) to accelerate its tensor operations.\n",
    "\n",
    "We can easily check whether PyTorch is configured to use GPUs:\n",
    "\n",
    "Tensors can be moved onto any device using the .to method."
   ]
  },
  {
   "cell_type": "code",
   "execution_count": 23,
   "metadata": {
    "colab": {
     "base_uri": "https://localhost:8080/",
     "height": 34
    },
    "colab_type": "code",
    "id": "_RkoFEVVKWlW",
    "outputId": "c4c639a6-4a2e-4ec9-cf55-1563aee711be"
   },
   "outputs": [
    {
     "name": "stdout",
     "output_type": "stream",
     "text": [
      "PyTorch can use GPUs!\n"
     ]
    }
   ],
   "source": [
    "import torch\n",
    "\n",
    "if torch.cuda.is_available:\n",
    "  print('PyTorch can use GPUs!')\n",
    "else:\n",
    "  print('PyTorch cannot use GPUs.')"
   ]
  },
  {
   "cell_type": "code",
   "execution_count": 27,
   "metadata": {},
   "outputs": [
    {
     "name": "stdout",
     "output_type": "stream",
     "text": [
      "0\n",
      "0\n"
     ]
    }
   ],
   "source": [
    "print(torch.cuda.device_count())\n",
    "print(torch.cuda.memory_allocated())"
   ]
  },
  {
   "cell_type": "markdown",
   "metadata": {
    "colab_type": "text",
    "id": "7i_5n_XuKr5k"
   },
   "source": [
    "You can enable GPUs in Colab via Runtime -> Change Runtime Type -> Hardware Accelerator -> GPU.\n",
    "\n",
    "This may cause the Colab runtime to restart, so we will re-import torch in the next cell.\n",
    "\n",
    "We have already seen that PyTorch tensors have a `dtype` attribute specifying their datatype. All PyTorch tensors also have a `device` attribute that specifies the device where the tensor is stored -- either CPU, or CUDA (for NVIDA GPUs). A tensor on a CUDA device will automatically use that device to accelerate all of its operations.\n",
    "\n",
    "Just as with datatypes, we can use the [`.to()`](https://pytorch.org/docs/1.1.0/tensors.html#torch.Tensor.to) method to change the device of a tensor. We can also use the convenience methods `.cuda()` and `.cpu()` methods to move tensors between CPU and GPU. "
   ]
  },
  {
   "cell_type": "code",
   "execution_count": 24,
   "metadata": {
    "colab": {
     "base_uri": "https://localhost:8080/",
     "height": 136
    },
    "colab_type": "code",
    "id": "D03s614dMCvy",
    "outputId": "7664a13e-9a50-4d79-b8f7-3d8d456c3f0f"
   },
   "outputs": [
    {
     "name": "stdout",
     "output_type": "stream",
     "text": [
      "x0 device: cpu\n"
     ]
    },
    {
     "ename": "AssertionError",
     "evalue": "Torch not compiled with CUDA enabled",
     "output_type": "error",
     "traceback": [
      "\u001b[1;31m---------------------------------------------------------------------------\u001b[0m",
      "\u001b[1;31mAssertionError\u001b[0m                            Traceback (most recent call last)",
      "Input \u001b[1;32mIn [24]\u001b[0m, in \u001b[0;36m<cell line: 6>\u001b[1;34m()\u001b[0m\n\u001b[0;32m      3\u001b[0m \u001b[38;5;28mprint\u001b[39m(\u001b[38;5;124m'\u001b[39m\u001b[38;5;124mx0 device:\u001b[39m\u001b[38;5;124m'\u001b[39m, x0\u001b[38;5;241m.\u001b[39mdevice)\n\u001b[0;32m      5\u001b[0m \u001b[38;5;66;03m# Move it to the GPU using .to()\u001b[39;00m\n\u001b[1;32m----> 6\u001b[0m x1 \u001b[38;5;241m=\u001b[39m \u001b[43mx0\u001b[49m\u001b[38;5;241;43m.\u001b[39;49m\u001b[43mto\u001b[49m\u001b[43m(\u001b[49m\u001b[38;5;124;43m'\u001b[39;49m\u001b[38;5;124;43mcuda\u001b[39;49m\u001b[38;5;124;43m'\u001b[39;49m\u001b[43m)\u001b[49m\n\u001b[0;32m      7\u001b[0m \u001b[38;5;28mprint\u001b[39m(\u001b[38;5;124m'\u001b[39m\u001b[38;5;124mx1 device:\u001b[39m\u001b[38;5;124m'\u001b[39m, x1\u001b[38;5;241m.\u001b[39mdevice)\n\u001b[0;32m      9\u001b[0m \u001b[38;5;66;03m# Move it to the GPU using .cuda()\u001b[39;00m\n",
      "File \u001b[1;32m~\\AppData\\Local\\Packages\\PythonSoftwareFoundation.Python.3.9_qbz5n2kfra8p0\\LocalCache\\local-packages\\Python39\\site-packages\\torch\\cuda\\__init__.py:239\u001b[0m, in \u001b[0;36m_lazy_init\u001b[1;34m()\u001b[0m\n\u001b[0;32m    235\u001b[0m     \u001b[38;5;28;01mraise\u001b[39;00m \u001b[38;5;167;01mRuntimeError\u001b[39;00m(\n\u001b[0;32m    236\u001b[0m         \u001b[38;5;124m\"\u001b[39m\u001b[38;5;124mCannot re-initialize CUDA in forked subprocess. To use CUDA with \u001b[39m\u001b[38;5;124m\"\u001b[39m\n\u001b[0;32m    237\u001b[0m         \u001b[38;5;124m\"\u001b[39m\u001b[38;5;124mmultiprocessing, you must use the \u001b[39m\u001b[38;5;124m'\u001b[39m\u001b[38;5;124mspawn\u001b[39m\u001b[38;5;124m'\u001b[39m\u001b[38;5;124m start method\u001b[39m\u001b[38;5;124m\"\u001b[39m)\n\u001b[0;32m    238\u001b[0m \u001b[38;5;28;01mif\u001b[39;00m \u001b[38;5;129;01mnot\u001b[39;00m \u001b[38;5;28mhasattr\u001b[39m(torch\u001b[38;5;241m.\u001b[39m_C, \u001b[38;5;124m'\u001b[39m\u001b[38;5;124m_cuda_getDeviceCount\u001b[39m\u001b[38;5;124m'\u001b[39m):\n\u001b[1;32m--> 239\u001b[0m     \u001b[38;5;28;01mraise\u001b[39;00m \u001b[38;5;167;01mAssertionError\u001b[39;00m(\u001b[38;5;124m\"\u001b[39m\u001b[38;5;124mTorch not compiled with CUDA enabled\u001b[39m\u001b[38;5;124m\"\u001b[39m)\n\u001b[0;32m    240\u001b[0m \u001b[38;5;28;01mif\u001b[39;00m _cudart \u001b[38;5;129;01mis\u001b[39;00m \u001b[38;5;28;01mNone\u001b[39;00m:\n\u001b[0;32m    241\u001b[0m     \u001b[38;5;28;01mraise\u001b[39;00m \u001b[38;5;167;01mAssertionError\u001b[39;00m(\n\u001b[0;32m    242\u001b[0m         \u001b[38;5;124m\"\u001b[39m\u001b[38;5;124mlibcudart functions unavailable. It looks like you have a broken build?\u001b[39m\u001b[38;5;124m\"\u001b[39m)\n",
      "\u001b[1;31mAssertionError\u001b[0m: Torch not compiled with CUDA enabled"
     ]
    }
   ],
   "source": [
    "# Construct a tensor on the CPU\n",
    "x0 = torch.tensor([[1, 2], [3, 4]], dtype=torch.float32)\n",
    "print('x0 device:', x0.device)\n",
    "\n",
    "# Move it to the GPU using .to()\n",
    "x1 = x0.to('cuda')\n",
    "print('x1 device:', x1.device)\n",
    "\n",
    "# Move it to the GPU using .cuda()\n",
    "x2 = x0.cuda()\n",
    "print('x2 device:', x2.device)\n",
    "\n",
    "# Move it back to the CPU using .to()\n",
    "x3 = x1.to('cpu')\n",
    "print('x3 device:', x3.device)\n",
    "\n",
    "# Move it back to the CPU using .cpu()\n",
    "x4 = x2.cpu()\n",
    "print('x4 device:', x4.device)\n",
    "\n",
    "# We can construct tensors directly on the GPU as well\n",
    "y = torch.tensor([[1, 2, 3], [4, 5, 6]], dtype=torch.float64, device='cuda')\n",
    "print('y device / dtype:', y.device, y.dtype)\n",
    "\n",
    "# Calling x.to(y) where y is a tensor will return a copy of x with the same\n",
    "# device and dtype as y\n",
    "x5 = x0.to(y)\n",
    "print('x5 device / dtype:', x5.device, x5.dtype)"
   ]
  },
  {
   "cell_type": "markdown",
   "metadata": {
    "colab_type": "text",
    "id": "O-TDxICdOmJo"
   },
   "source": [
    "Performing large tensor operations on a GPU can be **a lot faster** than running the equivalent operation on CPU.\n",
    "\n",
    "Here we compare the speed of adding two tensors of shape (10000, 10000) on CPU and GPU:\n",
    "\n",
    "(Note that GPU code may run asynchronously with CPU code, so when timing the speed of operations on the GPU it is important to use `torch.cuda.synchronize` to synchronize the CPU and GPU.)"
   ]
  },
  {
   "cell_type": "code",
   "execution_count": null,
   "metadata": {
    "colab": {
     "base_uri": "https://localhost:8080/",
     "height": 85
    },
    "colab_type": "code",
    "id": "GW14ZF-_PK7t",
    "outputId": "ecb3ff89-8318-4581-a080-5c7a1dc34933"
   },
   "outputs": [],
   "source": [
    "import time\n",
    "\n",
    "a_cpu = torch.randn(10000, 10000, dtype=torch.float32)\n",
    "b_cpu = torch.randn(10000, 10000, dtype=torch.float32)\n",
    "\n",
    "a_gpu = a_cpu.cuda()\n",
    "b_gpu = b_cpu.cuda()\n",
    "torch.cuda.synchronize()\n",
    "\n",
    "t0 = time.time()\n",
    "c_cpu = a_cpu + b_cpu\n",
    "t1 = time.time()\n",
    "c_gpu = a_gpu + b_gpu\n",
    "torch.cuda.synchronize()\n",
    "t2 = time.time()\n",
    "\n",
    "# Check that they computed the same thing\n",
    "diff = (c_gpu.cpu() - c_cpu).abs().max().item()\n",
    "print('Max difference between c_gpu and c_cpu:', diff)\n",
    "\n",
    "cpu_time = 1000.0 * (t1 - t0)\n",
    "gpu_time = 1000.0 * (t2 - t1)\n",
    "print('CPU time: %.2f ms' % cpu_time)\n",
    "print('GPU time: %.2f ms' % gpu_time)\n",
    "print('GPU speedup: %.2f x' % (cpu_time / gpu_time))"
   ]
  },
  {
   "cell_type": "markdown",
   "metadata": {
    "colab_type": "text",
    "id": "7HEAVPEwviYb"
   },
   "source": [
    "You should see that running the same computation on the GPU was more than 10~30 times faster than on the CPU! Due to the massive speedups that GPUs offer, we will use GPUs to accelerate much of our machine learning code starting in Assignment 2.\n",
    "\n",
    "**Your turn**: Use the GPU to accelerate the following matrix multiplication operation. You should see 5~10x speedup by using the GPU."
   ]
  },
  {
   "cell_type": "code",
   "execution_count": null,
   "metadata": {
    "colab": {
     "base_uri": "https://localhost:8080/",
     "height": 119
    },
    "colab_type": "code",
    "id": "uqEUdst7SAuZ",
    "outputId": "d15fd1f7-e664-49de-8578-068541413a73"
   },
   "outputs": [],
   "source": [
    "import time\n",
    "from pytorch_basic import mm_on_cpu, mm_on_gpu\n",
    "\n",
    "x = torch.rand(512, 4096)\n",
    "w = torch.rand(4096, 4096)\n",
    "\n",
    "t0 = time.time()\n",
    "y0 = mm_on_cpu(x, w)\n",
    "t1 = time.time()\n",
    "\n",
    "y1 = mm_on_gpu(x, w)\n",
    "torch.cuda.synchronize()\n",
    "t2 = time.time()\n",
    "\n",
    "print('y1 on CPU:', y1.device == torch.device('cpu'))\n",
    "diff = (y0 - y1).abs().max().item()\n",
    "print('Max difference between y0 and y1:', diff)\n",
    "print('Difference within tolerance:', diff < 5e-2)\n",
    "\n",
    "cpu_time = 1000.0 * (t1 - t0)\n",
    "gpu_time = 1000.0 * (t2 - t1)\n",
    "print('CPU time: %.2f ms' % cpu_time)\n",
    "print('GPU time: %.2f ms' % gpu_time)\n",
    "print('GPU speedup: %.2f x' % (cpu_time / gpu_time))"
   ]
  },
  {
   "cell_type": "markdown",
   "metadata": {},
   "source": [
    "# MLP with Pytorch\n",
    "In this section, we'll train a multi-layer perceptron model to classify MNIST digits using PyTorch.\n",
    "\n",
    "First, the needed imports."
   ]
  },
  {
   "cell_type": "code",
   "execution_count": 1,
   "metadata": {},
   "outputs": [
    {
     "name": "stdout",
     "output_type": "stream",
     "text": [
      "Using PyTorch version: 2.0.0+cpu\n",
      "No GPU found, using CPU instead.\n"
     ]
    }
   ],
   "source": [
    "%matplotlib inline\n",
    "\n",
    "import torch\n",
    "import torch.nn as nn\n",
    "from torch.utils.data import DataLoader\n",
    "from torchvision import datasets\n",
    "from torchvision.transforms import ToTensor\n",
    "\n",
    "import numpy as np\n",
    "import matplotlib.pyplot as plt\n",
    "\n",
    "print('Using PyTorch version:', torch.__version__)\n",
    "if torch.cuda.is_available():\n",
    "    print('Using GPU, device name:', torch.cuda.get_device_name(0))\n",
    "    device = torch.device('cuda')\n",
    "else:\n",
    "    print('No GPU found, using CPU instead.')\n",
    "    device = torch.device('cpu')"
   ]
  },
  {
   "cell_type": "markdown",
   "metadata": {},
   "source": [
    "## Loading data\n",
    "\n",
    "PyTorch has two classes from [`torch.utils.data` to work with data](https://pytorch.org/docs/stable/data.html#module-torch.utils.data):\n",
    "- [Dataset](https://pytorch.org/docs/stable/data.html#torch.utils.data.Dataset) which represents the actual data items, such as images or pieces of text, and their labels\n",
    "- [DataLoader](https://pytorch.org/docs/stable/data.html#torch.utils.data.DataLoader) which is used for processing the dataset in batches in an efficient manner.\n",
    "\n",
    "PyTorch has domain-specific libraries with utilities for common data types such as [TorchText](https://pytorch.org/text/stable/index.html), [TorchVision](https://pytorch.org/vision/stable/index.html) and [TorchAudio](https://pytorch.org/audio/stable/index.html).\n",
    "\n",
    "Here we will use TorchVision and `torchvision.datasets` which provides easy access to [many common visual datasets](https://pytorch.org/vision/stable/datasets.html). In this example we'll use the [MNIST class](https://pytorch.org/vision/stable/generated/torchvision.datasets.MNIST.html#torchvision.datasets.MNIST) for loading the [MNIST dataset](https://en.wikipedia.org/wiki/MNIST_database)."
   ]
  },
  {
   "cell_type": "code",
   "execution_count": 18,
   "metadata": {},
   "outputs": [],
   "source": [
    "batch_size = 32\n",
    "\n",
    "#############################################################################\n",
    "#                    TODO: Implement this section                           #\n",
    "#############################################################################\n",
    "dataset = datasets.MNIST(root='data', train=True, download=True, transform=ToTensor())\n",
    "train_dataset, test_dataset = torch.utils.data.random_split(dataset, [0.8, 0.2])\n",
    "train_loader = DataLoader(train_dataset, batch_size=batch_size, shuffle=True)\n",
    "test_loader = DataLoader(test_dataset, batch_size=batch_size, shuffle=False)\n",
    "#############################################################################\n",
    "#                            END OF YOUR CODE                               #\n",
    "#############################################################################\n"
   ]
  },
  {
   "cell_type": "code",
   "execution_count": 20,
   "metadata": {},
   "outputs": [
    {
     "name": "stdout",
     "output_type": "stream",
     "text": [
      "60000\n",
      "48000\n",
      "12000\n",
      "1500\n",
      "375\n"
     ]
    }
   ],
   "source": [
    "print(len(dataset))\n",
    "print(len(train_dataset))\n",
    "print(len(test_dataset))\n",
    "print(len(train_loader))\n",
    "print(len(test_loader))"
   ]
  },
  {
   "cell_type": "markdown",
   "metadata": {},
   "source": [
    "The data loaders provide a way of iterating (making a loop over) the datasets, each time getting a new batch of data with the given batch size.\n",
    "\n",
    "The first element of the data batch (`data`) is a 4th-order tensor of size (`batch_size`, 1, 28, 28), i.e. it consists of a batch of images of size 1x28x28 pixels, where the first value is the number of color channels (only 1 in this case as it's gray scale).\n",
    "\n",
    "The second element of the batch (`target`) is a vector containing the correct (or \"target\") classes (\"0\", \"1\", ..., \"9\") for each training digit."
   ]
  },
  {
   "cell_type": "markdown",
   "metadata": {},
   "source": [
    "Show the first 10 training digits:\n"
   ]
  },
  {
   "cell_type": "code",
   "execution_count": 3,
   "metadata": {},
   "outputs": [
    {
     "data": {
      "image/png": "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",
      "text/plain": [
       "<Figure size 432x288 with 10 Axes>"
      ]
     },
     "metadata": {
      "needs_background": "light"
     },
     "output_type": "display_data"
    }
   ],
   "source": [
    "#############################################################################\n",
    "#                    TODO: Implement this section                           #\n",
    "#############################################################################\n",
    "for data, target in train_loader:\n",
    "    for i in range(10):\n",
    "        image = data[i].squeeze().numpy()\n",
    "        label = target[i].item()\n",
    "\n",
    "        plt.subplot(2, 5, i + 1)\n",
    "        plt.imshow(image, cmap='gray')\n",
    "        plt.title(\"Label: \" + str(label))\n",
    "        plt.axis('off')\n",
    "    plt.show()\n",
    "    break\n",
    "#############################################################################\n",
    "#                            END OF YOUR CODE                               #\n",
    "#############################################################################\n"
   ]
  },
  {
   "cell_type": "markdown",
   "metadata": {},
   "source": [
    "## Multi-layer perceptron (MLP) network\n",
    "\n",
    "In PyTorch, a neural network is defined as a Python class. It needs to have two methods:\n",
    "\n",
    "- `__init__()` which initializes the layers used in the network\n",
    "- `forward()` which defines how the network performs a forward pass\n",
    "\n",
    "PyTorch will then automatically generate a `backward()` method that computes the gradients based on the computation done in the forward pass.\n",
    "\n",
    "All the [neural network building blocks defined in PyTorch can be found in the torch.nn documentation](https://pytorch.org/docs/stable/nn.html).\n",
    "\n",
    "We use `nn.Sequential` to more easily create a simple sequental neural network:\n",
    "\n",
    "- First we need to \"flatten\" the 2D image into a vector with `nn.Flatten`\n",
    "\n",
    "- Next a fully-connected layer with 20 neurons is created with `nn.Linear`. Note that we need to specify the number of input and output connections. In this case there are 28x28=784 inputs, and 64 outputs\n",
    "\n",
    "- Next, a ReLU non-linear activation\n",
    "\n",
    "- Finally the output of the last layer needs to be a 10-dimensional vector to match the ground truth of ten classes (the ten digits).\n",
    "\n",
    "The output of the last layer should be normalized with softmax, but this is actually included implicitly in the loss function in PyTorch."
   ]
  },
  {
   "cell_type": "code",
   "execution_count": 4,
   "metadata": {},
   "outputs": [
    {
     "name": "stdout",
     "output_type": "stream",
     "text": [
      "SimpleMLP(\n",
      "  (layers): Sequential(\n",
      "    (0): Flatten(start_dim=1, end_dim=-1)\n",
      "    (1): Linear(in_features=784, out_features=64, bias=True)\n",
      "    (2): ReLU()\n",
      "    (3): Linear(in_features=64, out_features=10, bias=True)\n",
      "  )\n",
      ")\n"
     ]
    }
   ],
   "source": [
    "class SimpleMLP(nn.Module):\n",
    "    def __init__(self):\n",
    "        super(SimpleMLP, self).__init__()\n",
    "        # super().__init__()\n",
    "        #############################################################################\n",
    "        #                    TODO: Implement this section                           #\n",
    "        #############################################################################\n",
    "        self.layers = nn.Sequential(nn.Flatten(start_dim=1, end_dim=-1),\n",
    "                                    nn.Linear(in_features=784, out_features=64, bias=True), \n",
    "                                    nn.ReLU(), \n",
    "                                    nn.Linear(in_features=64, out_features=10, bias=True))\n",
    "        #############################################################################\n",
    "        #                            END OF YOUR CODE                               #\n",
    "        #############################################################################\n",
    "\n",
    "\n",
    "    def forward(self, x):\n",
    "        #############################################################################\n",
    "        #                    TODO: Implement this section                           #\n",
    "        #############################################################################\n",
    "        x = self.layers(x)\n",
    "        return x\n",
    "        #############################################################################\n",
    "        #                            END OF YOUR CODE                               #\n",
    "        #############################################################################\n",
    "\n",
    "model = SimpleMLP().to(device)\n",
    "print(model)"
   ]
  },
  {
   "cell_type": "markdown",
   "metadata": {},
   "source": [
    "# Training the model\n",
    "\n",
    "In order to train the model we need to define a loss function and an optimizer.\n",
    "\n",
    "For a classification task we typically use the cross entropy loss. For this we can use the class [CrossEntropyLoss](https://pytorch.org/docs/stable/generated/torch.nn.CrossEntropyLoss.html).\n",
    "\n",
    "**Note:** if you read the documentation of `CrossEntropyLoss` carefully you will see that it expects the unnormalized raw outputs of the model as softmax is included implicitly in PyTorch's implementation of `CrossEntropyLoss`. This is why we don't need to explicitly use softmax in the network definition above.\n",
    "\n",
    "Finally, we need to define an optimizer, which tells how to update the model parameters based on the computed gradients. There are [several different optimizer algorithms implemented in PyTorch](https://pytorch.org/docs/stable/optim.html#algorithms)."
   ]
  },
  {
   "cell_type": "code",
   "execution_count": 5,
   "metadata": {},
   "outputs": [],
   "source": [
    "# define an optimizer and a criterion function  \n",
    "#############################################################################\n",
    "#                    TODO: Implement this section                           #\n",
    "#############################################################################\n",
    "criterion = nn.CrossEntropyLoss()\n",
    "optimizer = torch.optim.SGD(model.parameters(), lr=0.01, momentum=0.9)\n",
    "#############################################################################\n",
    "#                            END OF YOUR CODE                               #\n",
    "#############################################################################\n"
   ]
  },
  {
   "cell_type": "markdown",
   "metadata": {},
   "source": [
    "In PyTorch we have to write the training loop ourselves.\n",
    "\n",
    "The code below consists of two loops:\n",
    "\n",
    "- The outer loop goes over a number of *epochs*. An epoch is a single pass through the whole training data.\n",
    "- The inner loop goes through the whole dataset, a batch at a time. Here we have defined the batch size to be 32, so images are handled 32 at a time.\n",
    "\n",
    "For each batch we:\n",
    "\n",
    "- Copy the data to the GPU with the `.to(device)` method. If we don't have a GPU, these commands will not do anything.\n",
    "\n",
    "- Do a forward pass, which is as simple as: `output = model(data)`\n",
    "\n",
    "- Finally we calculate the loss - that is the error between the output of the network and the target we want to get - using the `criterion` function we defined earlier\n",
    "\n",
    "- The last lines do the backward propagation with `loss.backward()`, the weights are updated with `optimizer.step()` and finally we need to zero the gradient counters with `optimizer.zero_grad()`."
   ]
  },
  {
   "cell_type": "markdown",
   "metadata": {},
   "source": [
    "First,write a helper function to calculate the number of correctly classified digits."
   ]
  },
  {
   "cell_type": "code",
   "execution_count": 6,
   "metadata": {},
   "outputs": [],
   "source": [
    "def correct(output, target):\n",
    "    #############################################################################\n",
    "    #                    TODO: Implement this section                           #\n",
    "    #############################################################################\n",
    "    # pick digit with largest network output\n",
    "    # 1.0 for correct, 0.0 for incorrect\n",
    "    # count number of correct ones\n",
    "    _, predicted = torch.max(output, 1)\n",
    "    correct = (predicted == target).sum().item()\n",
    "    return correct\n",
    "    #############################################################################\n",
    "    #                            END OF YOUR CODE                               #\n",
    "    #############################################################################\n"
   ]
  },
  {
   "cell_type": "markdown",
   "metadata": {},
   "source": [
    "Next write a function for a single training epoch.\n",
    "Print average loss value and the accuracy of each epoch."
   ]
  },
  {
   "cell_type": "code",
   "execution_count": 7,
   "metadata": {},
   "outputs": [],
   "source": [
    "def train(data_loader, model, criterion, optimizer):\n",
    "    #############################################################################\n",
    "    #                    TODO: Implement this section                           #\n",
    "    #############################################################################\n",
    "    model.train()\n",
    "    corrects = 0\n",
    "    total_samples = 0\n",
    "    total_loss = 0.0\n",
    "    \n",
    "    for input, target in data_loader:\n",
    "        optimizer.zero_grad()\n",
    "\n",
    "        output = model(input)\n",
    "        loss = criterion(output, target)\n",
    "        loss.backward()\n",
    "\n",
    "        optimizer.step()\n",
    "        total_samples += target.size(0)\n",
    "        corrects += correct(output, target)\n",
    "        total_loss += loss.item()\n",
    "    accuracy = corrects / total_samples\n",
    "    print(f\"Average Loss: {total_loss / len(data_loader)}\\tAccuracy: {accuracy}\")\n",
    "    \n",
    "    #############################################################################\n",
    "    #                            END OF YOUR CODE                               #\n",
    "    #############################################################################"
   ]
  },
  {
   "cell_type": "code",
   "execution_count": 8,
   "metadata": {},
   "outputs": [
    {
     "name": "stdout",
     "output_type": "stream",
     "text": [
      "Training epoch: 1\n",
      "Average Loss: 0.40153898526107273\tAccuracy: 0.8845\n",
      "Training epoch: 2\n",
      "Average Loss: 0.1956069027359287\tAccuracy: 0.9429166666666666\n",
      "Training epoch: 3\n",
      "Average Loss: 0.1438931806087494\tAccuracy: 0.9585416666666666\n",
      "Training epoch: 4\n",
      "Average Loss: 0.11529873326886446\tAccuracy: 0.9664791666666667\n",
      "Training epoch: 5\n",
      "Average Loss: 0.09627401106152683\tAccuracy: 0.9715833333333334\n",
      "Training epoch: 6\n",
      "Average Loss: 0.08298619397046665\tAccuracy: 0.9754166666666667\n",
      "Training epoch: 7\n",
      "Average Loss: 0.07197451813534524\tAccuracy: 0.9790416666666667\n",
      "Training epoch: 8\n",
      "Average Loss: 0.06277404686125616\tAccuracy: 0.9817291666666667\n",
      "Training epoch: 9\n",
      "Average Loss: 0.05665127366455272\tAccuracy: 0.9832708333333333\n",
      "Training epoch: 10\n",
      "Average Loss: 0.05043573754917209\tAccuracy: 0.9848125\n",
      "CPU times: total: 5min 7s\n",
      "Wall time: 1min 19s\n"
     ]
    }
   ],
   "source": [
    "%%time\n",
    "\n",
    "epochs = 10\n",
    "for epoch in range(epochs):\n",
    "    print(f\"Training epoch: {epoch+1}\")\n",
    "    train(train_loader, model, criterion, optimizer)"
   ]
  },
  {
   "cell_type": "markdown",
   "metadata": {},
   "source": [
    "### Inference\n",
    "\n",
    "For a better measure of the quality of the model, let's see the model accuracy for the test data.\n",
    "\n",
    "The code is similar to the training code: we just loop over the whole testset, but no need to do backpropagation or calculate any gradients this time."
   ]
  },
  {
   "cell_type": "code",
   "execution_count": 21,
   "metadata": {},
   "outputs": [],
   "source": [
    "def test(test_loader, model, criterion):\n",
    "    #############################################################################\n",
    "    #                    TODO: Implement this section                           #\n",
    "    #############################################################################\n",
    "    # Replace \"pass\" statement with your code\n",
    "    model.eval()  # Set the model to evaluation mode\n",
    "    corrects = 0\n",
    "    total_samples = 0\n",
    "    total_loss = 0.0\n",
    "    \n",
    "    with torch.no_grad():  # Disable gradient calculation during evaluation\n",
    "        for input, target in test_loader:\n",
    "            output = model(input)\n",
    "            loss = criterion(output, target)\n",
    "            \n",
    "            total_samples += target.size(0)\n",
    "            corrects += correct(output, target)\n",
    "            total_loss += loss.item()\n",
    "    \n",
    "    accuracy = corrects / total_samples\n",
    "    print(f\"Testing - Average Loss: {total_loss / len(test_loader)}\\tAccuracy: {accuracy}\")\n",
    "\n",
    "    #############################################################################\n",
    "    #                            END OF YOUR CODE                               #\n",
    "    #############################################################################"
   ]
  },
  {
   "cell_type": "code",
   "execution_count": 22,
   "metadata": {},
   "outputs": [
    {
     "name": "stdout",
     "output_type": "stream",
     "text": [
      "Testing - Average Loss: 0.05070084627717733\tAccuracy: 0.98525\n"
     ]
    }
   ],
   "source": [
    "test(test_loader, model, criterion)"
   ]
  },
  {
   "cell_type": "markdown",
   "metadata": {},
   "source": [
    "Done!"
   ]
  }
 ],
 "metadata": {
  "accelerator": "GPU",
  "colab": {
   "collapsed_sections": [
    "kQndOAmiVTO3",
    "bCtoiSyVVTO8",
    "hQrEwOpXb9Gh",
    "zjosrOn8mOMV",
    "OgPaSNS2mVPn",
    "zeH5501nmh7W",
    "1MEmHrgBsgX4",
    "HrBSx6hYu8ca",
    "LWagwmXuvIle",
    "Yz_VDA3IvP33",
    "Rz_hiJD33fu1",
    "rlANfnILvX3S",
    "mo-PoTWNvbba",
    "4y93rPhGveWw",
    "oGt8ZPb_vixw",
    "Ad-xqELwyqpN",
    "Ql9_eXuU4OG8",
    "Z150qBob4Wkz",
    "f4SJCVbf-bZ0",
    "WJiiBxNE-X8g",
    "NgcdvD1evxTQ",
    "1BCVlPHZ4_Qz",
    "yDyH9USAuyZ-",
    "lRyLyXU2u29N",
    "mbCVOr2sVTRR",
    "UISn2pcf9QjY",
    "NlJs-yN4VTRp",
    "uN6FfqU9wFeG"
   ],
   "name": "pytorch101.ipynb",
   "provenance": [],
   "toc_visible": true
  },
  "kernelspec": {
   "display_name": "Python 3",
   "language": "python",
   "name": "python3"
  },
  "language_info": {
   "codemirror_mode": {
    "name": "ipython",
    "version": 3
   },
   "file_extension": ".py",
   "mimetype": "text/x-python",
   "name": "python",
   "nbconvert_exporter": "python",
   "pygments_lexer": "ipython3",
   "version": "3.9.13"
  },
  "vscode": {
   "interpreter": {
    "hash": "e534e48711db4d1e1c48977d0d14ff85b1f16d41bcc4fdfd88268a329b3c9d66"
   }
  }
 },
 "nbformat": 4,
 "nbformat_minor": 0
}

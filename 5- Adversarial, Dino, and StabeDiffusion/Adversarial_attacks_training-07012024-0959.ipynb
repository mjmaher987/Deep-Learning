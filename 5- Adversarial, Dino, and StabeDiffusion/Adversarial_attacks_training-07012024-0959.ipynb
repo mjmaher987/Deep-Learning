{
  "cells": [
    {
      "cell_type": "markdown",
      "metadata": {
        "id": "Sv8boL4WHenc"
      },
      "source": [
        "<center><h1>In the name of Allah</h1></center>"
      ]
    },
    {
      "cell_type": "markdown",
      "metadata": {
        "id": "U0RUcXJiHend"
      },
      "source": [
        "Name: Mohammadjavad Maheronnaghsh\n"
      ]
    },
    {
      "cell_type": "markdown",
      "metadata": {
        "id": "DLZ-qF5sHend"
      },
      "source": [
        "In this notebook, you will explore adversarial attacks and training methods in deep learning. First, you will train a simple model, ResNet18, on the CIFAR-10 dataset. Next, you will learn about two different adversarial attacks: FGSM (Fast Gradient Sign Method) and PGD (Projected Gradient Descent). To enhance your understanding, you will implement the PGD attack from scratch, while the FGSM attack will be implemented using a library. After this, you will use the FGSM attack to generate adversarial examples and then perform adversarial training on the model using the CIFAR-10 dataset. Finally, you will compare the performance and robustness of the adversarially trained model with the original model.\n",
        "\n",
        "Good luck!"
      ]
    },
    {
      "cell_type": "markdown",
      "metadata": {
        "id": "DLtz_4tgHene"
      },
      "source": [
        "## outline\n",
        "- Train Resnet on CIFAR10\n",
        "- FGSM Attack using torchattacks\n",
        "- PGD Attack from scratch\n",
        "- Visualization\n",
        "- Adversarial Training\n"
      ]
    },
    {
      "cell_type": "code",
      "execution_count": 1,
      "metadata": {
        "id": "-wwPh4x2Hene"
      },
      "outputs": [],
      "source": [
        "import torch\n",
        "import torchvision\n",
        "import torchvision.transforms as transforms\n",
        "from torchvision.models import resnet18\n",
        "import torch.nn as nn\n",
        "import torch.nn.functional as F\n",
        "import torch.optim as optim\n",
        "import numpy as np\n",
        "from torch.autograd import Variable\n",
        "from tqdm import tqdm"
      ]
    },
    {
      "cell_type": "code",
      "execution_count": 2,
      "metadata": {
        "colab": {
          "base_uri": "https://localhost:8080/"
        },
        "id": "aSxQB7CSHene",
        "outputId": "bff31d8b-c264-4554-97f0-d1da9c6d7303"
      },
      "outputs": [
        {
          "name": "stdout",
          "output_type": "stream",
          "text": [
            "cuda:0\n"
          ]
        }
      ],
      "source": [
        "device = 'cuda:0' if torch.cuda.is_available() else 'cpu'\n",
        "print(device)"
      ]
    },
    {
      "cell_type": "code",
      "execution_count": 3,
      "metadata": {
        "id": "QBuZXsCKZ7k8"
      },
      "outputs": [],
      "source": [
        "# ! pip install torchattacks # needs to restart the Google Colab"
      ]
    },
    {
      "cell_type": "markdown",
      "metadata": {
        "id": "EI9v1qtcHene"
      },
      "source": [
        "## Train Resnet on CIFAR10 (15 pts)"
      ]
    },
    {
      "cell_type": "code",
      "execution_count": 4,
      "metadata": {
        "colab": {
          "base_uri": "https://localhost:8080/"
        },
        "id": "VGhrgPVXHenf",
        "outputId": "3cdf7bb0-8d40-4cc1-9c4e-025de4df9181"
      },
      "outputs": [
        {
          "name": "stdout",
          "output_type": "stream",
          "text": [
            "Files already downloaded and verified\n",
            "Files already downloaded and verified\n"
          ]
        }
      ],
      "source": [
        "# Prepare Cifar10 data\n",
        "batch_size = 128\n",
        "transform = transforms.Compose([transforms.ToTensor(),])\n",
        "\n",
        "##############################################################################\n",
        "# Prepare training and test datasets and dataloaders                         #\n",
        "##############################################################################\n",
        "trainset = torchvision.datasets.CIFAR10(root='./data', train=True, download=True, transform=transform)\n",
        "trainloader = torch.utils.data.DataLoader(trainset, batch_size=batch_size, shuffle=True, num_workers=2)\n",
        "testset = torchvision.datasets.CIFAR10(root='./data', train=False, download=True, transform=transform)\n",
        "testloader = torch.utils.data.DataLoader(testset, batch_size=batch_size, shuffle=False, num_workers=2)\n",
        "################################ End #########################################\n",
        "\n",
        "classes = ('plane', 'car', 'bird', 'cat', 'deer', 'dog', 'frog', 'horse', 'ship', 'truck')"
      ]
    },
    {
      "cell_type": "code",
      "execution_count": 5,
      "metadata": {
        "id": "HcOiL26FHenf"
      },
      "outputs": [],
      "source": [
        "# model architecture\n",
        "class resnet(nn.Module):\n",
        "  def __init__(self, num_cls):\n",
        "    super().__init__()\n",
        "    self.conv = nn.Sequential(*list(resnet18(weights=None).children())[:-2])\n",
        "    self.fc = nn.Linear(512, num_cls)\n",
        "\n",
        "  def forward(self, x):\n",
        "    x = self.conv(x)\n",
        "    x = torch.flatten(x, start_dim=1)\n",
        "    logits = self.fc(x)\n",
        "    return logits\n",
        "\n",
        "##############################################################################\n",
        "# Initialize model and move to device                                        #\n",
        "##############################################################################\n",
        "model = resnet(num_cls=10).to(device)\n",
        "\n",
        "################################ End #########################################"
      ]
    },
    {
      "cell_type": "code",
      "execution_count": 6,
      "metadata": {
        "id": "0uqLAkNvHenf"
      },
      "outputs": [],
      "source": [
        "learning_rate = 0.01\n",
        "criterion = nn.CrossEntropyLoss()\n",
        "optimizer = optim.SGD(model.parameters(), lr=learning_rate, momentum=0.9)\n",
        "epochs = 75"
      ]
    },
    {
      "cell_type": "code",
      "execution_count": 7,
      "metadata": {
        "colab": {
          "base_uri": "https://localhost:8080/"
        },
        "id": "vWzMfxA1Henf",
        "outputId": "d5e7ad81-8281-47f8-db63-dcffd1f9b8cd"
      },
      "outputs": [
        {
          "name": "stderr",
          "output_type": "stream",
          "text": [
            "Epoch 1/75:   0%|          | 0/391 [00:00<?, ?it/s]/usr/local/lib/python3.10/dist-packages/torch/autograd/graph.py:744: UserWarning: Plan failed with a cudnnException: CUDNN_BACKEND_EXECUTION_PLAN_DESCRIPTOR: cudnnFinalize Descriptor Failed cudnn_status: CUDNN_STATUS_NOT_SUPPORTED (Triggered internally at ../aten/src/ATen/native/cudnn/Conv_v8.cpp:919.)\n",
            "  return Variable._execution_engine.run_backward(  # Calls into the C++ engine to run the backward pass\n",
            "Epoch 1/75: 100%|██████████| 391/391 [00:19<00:00, 20.54it/s, Average Loss=1.53]\n",
            "Epoch 2/75: 100%|██████████| 391/391 [00:19<00:00, 19.94it/s, Average Loss=1.12]\n",
            "Epoch 3/75: 100%|██████████| 391/391 [00:19<00:00, 20.22it/s, Average Loss=0.915]\n",
            "Epoch 4/75: 100%|██████████| 391/391 [00:19<00:00, 20.13it/s, Average Loss=0.771]\n",
            "Epoch 5/75: 100%|██████████| 391/391 [00:19<00:00, 20.55it/s, Average Loss=0.65]\n",
            "Epoch 6/75: 100%|██████████| 391/391 [00:19<00:00, 20.47it/s, Average Loss=0.544]\n",
            "Epoch 7/75: 100%|██████████| 391/391 [00:19<00:00, 20.35it/s, Average Loss=0.464]\n",
            "Epoch 8/75: 100%|██████████| 391/391 [00:19<00:00, 20.19it/s, Average Loss=0.377]\n",
            "Epoch 9/75: 100%|██████████| 391/391 [00:18<00:00, 20.74it/s, Average Loss=0.316]\n",
            "Epoch 10/75: 100%|██████████| 391/391 [00:19<00:00, 20.36it/s, Average Loss=0.254]\n",
            "Epoch 11/75: 100%|██████████| 391/391 [00:19<00:00, 20.18it/s, Average Loss=0.204]\n",
            "Epoch 12/75: 100%|██████████| 391/391 [00:19<00:00, 19.92it/s, Average Loss=0.176]\n",
            "Epoch 13/75: 100%|██████████| 391/391 [00:18<00:00, 20.63it/s, Average Loss=0.136]\n",
            "Epoch 14/75: 100%|██████████| 391/391 [00:19<00:00, 19.83it/s, Average Loss=0.131]\n",
            "Epoch 15/75: 100%|██████████| 391/391 [00:19<00:00, 20.46it/s, Average Loss=0.106]\n",
            "Epoch 16/75: 100%|██████████| 391/391 [00:19<00:00, 19.88it/s, Average Loss=0.0893]\n",
            "Epoch 17/75: 100%|██████████| 391/391 [00:19<00:00, 20.37it/s, Average Loss=0.0816]\n",
            "Epoch 18/75: 100%|██████████| 391/391 [00:19<00:00, 19.94it/s, Average Loss=0.0733]\n",
            "Epoch 19/75: 100%|██████████| 391/391 [00:19<00:00, 20.55it/s, Average Loss=0.0575]\n",
            "Epoch 20/75: 100%|██████████| 391/391 [00:19<00:00, 19.94it/s, Average Loss=0.051]\n",
            "Epoch 21/75: 100%|██████████| 391/391 [00:19<00:00, 20.13it/s, Average Loss=0.0514]\n",
            "Epoch 22/75: 100%|██████████| 391/391 [00:19<00:00, 20.11it/s, Average Loss=0.0451]\n",
            "Epoch 23/75: 100%|██████████| 391/391 [00:18<00:00, 20.77it/s, Average Loss=0.0338]\n",
            "Epoch 24/75: 100%|██████████| 391/391 [00:19<00:00, 20.18it/s, Average Loss=0.0425]\n",
            "Epoch 25/75: 100%|██████████| 391/391 [00:18<00:00, 20.70it/s, Average Loss=0.0361]\n",
            "Epoch 26/75: 100%|██████████| 391/391 [00:19<00:00, 20.13it/s, Average Loss=0.0341]\n",
            "Epoch 27/75: 100%|██████████| 391/391 [00:18<00:00, 20.69it/s, Average Loss=0.0301]\n",
            "Epoch 28/75: 100%|██████████| 391/391 [00:19<00:00, 20.16it/s, Average Loss=0.0231]\n",
            "Epoch 29/75: 100%|██████████| 391/391 [00:18<00:00, 20.80it/s, Average Loss=0.0191]\n",
            "Epoch 30/75: 100%|██████████| 391/391 [00:19<00:00, 19.81it/s, Average Loss=0.0223]\n",
            "Epoch 31/75: 100%|██████████| 391/391 [00:18<00:00, 20.73it/s, Average Loss=0.0236]\n",
            "Epoch 32/75: 100%|██████████| 391/391 [00:19<00:00, 20.31it/s, Average Loss=0.0222]\n",
            "Epoch 33/75: 100%|██████████| 391/391 [00:18<00:00, 20.80it/s, Average Loss=0.0264]\n",
            "Epoch 34/75: 100%|██████████| 391/391 [00:19<00:00, 20.30it/s, Average Loss=0.0183]\n",
            "Epoch 35/75: 100%|██████████| 391/391 [00:18<00:00, 20.86it/s, Average Loss=0.0142]\n",
            "Epoch 36/75: 100%|██████████| 391/391 [00:19<00:00, 20.21it/s, Average Loss=0.01]\n",
            "Epoch 37/75: 100%|██████████| 391/391 [00:18<00:00, 20.75it/s, Average Loss=0.0087]\n",
            "Epoch 38/75: 100%|██████████| 391/391 [00:19<00:00, 20.34it/s, Average Loss=0.0135]\n",
            "Epoch 39/75: 100%|██████████| 391/391 [00:19<00:00, 20.25it/s, Average Loss=0.0136]\n",
            "Epoch 40/75: 100%|██████████| 391/391 [00:19<00:00, 20.13it/s, Average Loss=0.0183]\n",
            "Epoch 41/75: 100%|██████████| 391/391 [00:18<00:00, 20.70it/s, Average Loss=0.0153]\n",
            "Epoch 42/75: 100%|██████████| 391/391 [00:19<00:00, 19.97it/s, Average Loss=0.016]\n",
            "Epoch 43/75: 100%|██████████| 391/391 [00:18<00:00, 20.64it/s, Average Loss=0.0149]\n",
            "Epoch 44/75: 100%|██████████| 391/391 [00:19<00:00, 19.89it/s, Average Loss=0.00701]\n",
            "Epoch 45/75: 100%|██████████| 391/391 [00:18<00:00, 20.59it/s, Average Loss=0.00318]\n",
            "Epoch 46/75: 100%|██████████| 391/391 [00:19<00:00, 20.11it/s, Average Loss=0.00344]\n",
            "Epoch 47/75: 100%|██████████| 391/391 [00:19<00:00, 20.47it/s, Average Loss=0.00392]\n",
            "Epoch 48/75: 100%|██████████| 391/391 [00:19<00:00, 20.00it/s, Average Loss=0.00316]\n",
            "Epoch 49/75: 100%|██████████| 391/391 [00:19<00:00, 19.82it/s, Average Loss=0.00326]\n",
            "Epoch 50/75: 100%|██████████| 391/391 [00:19<00:00, 19.61it/s, Average Loss=0.00959]\n",
            "Epoch 51/75: 100%|██████████| 391/391 [00:19<00:00, 20.25it/s, Average Loss=0.0174]\n",
            "Epoch 52/75: 100%|██████████| 391/391 [00:19<00:00, 19.78it/s, Average Loss=0.0191]\n",
            "Epoch 53/75: 100%|██████████| 391/391 [00:19<00:00, 20.30it/s, Average Loss=0.0147]\n",
            "Epoch 54/75: 100%|██████████| 391/391 [00:19<00:00, 19.77it/s, Average Loss=0.0115]\n",
            "Epoch 55/75: 100%|██████████| 391/391 [00:19<00:00, 20.16it/s, Average Loss=0.00909]\n",
            "Epoch 56/75: 100%|██████████| 391/391 [00:19<00:00, 19.82it/s, Average Loss=0.00717]\n",
            "Epoch 57/75: 100%|██████████| 391/391 [00:19<00:00, 20.03it/s, Average Loss=0.00443]\n",
            "Epoch 58/75: 100%|██████████| 391/391 [00:20<00:00, 19.51it/s, Average Loss=0.00471]\n",
            "Epoch 59/75: 100%|██████████| 391/391 [00:19<00:00, 19.89it/s, Average Loss=0.00276]\n",
            "Epoch 60/75: 100%|██████████| 391/391 [00:19<00:00, 20.23it/s, Average Loss=0.00449]\n",
            "Epoch 61/75: 100%|██████████| 391/391 [00:19<00:00, 19.74it/s, Average Loss=0.00133]\n",
            "Epoch 62/75: 100%|██████████| 391/391 [00:19<00:00, 20.17it/s, Average Loss=0.00135]\n",
            "Epoch 63/75: 100%|██████████| 391/391 [00:19<00:00, 19.72it/s, Average Loss=0.00113]\n",
            "Epoch 64/75: 100%|██████████| 391/391 [00:19<00:00, 20.21it/s, Average Loss=0.000846]\n",
            "Epoch 65/75: 100%|██████████| 391/391 [00:19<00:00, 19.87it/s, Average Loss=0.000725]\n",
            "Epoch 66/75: 100%|██████████| 391/391 [00:18<00:00, 20.66it/s, Average Loss=0.000369]\n",
            "Epoch 67/75: 100%|██████████| 391/391 [00:19<00:00, 19.79it/s, Average Loss=0.000155]\n",
            "Epoch 68/75: 100%|██████████| 391/391 [00:19<00:00, 20.29it/s, Average Loss=0.000171]\n",
            "Epoch 69/75: 100%|██████████| 391/391 [00:19<00:00, 20.25it/s, Average Loss=0.000124]\n",
            "Epoch 70/75: 100%|██████████| 391/391 [00:19<00:00, 20.48it/s, Average Loss=7.15e-5]\n",
            "Epoch 71/75: 100%|██████████| 391/391 [00:19<00:00, 19.83it/s, Average Loss=7.97e-5]\n",
            "Epoch 72/75: 100%|██████████| 391/391 [00:19<00:00, 20.40it/s, Average Loss=0.000141]\n",
            "Epoch 73/75: 100%|██████████| 391/391 [00:19<00:00, 19.77it/s, Average Loss=0.00027]\n",
            "Epoch 74/75: 100%|██████████| 391/391 [00:19<00:00, 20.40it/s, Average Loss=0.000136]\n",
            "Epoch 75/75: 100%|██████████| 391/391 [00:19<00:00, 19.85it/s, Average Loss=8.55e-5]\n"
          ]
        }
      ],
      "source": [
        "##############################################################################\n",
        "# Implement train loop and log training loss after each epoch                #\n",
        "##############################################################################\n",
        "\n",
        "model.train()\n",
        "\n",
        "for epoch in range(epochs):\n",
        "    total_loss = 0.0\n",
        "    progress_bar = tqdm(trainloader, desc=f'Epoch {epoch+1}/{epochs}', leave=True)\n",
        "    for i, data in enumerate(progress_bar):\n",
        "        inputs, labels = data\n",
        "        inputs, labels = inputs.to(device), labels.to(device)\n",
        "        optimizer.zero_grad()\n",
        "        outputs = model(inputs)\n",
        "        loss = criterion(outputs, labels)\n",
        "        loss.backward()\n",
        "        optimizer.step()\n",
        "\n",
        "        total_loss += loss.item()\n",
        "        avg_loss = total_loss / (i + 1)\n",
        "        progress_bar.set_postfix({'Average Loss': avg_loss})\n",
        "\n",
        "################################ End #########################################"
      ]
    },
    {
      "cell_type": "code",
      "execution_count": 8,
      "metadata": {
        "id": "8a0ZSFdHHeng"
      },
      "outputs": [],
      "source": [
        "##############################################################################\n",
        "# Evaluate the trained model on test set and print test accuracy             #\n",
        "##############################################################################\n",
        "\n",
        "def evaluate(model, test_loader):\n",
        "  model.eval()\n",
        "  with torch.no_grad():\n",
        "    total = 0.0\n",
        "    correct = 0.0\n",
        "    for data in test_loader:\n",
        "      images, labels = data\n",
        "      images, labels = images.to(device), labels.to(device)\n",
        "\n",
        "      outputs = model(images)\n",
        "      _, predicted = torch.max(outputs.data, 1)\n",
        "      total += labels.size(0)\n",
        "      correct += (predicted == labels).sum().item()\n",
        "\n",
        "  print(f'Test Accuracy: {100 * correct / total} %')\n",
        "  return 100 * correct / total\n",
        "\n",
        "################################ End #########################################"
      ]
    },
    {
      "cell_type": "code",
      "execution_count": 9,
      "metadata": {
        "colab": {
          "base_uri": "https://localhost:8080/"
        },
        "id": "UaVFskA-NUFe",
        "outputId": "6bb0dd26-7e52-41d3-9d52-582a8bc9f398"
      },
      "outputs": [
        {
          "name": "stdout",
          "output_type": "stream",
          "text": [
            "Test Accuracy: 75.04 %\n"
          ]
        },
        {
          "name": "stderr",
          "output_type": "stream",
          "text": [
            "/usr/local/lib/python3.10/dist-packages/torch/nn/modules/conv.py:456: UserWarning: Plan failed with a cudnnException: CUDNN_BACKEND_EXECUTION_PLAN_DESCRIPTOR: cudnnFinalize Descriptor Failed cudnn_status: CUDNN_STATUS_NOT_SUPPORTED (Triggered internally at ../aten/src/ATen/native/cudnn/Conv_v8.cpp:919.)\n",
            "  return F.conv2d(input, weight, bias, self.stride,\n"
          ]
        }
      ],
      "source": [
        "a=evaluate(model, testloader)"
      ]
    },
    {
      "cell_type": "code",
      "execution_count": 10,
      "metadata": {
        "id": "ma0eFqYmHeng"
      },
      "outputs": [],
      "source": [
        "# Save model\n",
        "model.eval()\n",
        "model_name = \"resnet18_cifar10_model_pretrained.pth\"\n",
        "model_PATH = f\"{model_name}\"\n",
        "torch.save(model.state_dict(), model_PATH)"
      ]
    },
    {
      "cell_type": "markdown",
      "metadata": {
        "id": "t697ERs4Heng"
      },
      "source": [
        "## FGSM Attack using torchattacks (10 pts)"
      ]
    },
    {
      "cell_type": "markdown",
      "metadata": {
        "id": "dUUR9TN0Heng"
      },
      "source": [
        "In this section you should run FGSM attack using torchattacks library (https://adversarial-attacks-pytorch.readthedocs.io/en/latest/index.html).\n",
        "\n",
        "Run the attack for $\\epsilon \\in \\{\\frac{1}{255}, \\frac{4}{255}, \\frac{8}{255},\\}$ report the performance of the model on untargeted FGSM attack on the test data."
      ]
    },
    {
      "cell_type": "code",
      "execution_count": 11,
      "metadata": {
        "colab": {
          "base_uri": "https://localhost:8080/"
        },
        "id": "uH-T2g_3Heng",
        "outputId": "cb4a056a-6040-4882-df14-ed71eb1825ed"
      },
      "outputs": [
        {
          "name": "stdout",
          "output_type": "stream",
          "text": [
            "epsilon: 0.003922, Accuracy: 52.91\n"
          ]
        },
        {
          "name": "stderr",
          "output_type": "stream",
          "text": [
            "/usr/local/lib/python3.10/dist-packages/torch/autograd/graph.py:744: UserWarning: Plan failed with a cudnnException: CUDNN_BACKEND_EXECUTION_PLAN_DESCRIPTOR: cudnnFinalize Descriptor Failed cudnn_status: CUDNN_STATUS_NOT_SUPPORTED (Triggered internally at ../aten/src/ATen/native/cudnn/Conv_v8.cpp:919.)\n",
            "  return Variable._execution_engine.run_backward(  # Calls into the C++ engine to run the backward pass\n"
          ]
        }
      ],
      "source": [
        "##############################################################################\n",
        "# run untargeted FGSM attack for epsilon = 1/255 and report its accuracy     #\n",
        "##############################################################################\n",
        "from torchattacks import FGSM\n",
        "\n",
        "def evaluate_adversasrial(attack, test_loader, attack_type):\n",
        "  correct = 0\n",
        "  total = 0\n",
        "  model.eval()\n",
        "  for images, labels in test_loader:\n",
        "      images, labels = images.to(device), labels.to(device)\n",
        "      adv_images = attack(images, labels)\n",
        "      outputs = model(adv_images)\n",
        "      _, predicted = torch.max(outputs.data, 1)\n",
        "      total += labels.size(0)\n",
        "      correct += (predicted == labels).sum().item()\n",
        "  if attack_type == \"FGSM\":\n",
        "    print(f'epsilon: {attack.eps:.6f}, Accuracy: {100 * correct / total}')\n",
        "  elif attack_type == \"PGD\":\n",
        "    print(f'k: {attack.steps:.6f}, Accuracy: {100 * correct / total}')\n",
        "\n",
        "\n",
        "epsilon = 1/255\n",
        "attack = FGSM(model, eps=epsilon)\n",
        "a=evaluate_adversasrial(attack, testloader, \"FGSM\")\n",
        "\n",
        "\n",
        "################################ End #########################################"
      ]
    },
    {
      "cell_type": "code",
      "execution_count": 13,
      "metadata": {
        "colab": {
          "base_uri": "https://localhost:8080/"
        },
        "id": "lzpldHRDHeng",
        "outputId": "547a0b24-7084-4106-c865-03ff94e025f6"
      },
      "outputs": [
        {
          "name": "stdout",
          "output_type": "stream",
          "text": [
            "epsilon: 0.015686, Accuracy: 23.14\n"
          ]
        }
      ],
      "source": [
        "##############################################################################\n",
        "# run untargeted FGSM attack for epsilon = 4/255 and report its accuracy     #\n",
        "##############################################################################\n",
        "\n",
        "epsilon = 4/255\n",
        "attack = FGSM(model, eps=epsilon)\n",
        "evaluate_adversasrial(attack, testloader, \"FGSM\")\n",
        "\n",
        "################################ End #########################################"
      ]
    },
    {
      "cell_type": "code",
      "execution_count": 14,
      "metadata": {
        "colab": {
          "base_uri": "https://localhost:8080/"
        },
        "id": "ZAFYBrLLHenh",
        "outputId": "ef384ac5-8734-4112-db1e-684320a85794"
      },
      "outputs": [
        {
          "name": "stdout",
          "output_type": "stream",
          "text": [
            "epsilon: 0.031373, Accuracy: 10.97\n"
          ]
        }
      ],
      "source": [
        "##############################################################################\n",
        "# run untargeted FGSM attack for epsilon = 8/255 and report its accuracy     #\n",
        "##############################################################################\n",
        "\n",
        "epsilon = 8/255\n",
        "attack = FGSM(model, eps=epsilon)\n",
        "evaluate_adversasrial(attack, testloader, \"FGSM\")\n",
        "\n",
        "\n",
        "################################ End #########################################"
      ]
    },
    {
      "cell_type": "markdown",
      "metadata": {
        "id": "TCQT_9wcHenh"
      },
      "source": [
        "## PGD Attack from scratch (30 pts)"
      ]
    },
    {
      "cell_type": "markdown",
      "metadata": {
        "id": "QAGJti7mHenh"
      },
      "source": [
        "In this section you should implement PGD attack from scratch."
      ]
    },
    {
      "cell_type": "code",
      "execution_count": 15,
      "metadata": {
        "id": "xZyW10TjHenh"
      },
      "outputs": [],
      "source": [
        "class LinfPGDAttack(object):\n",
        "\n",
        "    def __init__(self, model, epsilon = 8/255, k = 2, alpha = 2/255):\n",
        "        self.model = model\n",
        "        self.epsilon = epsilon\n",
        "        self.steps = k\n",
        "        self.alpha = alpha\n",
        "\n",
        "    def __call__(self, image, label):\n",
        "        # print(image)\n",
        "\n",
        "        image = image.to(device)\n",
        "        label = label.to(device)\n",
        "\n",
        "        out = self.model(image)\n",
        "        _, pred = torch.max(out, 1)\n",
        "\n",
        "        perturbed_image = image.clone()#.detach()\n",
        "        perturbed_image.to(device)\n",
        "        perturbed_image.requires_grad = True\n",
        "\n",
        "        # if pred.item() == label.item():\n",
        "        if True:\n",
        "            ##############################################################################\n",
        "            # Implement a k step PGD attack of size alpha                                #\n",
        "            # while always staying within epsilon distance from the initial point        #\n",
        "            # Use cross entropy loss                                                     #\n",
        "            ##############################################################################\n",
        "\n",
        "            loss_fn = torch.nn.CrossEntropyLoss()\n",
        "            # print(perturbed_image)\n",
        "\n",
        "            for _ in range(self.steps):\n",
        "\n",
        "                out = self.model(perturbed_image)\n",
        "                self.model.zero_grad()\n",
        "\n",
        "                loss = loss_fn(out, label)\n",
        "                loss.backward()\n",
        "                gradient = perturbed_image.grad.data\n",
        "                perturbed_image = perturbed_image + self.alpha * torch.sign(gradient)\n",
        "                perturbation = torch.clamp(perturbed_image - image, min=-self.epsilon, max=self.epsilon)\n",
        "                perturbed_image = torch.clamp(image + perturbation, min=0, max=1).detach_()\n",
        "                # print(type(perturbed_image))\n",
        "                perturbed_image.requires_grad = True\n",
        "                # print(type(perturbed_image))\n",
        "            perturbation = torch.clamp(perturbed_image - image, min=-self.epsilon, max=self.epsilon)\n",
        "            perturbed_image = torch.clamp(image + perturbation, min=0, max=1).detach()\n",
        "            ################################ End #########################################\n",
        "\n",
        "        return perturbed_image"
      ]
    },
    {
      "cell_type": "code",
      "execution_count": 16,
      "metadata": {
        "colab": {
          "base_uri": "https://localhost:8080/"
        },
        "id": "TItbUJ9hHenh",
        "outputId": "40e42a10-418f-4226-955c-b3b1d613f300"
      },
      "outputs": [
        {
          "name": "stdout",
          "output_type": "stream",
          "text": [
            "PGD attack with k=2\n",
            "k: 2.000000, Accuracy: 15.81\n",
            "PGD attack with k=4\n",
            "k: 4.000000, Accuracy: 2.81\n",
            "PGD attack with k=8\n",
            "k: 8.000000, Accuracy: 0.65\n"
          ]
        }
      ],
      "source": [
        "##############################################################################\n",
        "# Evaluate PGD attack on the trained model with k=2,4,8                      #\n",
        "##############################################################################\n",
        "\n",
        "k_list = [2,4,8]\n",
        "\n",
        "##############################################################################\n",
        "\n",
        "# Your code goes here\n",
        "\n",
        "for k in k_list:\n",
        "    print(f'PGD attack with k={k}')\n",
        "    attack = LinfPGDAttack(model, k=k)\n",
        "    _ = evaluate_adversasrial(attack, testloader, \"PGD\")\n",
        "\n",
        "################################ End #########################################"
      ]
    },
    {
      "cell_type": "markdown",
      "metadata": {
        "id": "JrWm2YzLHenh"
      },
      "source": [
        "## Visualization (10 pts)"
      ]
    },
    {
      "cell_type": "markdown",
      "metadata": {
        "id": "48V4SReTHenh"
      },
      "source": [
        "Implement a function to plot the original image, the perturbed imaged and their predicted labels by the model"
      ]
    },
    {
      "cell_type": "code",
      "execution_count": 17,
      "metadata": {
        "id": "KtGuhAsNHenh"
      },
      "outputs": [],
      "source": [
        "##############################################################################\n",
        "# Implement the function described                                           #\n",
        "##############################################################################\n",
        "\n",
        "# def plot_adversarial_examples(model, images, adv_images, labels, class_names):\n",
        "#     model.eval()\n",
        "\n",
        "\n",
        "import matplotlib.pyplot as plt\n",
        "\n",
        "def run_attack_and_plot(attack_type, model, images, labels, epsilon=8/255, alpha=2/255, k=8):\n",
        "    model.eval()\n",
        "\n",
        "    if attack_type == \"FGSM\":\n",
        "        attack = FGSM(model, eps=epsilon)\n",
        "    elif attack_type == \"PGD\":\n",
        "        attack = LinfPGDAttack(model, epsilon=epsilon, alpha=alpha, k=8)\n",
        "    else:\n",
        "        raise ValueError(\"Not Supported\")\n",
        "\n",
        "    adversarial_images = attack(images, labels)\n",
        "    class_names = [str(i) for i in range(10)]\n",
        "\n",
        "    images = images.to(device)\n",
        "    adversarial_images = adversarial_images.to(device)\n",
        "    labels = labels.to(device)\n",
        "\n",
        "    with torch.no_grad():\n",
        "        original_outputs = model(images)\n",
        "        adv_outputs = model(adversarial_images)\n",
        "\n",
        "    _, original_preds = torch.max(original_outputs, 1)\n",
        "    _, adv_preds = torch.max(adv_outputs, 1)\n",
        "\n",
        "    plt.figure(figsize=(15, 6))\n",
        "\n",
        "    for i in range(len(images)):\n",
        "        plt.subplot(2, len(images), i + 1)\n",
        "        plt.imshow(images[i].cpu().squeeze().permute(1, 2, 0), cmap='gray')\n",
        "        plt.title(f\"Original: {class_names[labels[i]]}\\nPrediction: {class_names[original_preds[i]]}\")\n",
        "        plt.axis('off')\n",
        "\n",
        "        plt.subplot(2, len(images), len(images) + i + 1)\n",
        "        plt.imshow(adversarial_images[i].cpu().squeeze().permute(1, 2, 0), cmap='gray')\n",
        "        plt.title(f\"Adversarial Prediction: {class_names[adv_preds[i]]}\")\n",
        "        plt.axis('off')\n",
        "\n",
        "    plt.tight_layout()\n",
        "    plt.show()\n",
        "\n",
        "\n",
        "\n",
        "################################ End #########################################"
      ]
    },
    {
      "cell_type": "code",
      "execution_count": 18,
      "metadata": {
        "colab": {
          "base_uri": "https://localhost:8080/",
          "height": 663
        },
        "id": "E3qCqlJNHenh",
        "outputId": "5edd77c7-255c-4c07-dd4f-9690681ca5c4"
      },
      "outputs": [
        {
          "name": "stderr",
          "output_type": "stream",
          "text": [
            "/usr/local/lib/python3.10/dist-packages/torch/nn/modules/conv.py:456: UserWarning: Plan failed with a cudnnException: CUDNN_BACKEND_EXECUTION_PLAN_DESCRIPTOR: cudnnFinalize Descriptor Failed cudnn_status: CUDNN_STATUS_NOT_SUPPORTED (Triggered internally at ../aten/src/ATen/native/cudnn/Conv_v8.cpp:919.)\n",
            "  return F.conv2d(input, weight, bias, self.stride,\n"
          ]
        },
        {
          "data": {
            "image/png": "[encoded data removed]",
            "text/plain": [
              "<Figure size 1500x600 with 6 Axes>"
            ]
          },
          "metadata": {},
          "output_type": "display_data"
        }
      ],
      "source": [
        "##############################################################################\n",
        "# Choose 3 random images from testset and run FGSM attack and visualize      #\n",
        "##############################################################################\n",
        "import random\n",
        "all_images, all_labels = next(iter(testloader))\n",
        "random_indices_FGSM = random.sample(range(len(all_images)), 3)\n",
        "example_images_FGSM = all_images[random_indices_FGSM]\n",
        "example_labels_FGSM = all_labels[random_indices_FGSM]\n",
        "\n",
        "a=run_attack_and_plot(\"FGSM\", model, example_images_FGSM.to(device), example_labels_FGSM.to(device))\n",
        "\n",
        "################################ End #########################################"
      ]
    },
    {
      "cell_type": "code",
      "execution_count": 19,
      "metadata": {
        "colab": {
          "base_uri": "https://localhost:8080/",
          "height": 607
        },
        "id": "IB51FLglHenh",
        "outputId": "559ce8ab-dcd9-4688-d416-6d6e6137b059"
      },
      "outputs": [
        {
          "data": {
            "image/png": "[encoded data removed]",
            "text/plain": [
              "<Figure size 1500x600 with 6 Axes>"
            ]
          },
          "metadata": {},
          "output_type": "display_data"
        }
      ],
      "source": [
        "##############################################################################\n",
        "# Choose 3 random images from testset and run PGD attack and visualize      #\n",
        "##############################################################################\n",
        "\n",
        "all_images, all_labels = next(iter(testloader))\n",
        "random_indices_FGSM = random.sample(range(len(all_images)), 3)\n",
        "example_images_FGSM = all_images[random_indices_FGSM]\n",
        "example_labels_FGSM = all_labels[random_indices_FGSM]\n",
        "\n",
        "run_attack_and_plot(\"PGD\", model, example_images_FGSM.to(device), example_labels_FGSM.to(device))\n",
        "\n",
        "\n",
        "################################ End #########################################"
      ]
    },
    {
      "cell_type": "markdown",
      "metadata": {
        "id": "nJLPgEpZHeni"
      },
      "source": [
        "## Adversarial Training (35 pts)"
      ]
    },
    {
      "cell_type": "markdown",
      "metadata": {
        "id": "6CzkT1-4Heni"
      },
      "source": [
        "In this section you are going to adversarially train your model and see the results."
      ]
    },
    {
      "cell_type": "code",
      "execution_count": 20,
      "metadata": {
        "colab": {
          "base_uri": "https://localhost:8080/"
        },
        "id": "CCl_oEA6Heni",
        "outputId": "f1a35df9-add3-44bd-ee1e-0294a1fa74ad"
      },
      "outputs": [
        {
          "name": "stderr",
          "output_type": "stream",
          "text": [
            "Epoch 1/75: 100%|██████████| 391/391 [00:49<00:00,  7.90batch/s, Average Loss=1.93]\n",
            "Epoch 2/75: 100%|██████████| 391/391 [00:50<00:00,  7.76batch/s, Average Loss=1.73]\n",
            "Epoch 3/75: 100%|██████████| 391/391 [00:49<00:00,  7.84batch/s, Average Loss=1.64]\n",
            "Epoch 4/75: 100%|██████████| 391/391 [00:50<00:00,  7.82batch/s, Average Loss=1.57]\n",
            "Epoch 5/75: 100%|██████████| 391/391 [00:49<00:00,  7.85batch/s, Average Loss=1.5]\n",
            "Epoch 6/75: 100%|██████████| 391/391 [00:49<00:00,  7.84batch/s, Average Loss=1.44]\n",
            "Epoch 7/75: 100%|██████████| 391/391 [00:49<00:00,  7.85batch/s, Average Loss=1.38]\n",
            "Epoch 8/75: 100%|██████████| 391/391 [00:49<00:00,  7.82batch/s, Average Loss=1.32]\n",
            "Epoch 9/75: 100%|██████████| 391/391 [00:49<00:00,  7.85batch/s, Average Loss=1.26]\n",
            "Epoch 10/75: 100%|██████████| 391/391 [00:49<00:00,  7.83batch/s, Average Loss=1.2]\n",
            "Epoch 11/75: 100%|██████████| 391/391 [00:49<00:00,  7.85batch/s, Average Loss=1.14]\n",
            "Epoch 12/75: 100%|██████████| 391/391 [00:50<00:00,  7.80batch/s, Average Loss=1.08]\n",
            "Epoch 13/75: 100%|██████████| 391/391 [00:50<00:00,  7.78batch/s, Average Loss=1.01]\n",
            "Epoch 14/75: 100%|██████████| 391/391 [00:49<00:00,  7.83batch/s, Average Loss=0.949]\n",
            "Epoch 15/75: 100%|██████████| 391/391 [00:49<00:00,  7.83batch/s, Average Loss=0.886]\n",
            "Epoch 16/75: 100%|██████████| 391/391 [00:49<00:00,  7.85batch/s, Average Loss=0.824]\n",
            "Epoch 17/75: 100%|██████████| 391/391 [00:50<00:00,  7.82batch/s, Average Loss=0.766]\n",
            "Epoch 18/75: 100%|██████████| 391/391 [00:49<00:00,  7.86batch/s, Average Loss=0.706]\n",
            "Epoch 19/75: 100%|██████████| 391/391 [00:49<00:00,  7.85batch/s, Average Loss=0.655]\n",
            "Epoch 20/75: 100%|██████████| 391/391 [00:49<00:00,  7.87batch/s, Average Loss=0.607]\n",
            "Epoch 21/75: 100%|██████████| 391/391 [00:50<00:00,  7.75batch/s, Average Loss=0.551]\n",
            "Epoch 22/75: 100%|██████████| 391/391 [00:50<00:00,  7.80batch/s, Average Loss=0.52]\n",
            "Epoch 23/75: 100%|██████████| 391/391 [00:50<00:00,  7.81batch/s, Average Loss=0.476]\n",
            "Epoch 24/75: 100%|██████████| 391/391 [00:50<00:00,  7.81batch/s, Average Loss=0.446]\n",
            "Epoch 25/75: 100%|██████████| 391/391 [00:50<00:00,  7.80batch/s, Average Loss=0.408]\n",
            "Epoch 26/75: 100%|██████████| 391/391 [00:49<00:00,  7.85batch/s, Average Loss=0.384]\n",
            "Epoch 27/75: 100%|██████████| 391/391 [00:49<00:00,  7.87batch/s, Average Loss=0.353]\n",
            "Epoch 28/75: 100%|██████████| 391/391 [00:49<00:00,  7.85batch/s, Average Loss=0.336]\n",
            "Epoch 29/75: 100%|██████████| 391/391 [00:50<00:00,  7.80batch/s, Average Loss=0.316]\n",
            "Epoch 30/75: 100%|██████████| 391/391 [00:50<00:00,  7.81batch/s, Average Loss=0.288]\n",
            "Epoch 31/75: 100%|██████████| 391/391 [00:49<00:00,  7.84batch/s, Average Loss=0.27]\n",
            "Epoch 32/75: 100%|██████████| 391/391 [00:49<00:00,  7.87batch/s, Average Loss=0.255]\n",
            "Epoch 33/75: 100%|██████████| 391/391 [00:50<00:00,  7.82batch/s, Average Loss=0.243]\n",
            "Epoch 34/75: 100%|██████████| 391/391 [00:49<00:00,  7.88batch/s, Average Loss=0.229]\n",
            "Epoch 35/75: 100%|██████████| 391/391 [00:49<00:00,  7.85batch/s, Average Loss=0.221]\n",
            "Epoch 36/75: 100%|██████████| 391/391 [00:49<00:00,  7.83batch/s, Average Loss=0.213]\n",
            "Epoch 37/75: 100%|██████████| 391/391 [00:50<00:00,  7.75batch/s, Average Loss=0.198]\n",
            "Epoch 38/75: 100%|██████████| 391/391 [00:50<00:00,  7.82batch/s, Average Loss=0.185]\n",
            "Epoch 39/75: 100%|██████████| 391/391 [00:49<00:00,  7.84batch/s, Average Loss=0.175]\n",
            "Epoch 40/75: 100%|██████████| 391/391 [00:49<00:00,  7.83batch/s, Average Loss=0.163]\n",
            "Epoch 41/75: 100%|██████████| 391/391 [00:49<00:00,  7.84batch/s, Average Loss=0.159]\n",
            "Epoch 42/75: 100%|██████████| 391/391 [00:49<00:00,  7.86batch/s, Average Loss=0.155]\n",
            "Epoch 43/75: 100%|██████████| 391/391 [00:49<00:00,  7.86batch/s, Average Loss=0.147]\n",
            "Epoch 44/75: 100%|██████████| 391/391 [00:49<00:00,  7.86batch/s, Average Loss=0.145]\n",
            "Epoch 45/75: 100%|██████████| 391/391 [00:49<00:00,  7.83batch/s, Average Loss=0.138]\n",
            "Epoch 46/75: 100%|██████████| 391/391 [00:49<00:00,  7.84batch/s, Average Loss=0.128]\n",
            "Epoch 47/75: 100%|██████████| 391/391 [00:49<00:00,  7.84batch/s, Average Loss=0.121]\n",
            "Epoch 48/75: 100%|██████████| 391/391 [00:49<00:00,  7.86batch/s, Average Loss=0.12]\n",
            "Epoch 49/75: 100%|██████████| 391/391 [00:50<00:00,  7.81batch/s, Average Loss=0.113]\n",
            "Epoch 50/75: 100%|██████████| 391/391 [00:49<00:00,  7.88batch/s, Average Loss=0.118]\n",
            "Epoch 51/75: 100%|██████████| 391/391 [00:49<00:00,  7.83batch/s, Average Loss=0.1]\n",
            "Epoch 52/75: 100%|██████████| 391/391 [00:50<00:00,  7.81batch/s, Average Loss=0.101]\n",
            "Epoch 53/75: 100%|██████████| 391/391 [00:50<00:00,  7.77batch/s, Average Loss=0.0944]\n",
            "Epoch 54/75: 100%|██████████| 391/391 [00:50<00:00,  7.80batch/s, Average Loss=0.0957]\n",
            "Epoch 55/75: 100%|██████████| 391/391 [00:49<00:00,  7.83batch/s, Average Loss=0.0946]\n",
            "Epoch 56/75: 100%|██████████| 391/391 [00:49<00:00,  7.85batch/s, Average Loss=0.0921]\n",
            "Epoch 57/75: 100%|██████████| 391/391 [00:50<00:00,  7.80batch/s, Average Loss=0.0872]\n",
            "Epoch 58/75: 100%|██████████| 391/391 [00:49<00:00,  7.83batch/s, Average Loss=0.0935]\n",
            "Epoch 59/75: 100%|██████████| 391/391 [00:50<00:00,  7.82batch/s, Average Loss=0.0875]\n",
            "Epoch 60/75: 100%|██████████| 391/391 [00:49<00:00,  7.83batch/s, Average Loss=0.0785]\n",
            "Epoch 61/75: 100%|██████████| 391/391 [00:50<00:00,  7.80batch/s, Average Loss=0.0788]\n",
            "Epoch 62/75: 100%|██████████| 391/391 [00:49<00:00,  7.86batch/s, Average Loss=0.0746]\n",
            "Epoch 63/75: 100%|██████████| 391/391 [00:49<00:00,  7.82batch/s, Average Loss=0.0731]\n",
            "Epoch 64/75: 100%|██████████| 391/391 [00:49<00:00,  7.83batch/s, Average Loss=0.0704]\n",
            "Epoch 65/75: 100%|██████████| 391/391 [00:49<00:00,  7.86batch/s, Average Loss=0.0677]\n",
            "Epoch 66/75: 100%|██████████| 391/391 [00:49<00:00,  7.82batch/s, Average Loss=0.0635]\n",
            "Epoch 67/75: 100%|██████████| 391/391 [00:49<00:00,  7.86batch/s, Average Loss=0.0569]\n",
            "Epoch 68/75: 100%|██████████| 391/391 [00:49<00:00,  7.83batch/s, Average Loss=0.0511]\n",
            "Epoch 69/75: 100%|██████████| 391/391 [00:49<00:00,  7.85batch/s, Average Loss=0.0578]\n",
            "Epoch 70/75: 100%|██████████| 391/391 [00:49<00:00,  7.84batch/s, Average Loss=0.0581]\n",
            "Epoch 71/75: 100%|██████████| 391/391 [00:49<00:00,  7.84batch/s, Average Loss=0.0631]\n",
            "Epoch 72/75: 100%|██████████| 391/391 [00:49<00:00,  7.86batch/s, Average Loss=0.0641]\n",
            "Epoch 73/75: 100%|██████████| 391/391 [00:50<00:00,  7.80batch/s, Average Loss=0.0589]\n",
            "Epoch 74/75: 100%|██████████| 391/391 [00:50<00:00,  7.78batch/s, Average Loss=0.055]\n",
            "Epoch 75/75: 100%|██████████| 391/391 [00:50<00:00,  7.80batch/s, Average Loss=0.048]\n"
          ]
        }
      ],
      "source": [
        "##############################################################################\n",
        "# Load a new resnet model for adversarial training                           #\n",
        "# Train the model on perturbed images from                                   #\n",
        "# untargeted FGSM attack with epsilon = 8/255 on train dataset               #\n",
        "# Also use the following setup for training the model                        #\n",
        "##############################################################################\n",
        "\n",
        "adv_model = resnet(num_cls=10).to(device) # Your code goes here\n",
        "adv_model.to(device)\n",
        "\n",
        "learning_rate = 0.01\n",
        "criterion = nn.CrossEntropyLoss()\n",
        "optimizer = optim.SGD(adv_model.parameters(), lr=learning_rate, momentum=0.9)\n",
        "epochs = 75\n",
        "\n",
        "\n",
        "# Your code goes here\n",
        "adv_model.train()\n",
        "epsilon = 8/255\n",
        "\n",
        "for epoch in range(epochs):\n",
        "  total_loss = 0\n",
        "  with tqdm(total=len(trainloader), desc=f'Epoch {epoch+1}/{epochs}', unit='batch') as progress_bar:\n",
        "    counter = 0\n",
        "    for images, labels in trainloader:\n",
        "        counter += 1\n",
        "        images, labels = images.to(device), labels.to(device)\n",
        "\n",
        "        attack = FGSM(adv_model, eps=epsilon)\n",
        "        adv_images = attack(images, labels)\n",
        "\n",
        "        combined_images = torch.cat([images, adv_images])\n",
        "        combined_labels = torch.cat([labels, labels])\n",
        "\n",
        "        outputs = adv_model(combined_images)\n",
        "        loss = criterion(outputs, combined_labels)\n",
        "\n",
        "        optimizer.zero_grad()\n",
        "        loss.backward()\n",
        "        optimizer.step()\n",
        "\n",
        "        total_loss += loss.item()\n",
        "\n",
        "        avg_loss = total_loss / (counter)\n",
        "        a=progress_bar.set_postfix({'Average Loss': avg_loss})\n",
        "        # progress_bar.set_postfix(loss=total_loss/((progress_bar.n+1)*len(images)))\n",
        "        a=progress_bar.update(1)\n",
        "\n",
        "  # print(f'Epoch [{epoch+1}/{epochs}], Loss: {total_loss/len(trainloader):.4f}')\n",
        "\n",
        "\n",
        "################################ End #########################################"
      ]
    },
    {
      "cell_type": "code",
      "execution_count": 21,
      "metadata": {
        "colab": {
          "base_uri": "https://localhost:8080/"
        },
        "id": "XyCLE1iEHeni",
        "outputId": "d5c971f7-7f8a-4c63-d668-12967e96e41f"
      },
      "outputs": [
        {
          "name": "stdout",
          "output_type": "stream",
          "text": [
            "Test Accuracy: 63.13 %\n"
          ]
        }
      ],
      "source": [
        "##############################################################################\n",
        "# Evaluate the new model on the test dataset                                 #\n",
        "##############################################################################\n",
        "\n",
        "# Your code goes here\n",
        "a=evaluate(adv_model, testloader)\n",
        "\n",
        "################################ End #########################################"
      ]
    },
    {
      "cell_type": "code",
      "execution_count": 22,
      "metadata": {
        "colab": {
          "base_uri": "https://localhost:8080/"
        },
        "id": "f-g1fTM4Heni",
        "outputId": "78bea87b-68c8-4be4-ebe5-e4ae36a1c91b"
      },
      "outputs": [
        {
          "name": "stdout",
          "output_type": "stream",
          "text": [
            "epsilon: 0.031373, Accuracy: 61.53\n"
          ]
        }
      ],
      "source": [
        "##############################################################################\n",
        "# Run FGSM attack on the adversarially trained model with epsilon = 8/255    #\n",
        "##############################################################################\n",
        "\n",
        "# Your code goes here\n",
        "epsilon = 8/255\n",
        "attack = FGSM(adv_model, eps=epsilon)\n",
        "a=evaluate_adversasrial(attack, testloader, \"FGSM\")\n",
        "################################ End #########################################"
      ]
    },
    {
      "cell_type": "code",
      "execution_count": 23,
      "metadata": {
        "colab": {
          "base_uri": "https://localhost:8080/"
        },
        "id": "eO97TuI1Heni",
        "outputId": "40dc37be-f114-4d35-c91d-e6dc21eb0094"
      },
      "outputs": [
        {
          "name": "stdout",
          "output_type": "stream",
          "text": [
            "k: 4.000000, Accuracy: 61.67\n"
          ]
        }
      ],
      "source": [
        "##############################################################################\n",
        "#  Run PGD attack on the adversarially trained model with k=4                #\n",
        "##############################################################################\n",
        "\n",
        "# Your code goes here\n",
        "attack = LinfPGDAttack(adv_model, k=4)\n",
        "a=evaluate_adversasrial(attack, testloader, \"PGD\")\n",
        "\n",
        "################################ End #########################################"
      ]
    },
    {
      "cell_type": "markdown",
      "metadata": {
        "id": "5N4xdLEDHeni"
      },
      "source": [
        "Answer the following questions:\n",
        "- What happened to the accuracy of the adversarially trained model?\n",
        "- What do you conclude from the result of the FGSM attack on the adversarially trained model?\n",
        "- What do you conclude from the result of the PGD attack on the adversarially trained model?\n",
        "- What is you final conclusion?"
      ]
    },
    {
      "cell_type": "markdown",
      "metadata": {
        "id": "wGMeGEvKjLQS"
      },
      "source": [
        "ANSWER:\n",
        "\n",
        "*   Clean Accuracy decreased a little, but the adversarial accuracy goes up. Overally, when we are training on adversarial examples, the accuracy on the clean data approximately the same (or decrease a little) but the accuracy on adversarial data increases a lot, in other words, the adversarial accuracy becomes much better. The clean accuracy on the normal model was 75.04% and now it is 63.13%.\n",
        "*   It is very good, 61.53 %  near to clean accuracy 63.13 %. We expected from the model to be robust to the FGSM attack which we trained on adversarials generated from FGSM attack.\n",
        "*   It is very good, 61.67 %  near to clean accuracy 63.13 %. Although we haven't trained on adversarial PGD (we trained on Adv FGSM), but it is resistent to PGD, too. So adversariality has the power of transferability.\n",
        "Another important point is that the robust accuracy is less because PGD is more powerful than FGSM.\n",
        "*   It is a good solution to train the model on perturbed images to be robust to adversarial examples.\n",
        "Adversarial training (whether adversarial PGD training or adversarial FGSM training) is robust to adversarial attacks to some extent but note that they are not completely (100%) robust. Also note that the robustness has the power of tranferability as explained.\n",
        "Finally note that PGD is more powerful than FGSM.\n",
        "\n"
      ]
    }
  ],
  "metadata": {
    "accelerator": "GPU",
    "colab": {
      "gpuType": "T4",
      "provenance": []
    },
    "kernelspec": {
      "display_name": "Python 3",
      "name": "python3"
    },
    "language_info": {
      "name": "python"
    }
  },
  "nbformat": 4,
  "nbformat_minor": 0
}

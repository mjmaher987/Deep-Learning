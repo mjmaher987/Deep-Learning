{
  "nbformat": 4,
  "nbformat_minor": 0,
  "metadata": {
    "colab": {
      "provenance": [],
      "gpuType": "T4"
    },
    "kernelspec": {
      "name": "python3",
      "display_name": "Python 3"
    },
    "language_info": {
      "name": "python"
    },
    "accelerator": "GPU"
  },
  "cells": [
    {
      "cell_type": "markdown",
      "source": [
        "# Initializatoin"
      ],
      "metadata": {
        "id": "I44zC-xvHlMA"
      }
    },
    {
      "cell_type": "code",
      "execution_count": 1,
      "metadata": {
        "id": "J51gwQryHLou"
      },
      "outputs": [],
      "source": [
        "# from google.colab import drive\n",
        "# drive.mount('/content/drive')"
      ]
    },
    {
      "cell_type": "code",
      "source": [
        "# cd /content/drive/MyDrive/Colab\\ Notebooks/Deep\\ Learning\\ Course/HW03\n",
        "# i have copied and pasted the code here instead of mounting the drive"
      ],
      "metadata": {
        "id": "dIEtvDuNHWaX"
      },
      "execution_count": 2,
      "outputs": []
    },
    {
      "cell_type": "code",
      "source": [
        "import subprocess\n",
        "import unicodedata\n",
        "import string\n",
        "import torch\n",
        "import random\n",
        "from io import open\n",
        "import glob\n",
        "import os\n",
        "\n",
        "class Dataset:\n",
        "    def __init__(self):\n",
        "        if not (os.path.exists(\"data.zip\") and os.path.exists(\"data\")):\n",
        "            # Run wget command\n",
        "            wget_process = subprocess.Popen(['wget', 'https://download.pytorch.org/tutorial/data.zip'], stdout=subprocess.PIPE, stderr=subprocess.PIPE)\n",
        "            wget_output, wget_error = wget_process.communicate()\n",
        "\n",
        "            # Check for wget errors\n",
        "            if wget_error:\n",
        "                print(\"Error occurred while downloading data.zip:\", wget_error.decode())\n",
        "            else:\n",
        "                print(\"Downloaded data.zip successfully.\")\n",
        "\n",
        "            # Run unzip command\n",
        "            unzip_process = subprocess.Popen(['unzip', 'data.zip'], stdout=subprocess.PIPE, stderr=subprocess.PIPE)\n",
        "            unzip_output, unzip_error = unzip_process.communicate()\n",
        "\n",
        "            # Check for unzip errors\n",
        "            if unzip_error:\n",
        "                print(\"Error occurred while unzipping data.zip:\", unzip_error.decode())\n",
        "            else:\n",
        "                print(\"Unzipped data.zip successfully.\")\n",
        "        else:\n",
        "            print(\"Files already exist, skipping download and extraction.\")\n",
        "\n",
        "        def findFiles(path):\n",
        "            return glob.glob(path)\n",
        "\n",
        "        all_letters = string.ascii_letters + \" .,;'\"\n",
        "        n_letters = len(all_letters)\n",
        "\n",
        "        # Turn a Unicode string to plain ASCII, thanks to https://stackoverflow.com/a/518232/2809427\n",
        "        def unicodeToAscii(s):\n",
        "            return ''.join(\n",
        "                c for c in unicodedata.normalize('NFD', s)\n",
        "                if unicodedata.category(c) != 'Mn'\n",
        "                and c in all_letters\n",
        "            )\n",
        "\n",
        "\n",
        "        # Build the category_lines dictionary, a list of names per language\n",
        "        category_lines = {}\n",
        "        all_categories = []\n",
        "\n",
        "        # Read a file and split into lines\n",
        "        def readLines(filename):\n",
        "            lines = open(filename, encoding='utf-8').read().strip().split('\\n')\n",
        "            return [unicodeToAscii(line) for line in lines]\n",
        "\n",
        "        for filename in findFiles('data/names/*.txt'):\n",
        "            category = os.path.splitext(os.path.basename(filename))[0]\n",
        "            all_categories.append(category)\n",
        "            lines = readLines(filename)\n",
        "            category_lines[category] = lines\n",
        "\n",
        "        self.n_categories = len(all_categories)\n",
        "        self.all_categories = all_categories\n",
        "        self.category_lines = category_lines\n",
        "        self.n_letters = n_letters\n",
        "        self.all_letters = all_letters\n",
        "\n",
        "    def letterToIndex(self, letter):\n",
        "        return self.all_letters.find(letter)\n",
        "\n",
        "    # Just for demonstration, turn a letter into a <1 x n_letters> Tensor\n",
        "    def letterToTensor(self, letter):\n",
        "        tensor = torch.zeros(1, self.n_letters)\n",
        "        tensor[0][self.letterToIndex(letter)] = 1\n",
        "        return tensor\n",
        "\n",
        "    # Turn a line into a <line_length x 1 x n_letters>,\n",
        "    # or an array of one-hot letter vectors\n",
        "    def lineToTensor(self, line):\n",
        "        tensor = torch.zeros(len(line), 1, self.n_letters)\n",
        "        for li, letter in enumerate(line):\n",
        "            tensor[li][0][self.letterToIndex(letter)] = 1\n",
        "        return tensor\n",
        "\n",
        "    def categoryFromOutput(self, output):\n",
        "        top_n, top_i = output.topk(1)\n",
        "        category_i = top_i[0].item()\n",
        "        return self.all_categories[category_i], category_i\n",
        "\n",
        "    def randomChoice(self, l):\n",
        "        return l[random.randint(0, len(l) - 1)]\n",
        "\n",
        "    def randomTrainingExample(self, ):\n",
        "        category = self.randomChoice(self.all_categories)\n",
        "        line = self.randomChoice(self.category_lines[category])\n",
        "        category_tensor = torch.tensor([self.all_categories.index(category)], dtype=torch.long)\n",
        "        line_tensor = self.lineToTensor(line)\n",
        "        return category, line, category_tensor, line_tensor"
      ],
      "metadata": {
        "id": "epfvASfppk1G"
      },
      "execution_count": 3,
      "outputs": []
    },
    {
      "cell_type": "markdown",
      "source": [
        "## Imports"
      ],
      "metadata": {
        "id": "97npt38AHmeG"
      }
    },
    {
      "cell_type": "code",
      "source": [
        "import math\n",
        "import matplotlib.pyplot as plt\n",
        "import matplotlib.ticker as ticker\n",
        "import numpy as np\n",
        "import torch\n",
        "import torch.nn as nn\n",
        "import torch.nn.functional as F\n",
        "import torchvision.datasets as datasets\n",
        "import torchvision.transforms as transforms\n",
        "\n",
        "from torch.autograd import Variable\n",
        "from torch.nn import Parameter\n",
        "\n",
        "# from name_dataset import Dataset # i have copied and pasted the code here"
      ],
      "metadata": {
        "id": "6GV6VNwvHfAu"
      },
      "execution_count": 4,
      "outputs": []
    },
    {
      "cell_type": "markdown",
      "source": [
        "# RNN"
      ],
      "metadata": {
        "id": "LkG3yH-pHpM9"
      }
    },
    {
      "cell_type": "markdown",
      "source": [
        "## Traditional RNN"
      ],
      "metadata": {
        "id": "iZ0KcfjJISHg"
      }
    },
    {
      "cell_type": "markdown",
      "source": [
        "In the introductory section, we delve into the architecture of Recurrent Neural Networks (RNNs) and elucidate their training methodologies. To gain a deeper understanding of RNNs, you're encouraged to explore further [HERE](https://stanford.edu/~shervine/teaching/cs-230/cheatsheet-recurrent-neural-network)\n",
        "\n",
        "For the task at hand, you've been furnished with the Names dataset, a compilation comprising thousands of surnames from 18 distinct languages of origin. Your objective is to prognosticate the language of origin for a given name, relying solely on its orthography. Your task primarily involves implementing the section demarcated by `#your_code`."
      ],
      "metadata": {
        "id": "Kg5D637YdXA3"
      }
    },
    {
      "cell_type": "code",
      "source": [
        "dataset = Dataset()\n",
        "for i in range(10):\n",
        "    category, line, _, _ = dataset.randomTrainingExample()\n",
        "    print('category =', category, '- random name =', line)"
      ],
      "metadata": {
        "colab": {
          "base_uri": "https://localhost:8080/"
        },
        "id": "HSphx1YaaNl0",
        "outputId": "225f9342-3744-4d92-d131-c677fae5d44f"
      },
      "execution_count": 5,
      "outputs": [
        {
          "output_type": "stream",
          "name": "stdout",
          "text": [
            "Files already exist, skipping download and extraction.\n",
            "category = German - random name = Leitner\n",
            "category = Polish - random name = Zdunowski\n",
            "category = Spanish - random name = Escarcega\n",
            "category = Russian - random name = Djunkovsky\n",
            "category = Czech - random name = Sokolik\n",
            "category = German - random name = Krebs\n",
            "category = Portuguese - random name = Ferreira\n",
            "category = Italian - random name = Ventura\n",
            "category = Portuguese - random name = Palmeiro\n",
            "category = Spanish - random name = Vives\n"
          ]
        }
      ]
    },
    {
      "cell_type": "code",
      "source": [
        "class RNN(nn.Module):\n",
        "    def __init__(self, input_size, hidden_size, output_size):\n",
        "        super(RNN, self).__init__()\n",
        "\n",
        "        #your_code\n",
        "        self.hidden_size = hidden_size\n",
        "        self.i2h = nn.Linear(input_size + hidden_size, hidden_size)\n",
        "        self.h2o = nn.Linear(hidden_size, output_size)\n",
        "        self.softmax = nn.LogSoftmax(dim=1)\n",
        "\n",
        "    def forward(self, input, hidden):\n",
        "\n",
        "        #your_code\n",
        "        combined = torch.cat((input, hidden), 1)\n",
        "        hidden = torch.tanh(self.i2h(combined))\n",
        "        output = self.h2o(hidden)\n",
        "        output = self.softmax(output)\n",
        "        return output, hidden\n",
        "\n",
        "    def initHidden(self):\n",
        "        return torch.zeros(1, self.hidden_size)\n",
        "\n",
        "n_hidden = 128\n",
        "n_letters = dataset.n_letters\n",
        "n_categories = dataset.n_categories\n",
        "rnn = RNN(n_letters, n_hidden, n_categories)"
      ],
      "metadata": {
        "id": "9Wusl6Uta5CY"
      },
      "execution_count": 6,
      "outputs": []
    },
    {
      "cell_type": "code",
      "source": [
        "#your_code\n",
        "criterion = nn.NLLLoss()\n",
        "learning_rate = 0.005\n",
        "\n",
        "def train(category_tensor, name_tensor):\n",
        "    hidden = rnn.initHidden()\n",
        "    rnn.zero_grad()\n",
        "\n",
        "    #your_code\n",
        "    for i in range(name_tensor.size()[0]):\n",
        "      output, hidden = rnn(name_tensor[i], hidden)\n",
        "\n",
        "    loss = criterion(output, category_tensor)\n",
        "    loss.backward()\n",
        "\n",
        "    # Add parameters' gradients to their values, multiplied by learning rate\n",
        "    for p in rnn.parameters():\n",
        "        p.data.add_(p.grad.data, alpha=-learning_rate)\n",
        "\n",
        "    return output, loss.item()"
      ],
      "metadata": {
        "id": "xlvoUSDFY-r7"
      },
      "execution_count": 7,
      "outputs": []
    },
    {
      "cell_type": "markdown",
      "source": [
        "And here you can train your model and see it's performance after each 5000 iterations"
      ],
      "metadata": {
        "id": "n6A3nYNgoVfZ"
      }
    },
    {
      "cell_type": "code",
      "source": [
        "n_iters = 100000\n",
        "print_every = 5000\n",
        "\n",
        "current_loss = 0\n",
        "all_losses = []\n",
        "\n",
        "for iter in range(1, n_iters + 1):\n",
        "    category, line, category_tensor, line_tensor = dataset.randomTrainingExample()\n",
        "    output, loss = train(category_tensor, line_tensor)\n",
        "    current_loss += loss\n",
        "\n",
        "    if iter % print_every == 0:\n",
        "        guess, _ = dataset.categoryFromOutput(output)\n",
        "        correct = '✓' if guess == category else '✗ (%s)' % category\n",
        "        print('%d %d%% %.4f %s is predicted as a \"%s\" name, status = %s' % (iter, iter / n_iters * 100, loss, line, guess, correct))\n",
        "\n",
        "    if iter % 1000 == 0:\n",
        "        all_losses.append(current_loss / 1000)\n",
        "        current_loss = 0\n",
        "\n",
        "plt.figure()\n",
        "plt.plot(all_losses)"
      ],
      "metadata": {
        "id": "BIaxje6AsqKM",
        "colab": {
          "base_uri": "https://localhost:8080/",
          "height": 831
        },
        "outputId": "4bd2ebeb-c4cc-4ad6-e1bd-427932c10ba4"
      },
      "execution_count": 8,
      "outputs": [
        {
          "output_type": "stream",
          "name": "stdout",
          "text": [
            "5000 5% 2.6686 Jon is predicted as a \"Scottish\" name, status = ✗ (Korean)\n",
            "10000 10% 2.8007 Issa is predicted as a \"Japanese\" name, status = ✗ (Arabic)\n",
            "15000 15% 4.2156 Albuquerque is predicted as a \"French\" name, status = ✗ (Portuguese)\n",
            "20000 20% 4.5316 Virvitsiotti is predicted as a \"Polish\" name, status = ✗ (Russian)\n",
            "25000 25% 0.6176 Jon is predicted as a \"Korean\" name, status = ✓\n",
            "30000 30% 0.9569 Di pietro is predicted as a \"Italian\" name, status = ✓\n",
            "35000 35% 1.5350 Schrader is predicted as a \"Dutch\" name, status = ✗ (German)\n",
            "40000 40% 0.4779 Bustillo is predicted as a \"Spanish\" name, status = ✓\n",
            "45000 45% 1.4478 Lavigne is predicted as a \"Italian\" name, status = ✗ (French)\n",
            "50000 50% 2.7421 Mclaren is predicted as a \"Dutch\" name, status = ✗ (English)\n",
            "55000 55% 1.2500 Lewerenz is predicted as a \"Spanish\" name, status = ✗ (German)\n",
            "60000 60% 2.3908 Lakin is predicted as a \"Russian\" name, status = ✗ (English)\n",
            "65000 65% 1.5277 Waring is predicted as a \"German\" name, status = ✗ (English)\n",
            "70000 70% 1.1130 Kieu is predicted as a \"Chinese\" name, status = ✗ (Vietnamese)\n",
            "75000 75% 0.6156 Bei is predicted as a \"Chinese\" name, status = ✓\n",
            "80000 80% 0.1527 Bartalotti is predicted as a \"Italian\" name, status = ✓\n",
            "85000 85% 0.8570 Koo is predicted as a \"Chinese\" name, status = ✗ (Korean)\n",
            "90000 90% 0.2510 Rahal is predicted as a \"Arabic\" name, status = ✓\n",
            "95000 95% 2.8285 Geft is predicted as a \"German\" name, status = ✗ (Russian)\n",
            "100000 100% 0.1002 Kawabata is predicted as a \"Japanese\" name, status = ✓\n"
          ]
        },
        {
          "output_type": "execute_result",
          "data": {
            "text/plain": [
              "[<matplotlib.lines.Line2D at 0x7c3112513b80>]"
            ]
          },
          "metadata": {},
          "execution_count": 8
        },
        {
          "output_type": "display_data",
          "data": {
            "text/plain": [
              "<Figure size 640x480 with 1 Axes>"
            ],
            "image/png": "[encoded data removed]"
          },
          "metadata": {}
        }
      ]
    },
    {
      "cell_type": "markdown",
      "source": [
        "## Traditional RNN Disadvantages"
      ],
      "metadata": {
        "id": "N3DfTyhGIF2P"
      }
    },
    {
      "cell_type": "markdown",
      "source": [
        "In this part, we aim to delve into the limitations of traditional RNNs:\n",
        "1.   Recurrent computation is slow\n",
        "2.   They have difficulty accessing information from many steps back.\n",
        "\n",
        "You are provided with a simple code that helps you to give the idea better. By modifying this code, you are able to demonstrate the mentioned disadvantages, but you are also free to change the code if needed or use any dataset you want.\n",
        "\n",
        "**Question:** Do you think using GPU instead of CPU completely solves the first problem?\n",
        "\n",
        "\n",
        "\n",
        "Note: The main goal of this part is to help you understand these problems better. Don't be too hard to implement and delivery."
      ],
      "metadata": {
        "id": "RSBnM7WbNv_T"
      }
    },
    {
      "cell_type": "markdown",
      "source": [
        "<font color='red'> <div dir=\"ltl\">\n",
        "Answer: No, because RNN doesn't allow parallel computation comparing to transformers.\n",
        "Please note that GPU helps us to get the best performance of GPU but it's not enough because it is sequential and we need the previous steps for the next steps."
      ],
      "metadata": {
        "id": "qj7up7jjVgMC"
      }
    },
    {
      "cell_type": "code",
      "source": [
        "import torch\n",
        "import torch.nn as nn\n",
        "import numpy as np\n",
        "import matplotlib.pyplot as plt\n",
        "\n",
        "# Generate sinusoidal temperature data with decreasing range over time\n",
        "np.random.seed(0)\n",
        "num_periods = 50\n",
        "timesteps_per_period = 10\n",
        "total_timesteps = num_periods * timesteps_per_period\n",
        "\n",
        "# Generate decreasing factor\n",
        "decreasing_factor = np.linspace(1, 0.1, total_timesteps)\n",
        "\n",
        "# Generate temperature data with decreasing sinusoidal range\n",
        "temperature_data = np.sin(np.linspace(0, 2*np.pi*num_periods, total_timesteps)) * decreasing_factor\n",
        "\n",
        "# Normalize the data\n",
        "temperature_data = (temperature_data - np.mean(temperature_data)) / np.std(temperature_data)\n",
        "\n",
        "# Convert numpy array to PyTorch tensor\n",
        "temperature_data = torch.tensor(temperature_data, dtype=torch.float32).view(-1, 1)\n",
        "\n",
        "# Define function to create dataset with sinusoidal pattern\n",
        "def create_dataset(data, seq_length):\n",
        "    X, Y = [], []\n",
        "    for i in range(len(data) - seq_length):\n",
        "        seq_in = data[i:i+seq_length]\n",
        "        seq_out = data[i+seq_length]\n",
        "        X.append(seq_in)\n",
        "        Y.append(seq_out)\n",
        "    return torch.stack(X), torch.stack(Y)\n",
        "\n",
        "# Define sequence length and create dataset\n",
        "sequence_length = 10  # Number of previous days to look at for prediction\n",
        "X, Y = create_dataset(temperature_data, sequence_length)\n",
        "\n",
        "# Split the dataset into train and test sets\n",
        "train_size = int(0.8 * len(X))\n",
        "test_size = len(X) - train_size\n",
        "X_train, X_test = X[:train_size], X[train_size:]\n",
        "Y_train, Y_test = Y[:train_size], Y[train_size:]\n",
        "\n",
        "# Define RNN model\n",
        "class SimpleRNN(nn.Module):\n",
        "    def __init__(self, input_size, hidden_size, output_size):\n",
        "        super(SimpleRNN, self).__init__()\n",
        "        self.rnn = nn.RNN(input_size, hidden_size, batch_first=True)\n",
        "        self.fc = nn.Linear(hidden_size, output_size)\n",
        "\n",
        "    def forward(self, x):\n",
        "        out, _ = self.rnn(x)\n",
        "        out = self.fc(out[:, -1, :])\n",
        "        return out\n",
        "\n",
        "# Define model parameters\n",
        "input_size = 1\n",
        "hidden_size = 10\n",
        "output_size = 1\n",
        "\n",
        "# Instantiate the model\n",
        "model = SimpleRNN(input_size, hidden_size, output_size)\n",
        "\n",
        "# Define loss function and optimizer\n",
        "criterion = nn.MSELoss()\n",
        "optimizer = torch.optim.Adam(model.parameters(), lr=0.001)\n",
        "\n",
        "# Train the model\n",
        "num_epochs = 400\n",
        "for epoch in range(num_epochs):\n",
        "    model.train()\n",
        "    outputs = model(X_train)\n",
        "    loss = criterion(outputs, Y_train)\n",
        "    optimizer.zero_grad()\n",
        "    loss.backward()\n",
        "    optimizer.step()\n",
        "\n",
        "    if (epoch+1) % 10 == 0:\n",
        "        print(f'Epoch [{epoch+1}/{num_epochs}], Loss: {loss.item():.4f}')\n",
        "\n",
        "# Evaluate the model\n",
        "model.eval()\n",
        "with torch.no_grad():\n",
        "    test_predictions = model(X_test)\n",
        "\n",
        "# Plot actual vs predicted\n",
        "plt.plot(Y_test.numpy(), label='Actual')\n",
        "plt.plot(test_predictions.numpy(), label='Predicted')\n",
        "plt.legend()\n",
        "plt.show()"
      ],
      "metadata": {
        "colab": {
          "base_uri": "https://localhost:8080/",
          "height": 1000
        },
        "id": "Gmv3e7fpQiRD",
        "outputId": "77d7e6a6-f3cc-47d0-caa4-a470d5193ce8"
      },
      "execution_count": 9,
      "outputs": [
        {
          "output_type": "stream",
          "name": "stdout",
          "text": [
            "Epoch [10/400], Loss: 1.2788\n",
            "Epoch [20/400], Loss: 1.1712\n",
            "Epoch [30/400], Loss: 1.0684\n",
            "Epoch [40/400], Loss: 0.9651\n",
            "Epoch [50/400], Loss: 0.8550\n",
            "Epoch [60/400], Loss: 0.7357\n",
            "Epoch [70/400], Loss: 0.6094\n",
            "Epoch [80/400], Loss: 0.4827\n",
            "Epoch [90/400], Loss: 0.3651\n",
            "Epoch [100/400], Loss: 0.2651\n",
            "Epoch [110/400], Loss: 0.1888\n",
            "Epoch [120/400], Loss: 0.1380\n",
            "Epoch [130/400], Loss: 0.1089\n",
            "Epoch [140/400], Loss: 0.0945\n",
            "Epoch [150/400], Loss: 0.0873\n",
            "Epoch [160/400], Loss: 0.0826\n",
            "Epoch [170/400], Loss: 0.0781\n",
            "Epoch [180/400], Loss: 0.0736\n",
            "Epoch [190/400], Loss: 0.0691\n",
            "Epoch [200/400], Loss: 0.0649\n",
            "Epoch [210/400], Loss: 0.0609\n",
            "Epoch [220/400], Loss: 0.0570\n",
            "Epoch [230/400], Loss: 0.0532\n",
            "Epoch [240/400], Loss: 0.0495\n",
            "Epoch [250/400], Loss: 0.0459\n",
            "Epoch [260/400], Loss: 0.0424\n",
            "Epoch [270/400], Loss: 0.0391\n",
            "Epoch [280/400], Loss: 0.0358\n",
            "Epoch [290/400], Loss: 0.0327\n",
            "Epoch [300/400], Loss: 0.0297\n",
            "Epoch [310/400], Loss: 0.0267\n",
            "Epoch [320/400], Loss: 0.0238\n",
            "Epoch [330/400], Loss: 0.0210\n",
            "Epoch [340/400], Loss: 0.0185\n",
            "Epoch [350/400], Loss: 0.0161\n",
            "Epoch [360/400], Loss: 0.0140\n",
            "Epoch [370/400], Loss: 0.0122\n",
            "Epoch [380/400], Loss: 0.0108\n",
            "Epoch [390/400], Loss: 0.0097\n",
            "Epoch [400/400], Loss: 0.0089\n"
          ]
        },
        {
          "output_type": "display_data",
          "data": {
            "text/plain": [
              "<Figure size 640x480 with 1 Axes>"
            ],
            "image/png": "[encoded data removed]"
          },
          "metadata": {}
        }
      ]
    },
    {
      "cell_type": "markdown",
      "source": [
        "# LSTM Preparation"
      ],
      "metadata": {
        "id": "eOzchEUJ0k2E"
      }
    },
    {
      "cell_type": "markdown",
      "source": [
        "Now that you have experience with traditional RNNs, it's time to implement the LSTM model. Your goal is to implement the cell and model for LSTM architecture. The proposed dataset for this section is MNIST, allowing you to focus solely on model implementation."
      ],
      "metadata": {
        "id": "1BlfuzGF6jDM"
      }
    },
    {
      "cell_type": "code",
      "source": [
        "train_dataset = datasets.MNIST(root='./data',\n",
        "                               train=True,\n",
        "                               transform=transforms.ToTensor(),\n",
        "                               download=True)\n",
        "\n",
        "test_dataset = datasets.MNIST(root='./data',\n",
        "                              train=False,\n",
        "                              transform=transforms.ToTensor())\n",
        "\n",
        "batch_size = 128\n",
        "n_iters = 6000\n",
        "num_epochs = int(n_iters / (len(train_dataset) / batch_size))"
      ],
      "metadata": {
        "id": "FB_MpK06uB9G"
      },
      "execution_count": 10,
      "outputs": []
    },
    {
      "cell_type": "code",
      "source": [
        "train_loader = torch.utils.data.DataLoader(dataset=train_dataset,\n",
        "                                           batch_size=batch_size,\n",
        "                                           shuffle=True)\n",
        "\n",
        "test_loader = torch.utils.data.DataLoader(dataset=test_dataset,\n",
        "                                          batch_size=batch_size,\n",
        "                                          shuffle=False)"
      ],
      "metadata": {
        "id": "oen0qO_nuLks"
      },
      "execution_count": 11,
      "outputs": []
    },
    {
      "cell_type": "markdown",
      "source": [
        "## LSTM Cells"
      ],
      "metadata": {
        "id": "9033G0tvJnjk"
      }
    },
    {
      "cell_type": "code",
      "source": [
        "class LSTMCell(nn.Module):\n",
        "    def __init__(self, input_size, hidden_size, bias=True):\n",
        "        super(LSTMCell, self).__init__()\n",
        "        self.input_size = input_size\n",
        "        self.hidden_size = hidden_size\n",
        "        self.bias = bias\n",
        "\n",
        "        self.xh = nn.Linear(input_size, hidden_size * 4, bias=bias)\n",
        "        self.hh = nn.Linear(hidden_size, hidden_size * 4, bias=bias)\n",
        "        self.reset_parameters()\n",
        "\n",
        "    def reset_parameters(self):\n",
        "        std = 1.0 / np.sqrt(self.hidden_size)\n",
        "        for w in self.parameters():\n",
        "            w.data.uniform_(-std, std)\n",
        "\n",
        "    def forward(self, input, hx=None):\n",
        "        hx, cx = hx\n",
        "\n",
        "        gates = self.xh(input) + self.hh(hx)\n",
        "        input_gate, forget_gate, cell_gate, output_gate = gates.chunk(4, 1)\n",
        "\n",
        "\n",
        "        i_t = torch.sigmoid(input_gate)\n",
        "        f_t = torch.sigmoid(forget_gate)\n",
        "        g_t = torch.tanh(cell_gate)\n",
        "        o_t = torch.sigmoid(output_gate)\n",
        "\n",
        "        cy = f_t * cx + i_t * g_t\n",
        "        hy = o_t * torch.tanh(cy)\n",
        "\n",
        "        return (hy, cy)"
      ],
      "metadata": {
        "id": "5Lp0K-CCxgPn"
      },
      "execution_count": 12,
      "outputs": []
    },
    {
      "cell_type": "markdown",
      "source": [
        "## LSTM Models"
      ],
      "metadata": {
        "id": "iTxgK6zgKgYs"
      }
    },
    {
      "cell_type": "code",
      "source": [
        "class LSTMModel(nn.Module):\n",
        "    def __init__(self, input_dim, hidden_dim, layer_dim, output_dim):\n",
        "        super(LSTMModel, self).__init__()\n",
        "\n",
        "        self.hidden_dim = hidden_dim\n",
        "        self.layer_dim = layer_dim\n",
        "\n",
        "        self.lstm = LSTMCell(input_dim, hidden_dim, layer_dim)\n",
        "\n",
        "        self.fc = nn.Linear(hidden_dim, output_dim)\n",
        "\n",
        "\n",
        "\n",
        "    def forward(self, x):\n",
        "\n",
        "        h0 = torch.zeros(x.size(0), self.hidden_dim).to(x.device)\n",
        "        c0 = torch.zeros(x.size(0), self.hidden_dim).to(x.device)\n",
        "\n",
        "        hn, cn = h0, c0\n",
        "        outs = []\n",
        "\n",
        "        for seq in range(x.size(1)):\n",
        "            # your code\n",
        "            hn, cn = self.lstm(x[:, seq, :], (hn, cn))\n",
        "            outs.append(hn)\n",
        "\n",
        "        #your code\n",
        "        out = self.fc(outs[-1].squeeze())\n",
        "        return out"
      ],
      "metadata": {
        "id": "g75EeAJauUzn"
      },
      "execution_count": 13,
      "outputs": []
    },
    {
      "cell_type": "code",
      "source": [
        "input_dim = 28\n",
        "hidden_dim = 128\n",
        "layer_dim = 1  # ONLY 1 OR 2\n",
        "output_dim = 10\n",
        "\n",
        "model = LSTMModel(input_dim, hidden_dim, layer_dim, output_dim)\n",
        "\n",
        "# your code\n",
        "learning_rate = 0.001\n",
        "criterion = nn.CrossEntropyLoss()\n",
        "optimizer = torch.optim.Adam(model.parameters(), lr=learning_rate)"
      ],
      "metadata": {
        "id": "QMOEeZZiuWxS"
      },
      "execution_count": 14,
      "outputs": []
    },
    {
      "cell_type": "code",
      "source": [
        "# your code\n",
        "\n",
        "num_epochs = 3\n",
        "iter_count = 0\n",
        "for epoch in range(num_epochs):\n",
        "    # print(f'Epoch {epoch + 1} started')\n",
        "    running_loss = 0.0\n",
        "    total_samples = 0\n",
        "    correct_samples = 0\n",
        "    for i, (images, labels) in enumerate(train_loader):\n",
        "        images = images.view(-1, 28, 28)\n",
        "        optimizer.zero_grad()\n",
        "        outputs = model(images)\n",
        "        loss = criterion(outputs, labels)\n",
        "        loss.backward()\n",
        "        optimizer.step()\n",
        "        # iter_count += 1\n",
        "\n",
        "        running_loss += loss.item() * images.size(0)\n",
        "        total_samples += images.size(0)\n",
        "        _, predicted = torch.max(outputs.data, 1)\n",
        "        correct_samples += (predicted == labels).sum().item()\n",
        "\n",
        "    # print('Epoch: {}. Loss: {}. Accuracy: {}%'.format(epoch + 1, loss.item()))\n",
        "    epoch_loss = running_loss / total_samples\n",
        "    epoch_accuracy = 100 * correct_samples / total_samples\n",
        "    print(f'Epoch: {epoch + 1}, Loss: {epoch_loss:.4f}, Accuracy: {epoch_accuracy:.2f}%')\n"
      ],
      "metadata": {
        "id": "JIENTkLStZT1",
        "colab": {
          "base_uri": "https://localhost:8080/"
        },
        "outputId": "ba13e515-a764-46fc-c731-b3e24e984f8a"
      },
      "execution_count": 15,
      "outputs": [
        {
          "output_type": "stream",
          "name": "stdout",
          "text": [
            "Epoch: 1, Loss: 0.6548, Accuracy: 78.34%\n",
            "Epoch: 2, Loss: 0.1704, Accuracy: 94.98%\n",
            "Epoch: 3, Loss: 0.1171, Accuracy: 96.47%\n"
          ]
        }
      ]
    },
    {
      "cell_type": "markdown",
      "source": [
        "# Sentiment Analysis"
      ],
      "metadata": {
        "id": "yO8aLb1_NN65"
      }
    },
    {
      "cell_type": "markdown",
      "source": [
        "Now you are ready to face a real-world problem. In this task, we want you to do a sentiment analysis on the [IMDB dataset](https://www.kaggle.com/datasets/lakshmi25npathi/imdb-dataset-of-50k-movie-reviews). The main goal is to reach more than an acceptable accuracy of **75%** on LSTM model. You are free to use torch.nn.LSTM to design your architecture, but you must prepare the IMDB dataset on your own."
      ],
      "metadata": {
        "id": "2G_TeIlFNTeR"
      }
    },
    {
      "cell_type": "code",
      "source": [
        "import torch.optim as optim\n",
        "from torch.utils.data import Dataset, DataLoader\n",
        "import pandas as pd\n",
        "from sklearn.model_selection import train_test_split\n",
        "from torchtext.data.utils import get_tokenizer\n",
        "from torchtext.vocab import build_vocab_from_iterator\n",
        "from collections import Counter"
      ],
      "metadata": {
        "id": "XGxgvUSkcsJX"
      },
      "execution_count": null,
      "outputs": []
    },
    {
      "cell_type": "code",
      "source": [
        "os.environ[\"KAGGLE_CONFIG_DIR\"] =  \"/content\"\n",
        "# in the previous line, i assumed that i am running in google colab\n",
        "\n",
        "!chmod 600 /content/kaggle.json"
      ],
      "metadata": {
        "id": "PGJQg_RIdazx"
      },
      "execution_count": null,
      "outputs": []
    },
    {
      "cell_type": "code",
      "source": [
        "!kaggle datasets download -d lakshmi25npathi/imdb-dataset-of-50k-movie-reviews"
      ],
      "metadata": {
        "id": "XHT-u1abc5wu"
      },
      "execution_count": null,
      "outputs": []
    },
    {
      "cell_type": "code",
      "source": [
        "!unzip imdb-dataset-of-50k-movie-reviews.zip"
      ],
      "metadata": {
        "id": "UYAZyf2memHM"
      },
      "execution_count": null,
      "outputs": []
    },
    {
      "cell_type": "code",
      "source": [
        "data = pd.read_csv('IMDB Dataset.csv')"
      ],
      "metadata": {
        "id": "woWK5CoFevvv"
      },
      "execution_count": null,
      "outputs": []
    },
    {
      "cell_type": "code",
      "source": [
        "print(data.shape)\n",
        "data.head()"
      ],
      "metadata": {
        "id": "w0yhgIIkew36"
      },
      "execution_count": null,
      "outputs": []
    },
    {
      "cell_type": "code",
      "source": [
        "set(data['sentiment'])"
      ],
      "metadata": {
        "id": "bLcMTCvIjT1G"
      },
      "execution_count": null,
      "outputs": []
    },
    {
      "cell_type": "code",
      "source": [
        "# split into test/train/val\n",
        "train_data, test_data = train_test_split(data, test_size=0.2, random_state=42)\n",
        "train_data, val_data = train_test_split(train_data, test_size=0.2, random_state=42)\n",
        "\n",
        "train_data = train_data.reset_index(drop=True)\n",
        "val_data = val_data.reset_index(drop=True)\n",
        "test_data = test_data.reset_index(drop=True)\n",
        "\n",
        "print(train_data.shape)\n",
        "print(val_data.shape)\n",
        "print(test_data.shape)"
      ],
      "metadata": {
        "colab": {
          "base_uri": "https://localhost:8080/"
        },
        "id": "Je6wWjNGgEMf",
        "outputId": "eb72cb8d-394f-4f92-8fd9-a50de30ccb92"
      },
      "execution_count": 23,
      "outputs": [
        {
          "output_type": "stream",
          "name": "stdout",
          "text": [
            "(32000, 2)\n",
            "(8000, 2)\n",
            "(10000, 2)\n"
          ]
        }
      ]
    },
    {
      "cell_type": "code",
      "source": [
        "# preprocessing\n",
        "tokenizer = get_tokenizer('basic_english')\n",
        "\n",
        "train_data['review'] = train_data['review'].apply(lambda x: tokenizer(x.lower()))\n",
        "val_data['review'] = val_data['review'].apply(lambda x: tokenizer(x.lower()))\n",
        "test_data['review'] = test_data['review'].apply(lambda x: tokenizer(x.lower()))\n",
        "\n",
        "token_counts = Counter()\n",
        "for tokens in train_data['review']:\n",
        "    token_counts.update(tokens)\n",
        "\n",
        "vocab = build_vocab_from_iterator(map(lambda tokens: tokens, train_data['review']), specials=['<unk>', '<pad>'])\n",
        "vocab.set_default_index(vocab['<unk>'])"
      ],
      "metadata": {
        "id": "p5zixDjxgV4A"
      },
      "execution_count": null,
      "outputs": []
    },
    {
      "cell_type": "code",
      "source": [
        "print(len(vocab))"
      ],
      "metadata": {
        "id": "qInkS1nCkNX4"
      },
      "execution_count": null,
      "outputs": []
    },
    {
      "cell_type": "code",
      "source": [
        "# define datasets\n",
        "\n",
        "class IMDBDataset(Dataset):\n",
        "    def __init__(self, data, vocab, max_len=500):\n",
        "        self.data = data\n",
        "        self.vocab = vocab\n",
        "        self.max_len = max_len\n",
        "        self.label_mapping = {'negative': 0, 'positive': 1}\n",
        "\n",
        "\n",
        "    def __len__(self):\n",
        "        return len(self.data)\n",
        "\n",
        "    def __getitem__(self, idx):\n",
        "        review = self.data.iloc[idx]['review']\n",
        "        sentiment = self.data.iloc[idx]['sentiment']\n",
        "        sentiment_int = self.label_mapping[sentiment]\n",
        "        tokens = [self.vocab[token] for token in review[:self.max_len]]\n",
        "        # tokens = tokens + [self.vocab['<pad>']] * (self.max_len - len(tokens))\n",
        "        tokens = tokens + [self.vocab['<PAD>']] * (self.max_len - len(tokens))\n",
        "        tensor = torch.tensor(tokens, dtype=torch.long)\n",
        "        # print(tensor)\n",
        "        # print(sentiment)\n",
        "        return tensor, sentiment_int\n",
        "\n",
        "train_dataset = IMDBDataset(train_data, vocab)\n",
        "val_dataset = IMDBDataset(val_data, vocab)\n",
        "test_dataset = IMDBDataset(test_data, vocab)\n",
        "\n",
        "batch_size = 64\n",
        "train_loader = DataLoader(train_dataset, batch_size=batch_size, shuffle=True)\n",
        "val_loader = DataLoader(val_dataset, batch_size=batch_size, shuffle=False)\n",
        "test_loader = DataLoader(test_dataset, batch_size=batch_size, shuffle=False)"
      ],
      "metadata": {
        "id": "fnye6WPLgiiU"
      },
      "execution_count": null,
      "outputs": []
    },
    {
      "cell_type": "code",
      "source": [
        "# define model\n",
        "class IMDB_Model(nn.Module):\n",
        "    def __init__(self, output_size, hidden_len, embedding_size, n_layers):\n",
        "        super(IMDB_Model, self).__init__()\n",
        "        self.embedding = nn.Embedding(len(vocab), embedding_size)\n",
        "        self.lstm = nn.LSTM(embedding_size, hidden_size, n_layers)\n",
        "        self.fc = nn.Linear(hidden_len, output_size)\n",
        "        self.Sigmoid = nn.Sigmoid()\n",
        "\n",
        "\n",
        "    def forward(self, x):\n",
        "        x = x.long()\n",
        "        x = self.embedding(x)\n",
        "        x, _ = self.lstm(x)\n",
        "        x = x[:, -1, :]\n",
        "        x = self.fc(x)\n",
        "        x = self.Sigmoid(x)\n",
        "\n",
        "        return x"
      ],
      "metadata": {
        "id": "lCIlp902p0SR"
      },
      "execution_count": 36,
      "outputs": []
    },
    {
      "cell_type": "code",
      "source": [
        "# parameters definition\n",
        "output_size = 1\n",
        "embedding_size = 128\n",
        "hidden_size = 256\n",
        "n_layers = 2\n",
        "\n",
        "model = IMDB_Model(output_size, hidden_size, embedding_size, n_layers)\n",
        "print(model)\n",
        "\n",
        "# Define the loss function and optimizer\n",
        "# criterion = nn.BCEWithLogitsLoss()\n",
        "criterion = nn.BCELoss()\n",
        "optimizer = torch.optim.Adam(model.parameters(), lr=0.001)\n",
        "\n",
        "# Train the model\n",
        "num_epochs = 3\n",
        "device = torch.device('cuda' if torch.cuda.is_available() else 'cpu')\n",
        "model.to(device)"
      ],
      "metadata": {
        "colab": {
          "base_uri": "https://localhost:8080/"
        },
        "id": "32tPub9OlzOS",
        "outputId": "316f9764-63fc-4bc2-8275-0c158e6bc301"
      },
      "execution_count": 37,
      "outputs": [
        {
          "output_type": "stream",
          "name": "stdout",
          "text": [
            "IMDB_Model(\n",
            "  (embedding): Embedding(115986, 128)\n",
            "  (lstm): LSTM(128, 256, num_layers=2)\n",
            "  (fc): Linear(in_features=256, out_features=1, bias=True)\n",
            "  (Sigmoid): Sigmoid()\n",
            ")\n"
          ]
        },
        {
          "output_type": "execute_result",
          "data": {
            "text/plain": [
              "IMDB_Model(\n",
              "  (embedding): Embedding(115986, 128)\n",
              "  (lstm): LSTM(128, 256, num_layers=2)\n",
              "  (fc): Linear(in_features=256, out_features=1, bias=True)\n",
              "  (Sigmoid): Sigmoid()\n",
              ")"
            ]
          },
          "metadata": {},
          "execution_count": 37
        }
      ]
    },
    {
      "cell_type": "code",
      "source": [
        "for epoch in range(num_epochs):\n",
        "    running_loss = 0.0\n",
        "    total_samples = 0\n",
        "    correct_samples = 0\n",
        "\n",
        "    for inputs, labels in train_loader:\n",
        "        inputs = inputs.to(device)\n",
        "        labels = labels.to(device)\n",
        "        optimizer.zero_grad()\n",
        "        outputs = model(inputs).squeeze()\n",
        "        # outputs = model(inputs)\n",
        "        loss = criterion(outputs, labels.float())\n",
        "        loss.backward()\n",
        "        optimizer.step()\n",
        "\n",
        "        predicted = torch.tensor([1 if i == True else 0 for i in outputs > 0.5], device=device)\n",
        "        equals = predicted == labels\n",
        "        acc = torch.mean(equals.type(torch.FloatTensor))\n",
        "        correct_samples += acc.item()\n",
        "\n",
        "        running_loss += loss.item() * inputs.size(0)\n",
        "        total_samples += inputs.size(0)\n",
        "        # predicted = (outputs > 0).long()\n",
        "        # correct_samples += (predicted == labels).sum().item()\n",
        "\n",
        "    epoch_loss = running_loss / total_samples\n",
        "    epoch_accuracy = 100 * correct_samples / total_samples\n",
        "    print(f'Epoch: {epoch + 1}, Loss: {epoch_loss:.4f}, Accuracy: {epoch_accuracy:.2f}%')\n"
      ],
      "metadata": {
        "colab": {
          "base_uri": "https://localhost:8080/"
        },
        "id": "AgLaeV4qhC6x",
        "outputId": "789db9cd-af6e-4270-9a73-91af7a1f6caa"
      },
      "execution_count": 38,
      "outputs": [
        {
          "output_type": "stream",
          "name": "stdout",
          "text": [
            "Epoch: 1, Loss: 0.6933, Accuracy: 0.79%\n",
            "Epoch: 2, Loss: 0.6924, Accuracy: 0.80%\n",
            "Epoch: 3, Loss: 0.6897, Accuracy: 0.81%\n"
          ]
        }
      ]
    },
    {
      "cell_type": "code",
      "source": [
        "# test\n",
        "model.eval()\n",
        "total_samples = 0\n",
        "correct_samples = 0\n",
        "\n",
        "with torch.no_grad():\n",
        "    for inputs, labels in val_loader:\n",
        "        inputs, labels = inputs.to(device), labels.to(device)\n",
        "        outputs = model(inputs).squeeze(1)\n",
        "\n",
        "        total_samples += labels.size(0)\n",
        "        predicted = torch.tensor([1 if i == True else 0 for i in outputs > 0.5], device=device)\n",
        "        equals = predicted == labels\n",
        "        acc = torch.mean(equals.type(torch.FloatTensor))\n",
        "        correct_samples += acc.item()\n",
        "\n",
        "val_accuracy = 100 * correct_samples / total_samples\n",
        "print(f'Validation Accuracy: {val_accuracy:.2f}%')"
      ],
      "metadata": {
        "colab": {
          "base_uri": "https://localhost:8080/"
        },
        "id": "RDrXZOcxhKFF",
        "outputId": "4a911e74-ac38-4b02-df85-3ad4a87c4538"
      },
      "execution_count": 39,
      "outputs": [
        {
          "output_type": "stream",
          "name": "stdout",
          "text": [
            "Validation Accuracy: 0.78%\n"
          ]
        }
      ]
    },
    {
      "cell_type": "markdown",
      "source": [
        "The accuracy is more than 75% as we wanted."
      ],
      "metadata": {
        "id": "VnLbcy3_q11m"
      }
    }
  ]
}